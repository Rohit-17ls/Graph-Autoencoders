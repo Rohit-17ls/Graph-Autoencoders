{
 "cells": [
  {
   "cell_type": "code",
   "execution_count": 9,
   "id": "e8692fb4",
   "metadata": {},
   "outputs": [],
   "source": [
    "import torch\n",
    "import numpy as np\n",
    "import cv2\n",
    "import random\n",
    "import matplotlib.pyplot as plt"
   ]
  },
  {
   "cell_type": "markdown",
   "id": "c732772a",
   "metadata": {},
   "source": [
    "## Create a dummy dataset"
   ]
  },
  {
   "cell_type": "code",
   "execution_count": 305,
   "id": "86e23c91",
   "metadata": {},
   "outputs": [],
   "source": [
    "# square_size -> (min_size, max_size)\n",
    "\n",
    "def generate_datapoint(size = (28, 28), square_size = (3, 7)):\n",
    "    \n",
    "    assert square_size[0] < size[0] and square_size[0] < size[1]\n",
    "    assert square_size[1] < size[0] and square_size[1] < size[1]\n",
    "    \n",
    "    img = np.zeros(size)\n",
    "    \n",
    "    random_square_size = random.randint(*square_size)\n",
    "    \n",
    "    x_pos = random.randint(0, size[1] - random_square_size)\n",
    "    y_pos = random.randint(0, size[0] - random_square_size)\n",
    "    \n",
    "    img[x_pos:x_pos + random_square_size, y_pos:y_pos + random_square_size] = 1.0\n",
    "    \n",
    "    return img, x_pos, y_pos, random_square_size\n",
    "\n",
    "\n",
    "def generate_dataset(n = 3000, size = (28, 28), square_size = (3, 7)):\n",
    "    x = []\n",
    "    y = []\n",
    "    \n",
    "    for _ in range(n):\n",
    "        img, x_pos, y_pos, spot_size = generate_datapoint(size, square_size)\n",
    "        x.append(img)\n",
    "        y.append([x_pos, y_pos, spot_size])\n",
    "        \n",
    "    return np.array(x), np.array(y)"
   ]
  },
  {
   "cell_type": "code",
   "execution_count": 306,
   "id": "a45def40",
   "metadata": {},
   "outputs": [],
   "source": [
    "X, y = generate_dataset(n = 3000, size = (34, 34), square_size = (3, 7))"
   ]
  },
  {
   "cell_type": "code",
   "execution_count": 344,
   "id": "56898270",
   "metadata": {},
   "outputs": [],
   "source": [
    "X_val, y_val = generate_dataset(n = 512, size = (34, 34), square_size = (3, 7))"
   ]
  },
  {
   "cell_type": "markdown",
   "id": "2d48002a",
   "metadata": {},
   "source": [
    "## Define Autoencoder Model"
   ]
  },
  {
   "cell_type": "code",
   "execution_count": 172,
   "id": "5b581dbc",
   "metadata": {},
   "outputs": [],
   "source": [
    "import torch.nn as nn\n",
    "import torch.nn.functional as F\n",
    "import torch.optim as optim"
   ]
  },
  {
   "cell_type": "code",
   "execution_count": null,
   "id": "7b07914a",
   "metadata": {},
   "outputs": [],
   "source": [
    "# import torch\n",
    "# import torch.nn as nn\n",
    "\n",
    "# class Autoencoder(nn.Module):\n",
    "    \n",
    "#     def __init__(self):\n",
    "#         super(Autoencoder, self).__init__()\n",
    "        \n",
    "#         self.is_log_mode = False\n",
    "        \n",
    "#         self.e1 = nn.Sequential(\n",
    "#             nn.Conv2d(1, 16, 3),\n",
    "#             nn.BatchNorm2d(16),  # Add BatchNorm2d after Conv2d\n",
    "#             nn.LeakyReLU(inplace=True),\n",
    "#             nn.MaxPool2d(2, 2)\n",
    "#         )\n",
    "        \n",
    "#         self.e2 = nn.Sequential(\n",
    "#             nn.Conv2d(16, 32, 3),\n",
    "#             nn.BatchNorm2d(32),  # Add BatchNorm2d after Conv2d\n",
    "#             nn.LeakyReLU(inplace=True),\n",
    "#             nn.MaxPool2d(2, 2)\n",
    "#         )\n",
    "            \n",
    "#         self.e3 = nn.Sequential(\n",
    "#             nn.Conv2d(32, 64, 3),\n",
    "#             nn.BatchNorm2d(64),  # Add BatchNorm2d after Conv2d\n",
    "#             nn.LeakyReLU(inplace=True)\n",
    "#         )\n",
    "            \n",
    "#         self.e4 = nn.Sequential(\n",
    "#             nn.Flatten(),\n",
    "#             nn.Linear(5 * 5 * 64, 512),\n",
    "#             nn.BatchNorm1d(512),  # Add BatchNorm1d after Linear layer\n",
    "#             nn.LeakyReLU(inplace=True)\n",
    "#         )\n",
    "        \n",
    "#         self.e5 = nn.Sequential(\n",
    "#             nn.Linear(512, 128),\n",
    "#             nn.BatchNorm1d(128),  # Add BatchNorm1d after Linear layer\n",
    "#             nn.LeakyReLU(inplace=True),\n",
    "#             nn.Linear(128, 64),\n",
    "#             nn.BatchNorm1d(64),  # Add BatchNorm1d after Linear layer\n",
    "#         )\n",
    "        \n",
    "#         self.decoder = nn.Sequential(\n",
    "#             nn.Linear(64, 128),\n",
    "#             nn.BatchNorm1d(128),  # Add BatchNorm1d after Linear layer\n",
    "#             nn.LeakyReLU(inplace=True),\n",
    "\n",
    "#             nn.Linear(128, 512),\n",
    "#             nn.BatchNorm1d(512),  # Add BatchNorm1d after Linear layer\n",
    "#             nn.LeakyReLU(inplace=True),\n",
    "\n",
    "#             nn.Linear(512, 64 * 5 * 5),\n",
    "#             nn.ReLU(inplace=True),\n",
    "\n",
    "#             nn.Unflatten(1, (64, 5, 5)),  # Match the shape after last Conv2d in encoder\n",
    "            \n",
    "#             nn.ConvTranspose2d(64, 32, 3),\n",
    "#             nn.BatchNorm2d(32),  # Add BatchNorm2d after ConvTranspose2d\n",
    "#             nn.LeakyReLU(inplace=True),\n",
    "#             nn.Upsample(scale_factor=2, mode='nearest'),  # Reverse MaxPool2d\n",
    "#             nn.ConvTranspose2d(32, 16, 3),\n",
    "#             nn.BatchNorm2d(16),  # Add BatchNorm2d after ConvTranspose2d\n",
    "#             nn.LeakyReLU(inplace=True),\n",
    "#             nn.Upsample(scale_factor=2, mode='nearest'),\n",
    "            \n",
    "#             nn.ConvTranspose2d(16, 1, 3),\n",
    "#             nn.Sigmoid()\n",
    "#         )\n",
    "        \n",
    "#         self.encoder = [self.e1, self.e2, self.e3, self.e4, self.e5]\n",
    "        \n",
    "#     def forward(self, x):\n",
    "#         for e in self.encoder:\n",
    "#             x = e(x)\n",
    "#             if self.is_log_mode:\n",
    "#                 print(x)\n",
    "            \n",
    "#         encoded = x\n",
    "#         decoded = self.decoder(encoded)\n",
    "        \n",
    "#         return decoded, encoded\n",
    "    \n",
    "#     def _initialize_weights(self):\n",
    "#         for m in self.modules():\n",
    "#             if isinstance(m, (nn.Conv2d, nn.ConvTranspose2d)):\n",
    "#                 nn.init.kaiming_normal_(m.weight, mode='fan_in', nonlinearity='leaky_relu')\n",
    "#                 if m.bias is not None:\n",
    "#                     nn.init.zeros_(m.bias)\n",
    "#             elif isinstance(m, nn.Linear):\n",
    "#                 nn.init.kaiming_normal_(m.weight, mode='fan_in', nonlinearity='leaky_relu')\n",
    "#                 if m.bias is not None:\n",
    "#                     nn.init.zeros_(m.bias)\n",
    "        \n",
    "#     def log_mode(self, val):\n",
    "#         assert type(val) == bool\n",
    "#         self.is_log_mode = val\n"
   ]
  },
  {
   "cell_type": "markdown",
   "id": "ff302703",
   "metadata": {},
   "source": [
    "### Version 2"
   ]
  },
  {
   "cell_type": "code",
   "execution_count": 273,
   "id": "8cedb77c",
   "metadata": {},
   "outputs": [],
   "source": [
    "import torch\n",
    "import torch.nn as nn\n",
    "\n",
    "class Autoencoder(nn.Module):\n",
    "    \n",
    "    def __init__(self):\n",
    "        super(Autoencoder, self).__init__()\n",
    "        \n",
    "        self.is_log_mode = False\n",
    "        \n",
    "        self.e1 = nn.Sequential(\n",
    "            nn.Conv2d(1, 16, 3),\n",
    "            nn.BatchNorm2d(16),  # Add BatchNorm2d after Conv2d\n",
    "            nn.LeakyReLU(inplace=True),\n",
    "            nn.MaxPool2d(2, 2)\n",
    "        )\n",
    "        \n",
    "        self.e2 = nn.Sequential(\n",
    "            nn.Conv2d(16, 32, 3),\n",
    "            nn.BatchNorm2d(32),  # Add BatchNorm2d after Conv2d\n",
    "            nn.LeakyReLU(inplace=True),\n",
    "            nn.MaxPool2d(2, 2)\n",
    "        )\n",
    "            \n",
    "        self.e3 = nn.Sequential(\n",
    "            nn.Flatten(),\n",
    "            nn.Linear(32 * 7 * 7, 512),\n",
    "            nn.BatchNorm1d(512),  # Add BatchNorm1d after Linear layer\n",
    "            nn.LeakyReLU(inplace=True)\n",
    "        )\n",
    "        \n",
    "        self.e4 = nn.Sequential(\n",
    "            nn.Linear(512, 64),\n",
    "            nn.BatchNorm1d(64),  # Add BatchNorm1d after Linear layer\n",
    "        )\n",
    "        \n",
    "        self.decoder = nn.Sequential(\n",
    "            nn.Linear(64, 512),\n",
    "            nn.BatchNorm1d(512),  # Add BatchNorm1d after Linear layer\n",
    "            nn.LeakyReLU(inplace=True),\n",
    "\n",
    "            nn.Linear(512, 32 * 7 * 7),\n",
    "            nn.LeakyReLU(inplace=True),\n",
    "\n",
    "            nn.Unflatten(1, (32, 7, 7)),  # Match the shape after last Conv2d in encoder\n",
    "            \n",
    "            nn.ConvTranspose2d(32, 16, 3),\n",
    "            nn.BatchNorm2d(16),  # Add BatchNorm2d after ConvTranspose2d\n",
    "            nn.LeakyReLU(inplace=True),\n",
    "            nn.Upsample(scale_factor=2, mode='nearest'),\n",
    "            \n",
    "            nn.ConvTranspose2d(16, 1, 3),\n",
    "            nn.Sigmoid()\n",
    "        )\n",
    "        \n",
    "        self.encoder = [self.e1, self.e2, self.e3, self.e4]\n",
    "        \n",
    "    def forward(self, x):\n",
    "        for e in self.encoder:\n",
    "            x = e(x)\n",
    "            if self.is_log_mode:\n",
    "                print(x)\n",
    "            \n",
    "        encoded = x\n",
    "        decoded = self.decoder(encoded)\n",
    "        \n",
    "        return decoded, encoded\n",
    "    \n",
    "    def _initialize_weights(self):\n",
    "        for m in self.modules():\n",
    "            if isinstance(m, (nn.Conv2d, nn.ConvTranspose2d)):\n",
    "                nn.init.kaiming_normal_(m.weight, mode='fan_in', nonlinearity='leaky_relu')\n",
    "                if m.bias is not None:\n",
    "                    nn.init.zeros_(m.bias)\n",
    "            elif isinstance(m, nn.Linear):\n",
    "                nn.init.kaiming_normal_(m.weight, mode='fan_in', nonlinearity='leaky_relu')\n",
    "                if m.bias is not None:\n",
    "                    nn.init.zeros_(m.bias)\n",
    "        \n",
    "    def log_mode(self, val):\n",
    "        assert type(val) == bool\n",
    "        self.is_log_mode = val\n"
   ]
  },
  {
   "cell_type": "markdown",
   "id": "0596af7e",
   "metadata": {},
   "source": [
    "### Version 3"
   ]
  },
  {
   "cell_type": "code",
   "execution_count": 340,
   "id": "88c26fac",
   "metadata": {},
   "outputs": [],
   "source": [
    "import torch\n",
    "import torch.nn as nn\n",
    "\n",
    "class Autoencoder(nn.Module):\n",
    "    \n",
    "    def __init__(self):\n",
    "        super(Autoencoder, self).__init__()\n",
    "        \n",
    "        self.is_log_mode = False\n",
    "        \n",
    "        self.encoder = nn.Sequential(\n",
    "            nn.Conv2d(1, 16, 3),\n",
    "            nn.BatchNorm2d(16),  # Add BatchNorm2d after Conv2d\n",
    "            nn.LeakyReLU(inplace=True),\n",
    "            nn.MaxPool2d(2, 2),\n",
    "            \n",
    "            nn.Flatten(),\n",
    "            nn.Linear(16 * 16 * 16, 256),\n",
    "            nn.BatchNorm1d(256),  # Add BatchNorm1d after Linear layer\n",
    "            nn.LeakyReLU(inplace=True),\n",
    "            \n",
    "            nn.Linear(256, 64),\n",
    "            nn.BatchNorm1d(64),  # Add BatchNorm1d after Linear layer\n",
    "            \n",
    "        )\n",
    "        \n",
    "        self.decoder = nn.Sequential(\n",
    "            nn.Linear(64, 256),\n",
    "            nn.BatchNorm1d(256),  # Add BatchNorm1d after Linear layer\n",
    "            nn.LeakyReLU(inplace=True),\n",
    "\n",
    "            nn.Linear(256, 16 * 16 * 16),\n",
    "            nn.LeakyReLU(inplace=True),\n",
    "\n",
    "            nn.Unflatten(1, (16, 16, 16)),  # Match the shape after last Conv2d in encoder\n",
    "            \n",
    "            nn.ConvTranspose2d(16, 1, 3),\n",
    "            nn.Upsample(scale_factor= 34/18, mode='nearest'),\n",
    "    \n",
    "            nn.Sigmoid()\n",
    "        )\n",
    "                \n",
    "    def forward(self, x):\n",
    "    \n",
    "        encoded = self.encoder(x)\n",
    "        decoded = self.decoder(encoded)\n",
    "        \n",
    "        return decoded, encoded\n",
    "    \n",
    "    def _initialize_weights(self):\n",
    "        for m in self.modules():\n",
    "            if isinstance(m, (nn.Conv2d, nn.ConvTranspose2d)):\n",
    "                nn.init.kaiming_normal_(m.weight, mode='fan_in', nonlinearity='leaky_relu')\n",
    "                if m.bias is not None:\n",
    "                    nn.init.zeros_(m.bias)\n",
    "            elif isinstance(m, nn.Linear):\n",
    "                nn.init.kaiming_normal_(m.weight, mode='fan_in', nonlinearity='leaky_relu')\n",
    "                if m.bias is not None:\n",
    "                    nn.init.zeros_(m.bias)\n",
    "        \n",
    "    def log_mode(self, val):\n",
    "        assert type(val) == bool\n",
    "        self.is_log_mode = val\n"
   ]
  },
  {
   "cell_type": "code",
   "execution_count": 341,
   "id": "6bbea1a2",
   "metadata": {},
   "outputs": [],
   "source": [
    "ae_model = Autoencoder()"
   ]
  },
  {
   "cell_type": "code",
   "execution_count": 342,
   "id": "95eb7177",
   "metadata": {},
   "outputs": [],
   "source": [
    "ae_criterion = nn.MSELoss()\n",
    "ae_optimizer = optim.NAdam(ae_model.parameters(), lr = 1e-5)"
   ]
  },
  {
   "cell_type": "markdown",
   "id": "cb62714b",
   "metadata": {},
   "source": [
    "## Train AE"
   ]
  },
  {
   "cell_type": "code",
   "execution_count": 343,
   "id": "951ad279",
   "metadata": {},
   "outputs": [
    {
     "name": "stdout",
     "output_type": "stream",
     "text": [
      "Loss after 0 epochs : 0.23170214891433716\n",
      "Loss after 1 epochs : 0.18010444939136505\n",
      "Loss after 2 epochs : 0.14154808223247528\n",
      "Loss after 3 epochs : 0.11221329122781754\n",
      "Loss after 4 epochs : 0.09004747122526169\n",
      "Loss after 5 epochs : 0.07359183579683304\n",
      "Loss after 6 epochs : 0.06146762892603874\n",
      "Loss after 7 epochs : 0.05249219387769699\n",
      "Loss after 8 epochs : 0.045764531940221786\n",
      "Loss after 9 epochs : 0.04062795639038086\n",
      "Loss after 10 epochs : 0.03665453568100929\n",
      "Loss after 11 epochs : 0.033482883125543594\n",
      "Loss after 12 epochs : 0.030888672918081284\n",
      "Loss after 13 epochs : 0.028710266575217247\n",
      "Loss after 14 epochs : 0.026849087327718735\n",
      "Loss after 15 epochs : 0.025223249569535255\n",
      "Loss after 16 epochs : 0.023786649107933044\n",
      "Loss after 17 epochs : 0.022501183673739433\n",
      "Loss after 18 epochs : 0.021335825324058533\n",
      "Loss after 19 epochs : 0.020270999521017075\n",
      "Loss after 20 epochs : 0.019292887300252914\n",
      "Loss after 21 epochs : 0.018389925360679626\n",
      "Loss after 22 epochs : 0.01755494438111782\n",
      "Loss after 23 epochs : 0.016782013699412346\n",
      "Loss after 24 epochs : 0.016062192618846893\n",
      "Loss after 25 epochs : 0.01538805291056633\n",
      "Loss after 26 epochs : 0.014762356877326965\n",
      "Loss after 27 epochs : 0.014178883284330368\n",
      "Loss after 28 epochs : 0.013637270778417587\n",
      "Loss after 29 epochs : 0.013132816180586815\n",
      "Loss after 30 epochs : 0.012664335779845715\n",
      "Loss after 31 epochs : 0.01222559530287981\n",
      "Loss after 32 epochs : 0.011816851794719696\n",
      "Loss after 33 epochs : 0.011434501968324184\n",
      "Loss after 34 epochs : 0.01107436791062355\n",
      "Loss after 35 epochs : 0.010737068951129913\n",
      "Loss after 36 epochs : 0.010421312414109707\n",
      "Loss after 37 epochs : 0.010123075917363167\n",
      "Loss after 38 epochs : 0.00984135176986456\n",
      "Loss after 39 epochs : 0.009575646370649338\n",
      "Loss after 40 epochs : 0.009326396510004997\n",
      "Loss after 41 epochs : 0.009090233594179153\n",
      "Loss after 42 epochs : 0.008866628631949425\n",
      "Loss after 43 epochs : 0.008654254488646984\n",
      "Loss after 44 epochs : 0.00845421850681305\n",
      "Loss after 45 epochs : 0.008264853619039059\n",
      "Loss after 46 epochs : 0.008084569126367569\n",
      "Loss after 47 epochs : 0.007915214635431767\n",
      "Loss after 48 epochs : 0.007754876744002104\n",
      "Loss after 49 epochs : 0.007600456941872835\n",
      "Loss after 50 epochs : 0.007450410630553961\n",
      "Loss after 51 epochs : 0.007305392529815435\n",
      "Loss after 52 epochs : 0.007162991911172867\n",
      "Loss after 53 epochs : 0.007023966405540705\n",
      "Loss after 54 epochs : 0.0068918620236217976\n",
      "Loss after 55 epochs : 0.006764431484043598\n",
      "Loss after 56 epochs : 0.006643070839345455\n",
      "Loss after 57 epochs : 0.0065322755835950375\n",
      "Loss after 58 epochs : 0.006427622865885496\n",
      "Loss after 59 epochs : 0.006328640505671501\n",
      "Loss after 60 epochs : 0.006234604865312576\n",
      "Loss after 61 epochs : 0.006147066131234169\n",
      "Loss after 62 epochs : 0.006062307395040989\n",
      "Loss after 63 epochs : 0.00598151283338666\n",
      "Loss after 64 epochs : 0.005902735982090235\n",
      "Loss after 65 epochs : 0.00582608487457037\n",
      "Loss after 66 epochs : 0.005750227719545364\n",
      "Loss after 67 epochs : 0.0056777759455144405\n",
      "Loss after 68 epochs : 0.005607464350759983\n",
      "Loss after 69 epochs : 0.005540329497307539\n",
      "Loss after 70 epochs : 0.005473419092595577\n",
      "Loss after 71 epochs : 0.005409504286944866\n",
      "Loss after 72 epochs : 0.005346372257918119\n",
      "Loss after 73 epochs : 0.005284556653350592\n",
      "Loss after 74 epochs : 0.0052238148637115955\n",
      "Loss after 75 epochs : 0.005164759699255228\n",
      "Loss after 76 epochs : 0.005109218414872885\n",
      "Loss after 77 epochs : 0.005056805908679962\n",
      "Loss after 78 epochs : 0.005004772916436195\n",
      "Loss after 79 epochs : 0.004953381605446339\n",
      "Loss after 80 epochs : 0.004902373533695936\n",
      "Loss after 81 epochs : 0.00485156150534749\n",
      "Loss after 82 epochs : 0.004803940653800964\n",
      "Loss after 83 epochs : 0.004757729358971119\n",
      "Loss after 84 epochs : 0.0047133006155490875\n",
      "Loss after 85 epochs : 0.004672279115766287\n",
      "Loss after 86 epochs : 0.004632718861103058\n",
      "Loss after 87 epochs : 0.004594995174556971\n",
      "Loss after 88 epochs : 0.004560083616524935\n",
      "Loss after 89 epochs : 0.00452578067779541\n",
      "Loss after 90 epochs : 0.004493276588618755\n",
      "Loss after 91 epochs : 0.0044633024372160435\n",
      "Loss after 92 epochs : 0.004433507099747658\n",
      "Loss after 93 epochs : 0.004405138082802296\n",
      "Loss after 94 epochs : 0.004376745782792568\n",
      "Loss after 95 epochs : 0.004350157454609871\n",
      "Loss after 96 epochs : 0.004323786590248346\n",
      "Loss after 97 epochs : 0.004296820145100355\n",
      "Loss after 98 epochs : 0.004271344281733036\n",
      "Loss after 99 epochs : 0.004244781099259853\n"
     ]
    }
   ],
   "source": [
    "batch_size = 32\n",
    "n_batches = X.shape[0]//batch_size\n",
    "n_epochs = 100\n",
    "losses = []\n",
    "\n",
    "for epoch in range(n_epochs):\n",
    "    \n",
    "    for batch_ind in range(0, n_batches):\n",
    "        \n",
    "        x = torch.Tensor(X[batch_ind * batch_size: (batch_ind + 1) * batch_size]).unsqueeze(1)\n",
    "        reconstructed, latent = ae_model(x)\n",
    "        loss = ae_criterion(reconstructed, x)\n",
    "\n",
    "        \n",
    "        ae_optimizer.zero_grad()\n",
    "        loss.backward()\n",
    "        ae_optimizer.step()\n",
    "        \n",
    "    losses.append(loss)\n",
    "    print(f\"Loss after {epoch} epochs : {losses[-1].item()}\")"
   ]
  },
  {
   "cell_type": "code",
   "execution_count": 349,
   "id": "e9a6a232",
   "metadata": {},
   "outputs": [
    {
     "data": {
      "text/plain": [
       "Autoencoder(\n",
       "  (encoder): Sequential(\n",
       "    (0): Conv2d(1, 16, kernel_size=(3, 3), stride=(1, 1))\n",
       "    (1): BatchNorm2d(16, eps=1e-05, momentum=0.1, affine=True, track_running_stats=True)\n",
       "    (2): LeakyReLU(negative_slope=0.01, inplace=True)\n",
       "    (3): MaxPool2d(kernel_size=2, stride=2, padding=0, dilation=1, ceil_mode=False)\n",
       "    (4): Flatten(start_dim=1, end_dim=-1)\n",
       "    (5): Linear(in_features=4096, out_features=256, bias=True)\n",
       "    (6): BatchNorm1d(256, eps=1e-05, momentum=0.1, affine=True, track_running_stats=True)\n",
       "    (7): LeakyReLU(negative_slope=0.01, inplace=True)\n",
       "    (8): Linear(in_features=256, out_features=64, bias=True)\n",
       "    (9): BatchNorm1d(64, eps=1e-05, momentum=0.1, affine=True, track_running_stats=True)\n",
       "  )\n",
       "  (decoder): Sequential(\n",
       "    (0): Linear(in_features=64, out_features=256, bias=True)\n",
       "    (1): BatchNorm1d(256, eps=1e-05, momentum=0.1, affine=True, track_running_stats=True)\n",
       "    (2): LeakyReLU(negative_slope=0.01, inplace=True)\n",
       "    (3): Linear(in_features=256, out_features=4096, bias=True)\n",
       "    (4): LeakyReLU(negative_slope=0.01, inplace=True)\n",
       "    (5): Unflatten(dim=1, unflattened_size=(16, 16, 16))\n",
       "    (6): ConvTranspose2d(16, 1, kernel_size=(3, 3), stride=(1, 1))\n",
       "    (7): Upsample(scale_factor=1.8888888888888888, mode=nearest)\n",
       "    (8): Sigmoid()\n",
       "  )\n",
       ")"
      ]
     },
     "execution_count": 349,
     "metadata": {},
     "output_type": "execute_result"
    }
   ],
   "source": [
    "ae_model.eval()"
   ]
  },
  {
   "cell_type": "code",
   "execution_count": 350,
   "id": "d6afe576",
   "metadata": {},
   "outputs": [],
   "source": [
    "_x = torch.Tensor(X[20]).unsqueeze(0).unsqueeze(1)"
   ]
  },
  {
   "cell_type": "code",
   "execution_count": 351,
   "id": "2dbc32a6",
   "metadata": {},
   "outputs": [
    {
     "data": {
      "text/plain": [
       "torch.Size([1, 1, 34, 34])"
      ]
     },
     "execution_count": 351,
     "metadata": {},
     "output_type": "execute_result"
    }
   ],
   "source": [
    "_x.shape"
   ]
  },
  {
   "cell_type": "code",
   "execution_count": 352,
   "id": "8e477fb3",
   "metadata": {},
   "outputs": [],
   "source": [
    "_recon, latent = ae_model(_x)"
   ]
  },
  {
   "cell_type": "code",
   "execution_count": 353,
   "id": "7ae0cab8",
   "metadata": {},
   "outputs": [
    {
     "data": {
      "text/plain": [
       "tensor(0.0066, grad_fn=<MseLossBackward0>)"
      ]
     },
     "execution_count": 353,
     "metadata": {},
     "output_type": "execute_result"
    }
   ],
   "source": [
    "ae_criterion(_recon, _x)"
   ]
  },
  {
   "cell_type": "code",
   "execution_count": 354,
   "id": "c35dda5a",
   "metadata": {},
   "outputs": [],
   "source": [
    "img = np.array(_x.squeeze().detach().numpy())\n",
    "recon_img = _recon.squeeze().detach().numpy()"
   ]
  },
  {
   "cell_type": "code",
   "execution_count": 355,
   "id": "21d281b3",
   "metadata": {},
   "outputs": [
    {
     "data": {
      "text/plain": [
       "<matplotlib.image.AxesImage at 0x28f815b1a80>"
      ]
     },
     "execution_count": 355,
     "metadata": {},
     "output_type": "execute_result"
    },
    {
     "data": {
      "image/png": "[encoded data removed]",
      "text/plain": [
       "<Figure size 640x480 with 1 Axes>"
      ]
     },
     "metadata": {},
     "output_type": "display_data"
    }
   ],
   "source": [
    "plt.imshow(img, cmap = 'gray')"
   ]
  },
  {
   "cell_type": "code",
   "execution_count": 356,
   "id": "9e1d746d",
   "metadata": {},
   "outputs": [
    {
     "data": {
      "text/plain": [
       "<matplotlib.image.AxesImage at 0x28f816492a0>"
      ]
     },
     "execution_count": 356,
     "metadata": {},
     "output_type": "execute_result"
    },
    {
     "data": {
      "image/png": "[encoded data removed]",
      "text/plain": [
       "<Figure size 640x480 with 1 Axes>"
      ]
     },
     "metadata": {},
     "output_type": "display_data"
    }
   ],
   "source": [
    "plt.imshow(recon_img, cmap = 'gray')"
   ]
  },
  {
   "cell_type": "markdown",
   "id": "a538f3ff",
   "metadata": {},
   "source": [
    "## Scratch Area"
   ]
  },
  {
   "cell_type": "code",
   "execution_count": 153,
   "id": "e04dc9ba",
   "metadata": {},
   "outputs": [
    {
     "data": {
      "text/plain": [
       "torch.Size([32, 1, 32, 32])"
      ]
     },
     "execution_count": 153,
     "metadata": {},
     "output_type": "execute_result"
    }
   ],
   "source": [
    "torch.Tensor(X[32:64]).unsqueeze(1).shape"
   ]
  },
  {
   "cell_type": "code",
   "execution_count": 198,
   "id": "10e4b3f0",
   "metadata": {},
   "outputs": [
    {
     "data": {
      "text/plain": [
       "0.0465235710144043"
      ]
     },
     "execution_count": 198,
     "metadata": {},
     "output_type": "execute_result"
    }
   ],
   "source": [
    "ae_criterion(torch.Tensor(X[0:batch_size]).unsqueeze(1).flatten(), torch.Tensor(X[batch_size:batch_size*2]).unsqueeze(1).flatten())"
   ]
  },
  {
   "cell_type": "code",
   "execution_count": 85,
   "id": "e6bbd30d",
   "metadata": {},
   "outputs": [
    {
     "data": {
      "text/plain": [
       "<matplotlib.image.AxesImage at 0x28fc8cbb100>"
      ]
     },
     "execution_count": 85,
     "metadata": {},
     "output_type": "execute_result"
    },
    {
     "data": {
      "image/png": "[encoded data removed]",
      "text/plain": [
       "<Figure size 640x480 with 1 Axes>"
      ]
     },
     "metadata": {},
     "output_type": "display_data"
    }
   ],
   "source": [
    "# x = np.ones((28, 28), dtype = np.uint8) * 255\n",
    "# plt.imshow(x, cmap='gray', vmin=0, vmax=255)\n",
    "\n",
    "\n",
    "x = np.ones((28, 28)) * np.random.uniform(size = (28, 28)) * 255\n",
    "plt.imshow(x, cmap = 'gray')"
   ]
  }
 ],
 "metadata": {
  "kernelspec": {
   "display_name": "Python 3 (ipykernel)",
   "language": "python",
   "name": "python3"
  },
  "language_info": {
   "codemirror_mode": {
    "name": "ipython",
    "version": 3
   },
   "file_extension": ".py",
   "mimetype": "text/x-python",
   "name": "python",
   "nbconvert_exporter": "python",
   "pygments_lexer": "ipython3",
   "version": "3.10.0"
  }
 },
 "nbformat": 4,
 "nbformat_minor": 5
}
