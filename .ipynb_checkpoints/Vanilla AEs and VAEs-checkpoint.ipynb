{
 "cells": [
  {
   "cell_type": "code",
   "execution_count": 9,
   "id": "686394f0",
   "metadata": {},
   "outputs": [],
   "source": [
    "import torch\n",
    "import numpy as np\n",
    "import cv2\n",
    "import random\n",
    "import matplotlib.pyplot as plt"
   ]
  },
  {
   "cell_type": "markdown",
   "id": "1ccb7eea",
   "metadata": {},
   "source": [
    "## Create a dummy dataset"
   ]
  },
  {
   "cell_type": "code",
   "execution_count": 305,
   "id": "da4faeff",
   "metadata": {},
   "outputs": [],
   "source": [
    "# square_size -> (min_size, max_size)\n",
    "\n",
    "def generate_datapoint(size = (28, 28), square_size = (3, 7)):\n",
    "    \n",
    "    assert square_size[0] < size[0] and square_size[0] < size[1]\n",
    "    assert square_size[1] < size[0] and square_size[1] < size[1]\n",
    "    \n",
    "    img = np.zeros(size)\n",
    "    \n",
    "    random_square_size = random.randint(*square_size)\n",
    "    \n",
    "    x_pos = random.randint(0, size[1] - random_square_size)\n",
    "    y_pos = random.randint(0, size[0] - random_square_size)\n",
    "    \n",
    "    img[x_pos:x_pos + random_square_size, y_pos:y_pos + random_square_size] = 1.0\n",
    "    \n",
    "    return img, x_pos, y_pos, random_square_size\n",
    "\n",
    "\n",
    "def generate_dataset(n = 3000, size = (28, 28), square_size = (3, 7)):\n",
    "    x = []\n",
    "    y = []\n",
    "    \n",
    "    for _ in range(n):\n",
    "        img, x_pos, y_pos, spot_size = generate_datapoint(size, square_size)\n",
    "        x.append(img)\n",
    "        y.append([x_pos, y_pos, spot_size])\n",
    "        \n",
    "    return np.array(x), np.array(y)"
   ]
  },
  {
   "cell_type": "code",
   "execution_count": 306,
   "id": "42f01ba8",
   "metadata": {},
   "outputs": [],
   "source": [
    "X, y = generate_dataset(n = 3000, size = (34, 34), square_size = (3, 7))"
   ]
  },
  {
   "cell_type": "markdown",
   "id": "3cbfab0f",
   "metadata": {},
   "source": [
    "## Define Autoencoder Model"
   ]
  },
  {
   "cell_type": "code",
   "execution_count": 172,
   "id": "976175bd",
   "metadata": {},
   "outputs": [],
   "source": [
    "import torch.nn as nn\n",
    "import torch.nn.functional as F\n",
    "import torch.optim as optim"
   ]
  },
  {
   "cell_type": "code",
   "execution_count": null,
   "id": "6e2d9dbd",
   "metadata": {},
   "outputs": [],
   "source": [
    "# import torch\n",
    "# import torch.nn as nn\n",
    "\n",
    "# class Autoencoder(nn.Module):\n",
    "    \n",
    "#     def __init__(self):\n",
    "#         super(Autoencoder, self).__init__()\n",
    "        \n",
    "#         self.is_log_mode = False\n",
    "        \n",
    "#         self.e1 = nn.Sequential(\n",
    "#             nn.Conv2d(1, 16, 3),\n",
    "#             nn.BatchNorm2d(16),  # Add BatchNorm2d after Conv2d\n",
    "#             nn.LeakyReLU(inplace=True),\n",
    "#             nn.MaxPool2d(2, 2)\n",
    "#         )\n",
    "        \n",
    "#         self.e2 = nn.Sequential(\n",
    "#             nn.Conv2d(16, 32, 3),\n",
    "#             nn.BatchNorm2d(32),  # Add BatchNorm2d after Conv2d\n",
    "#             nn.LeakyReLU(inplace=True),\n",
    "#             nn.MaxPool2d(2, 2)\n",
    "#         )\n",
    "            \n",
    "#         self.e3 = nn.Sequential(\n",
    "#             nn.Conv2d(32, 64, 3),\n",
    "#             nn.BatchNorm2d(64),  # Add BatchNorm2d after Conv2d\n",
    "#             nn.LeakyReLU(inplace=True)\n",
    "#         )\n",
    "            \n",
    "#         self.e4 = nn.Sequential(\n",
    "#             nn.Flatten(),\n",
    "#             nn.Linear(5 * 5 * 64, 512),\n",
    "#             nn.BatchNorm1d(512),  # Add BatchNorm1d after Linear layer\n",
    "#             nn.LeakyReLU(inplace=True)\n",
    "#         )\n",
    "        \n",
    "#         self.e5 = nn.Sequential(\n",
    "#             nn.Linear(512, 128),\n",
    "#             nn.BatchNorm1d(128),  # Add BatchNorm1d after Linear layer\n",
    "#             nn.LeakyReLU(inplace=True),\n",
    "#             nn.Linear(128, 64),\n",
    "#             nn.BatchNorm1d(64),  # Add BatchNorm1d after Linear layer\n",
    "#         )\n",
    "        \n",
    "#         self.decoder = nn.Sequential(\n",
    "#             nn.Linear(64, 128),\n",
    "#             nn.BatchNorm1d(128),  # Add BatchNorm1d after Linear layer\n",
    "#             nn.LeakyReLU(inplace=True),\n",
    "\n",
    "#             nn.Linear(128, 512),\n",
    "#             nn.BatchNorm1d(512),  # Add BatchNorm1d after Linear layer\n",
    "#             nn.LeakyReLU(inplace=True),\n",
    "\n",
    "#             nn.Linear(512, 64 * 5 * 5),\n",
    "#             nn.ReLU(inplace=True),\n",
    "\n",
    "#             nn.Unflatten(1, (64, 5, 5)),  # Match the shape after last Conv2d in encoder\n",
    "            \n",
    "#             nn.ConvTranspose2d(64, 32, 3),\n",
    "#             nn.BatchNorm2d(32),  # Add BatchNorm2d after ConvTranspose2d\n",
    "#             nn.LeakyReLU(inplace=True),\n",
    "#             nn.Upsample(scale_factor=2, mode='nearest'),  # Reverse MaxPool2d\n",
    "#             nn.ConvTranspose2d(32, 16, 3),\n",
    "#             nn.BatchNorm2d(16),  # Add BatchNorm2d after ConvTranspose2d\n",
    "#             nn.LeakyReLU(inplace=True),\n",
    "#             nn.Upsample(scale_factor=2, mode='nearest'),\n",
    "            \n",
    "#             nn.ConvTranspose2d(16, 1, 3),\n",
    "#             nn.Sigmoid()\n",
    "#         )\n",
    "        \n",
    "#         self.encoder = [self.e1, self.e2, self.e3, self.e4, self.e5]\n",
    "        \n",
    "#     def forward(self, x):\n",
    "#         for e in self.encoder:\n",
    "#             x = e(x)\n",
    "#             if self.is_log_mode:\n",
    "#                 print(x)\n",
    "            \n",
    "#         encoded = x\n",
    "#         decoded = self.decoder(encoded)\n",
    "        \n",
    "#         return decoded, encoded\n",
    "    \n",
    "#     def _initialize_weights(self):\n",
    "#         for m in self.modules():\n",
    "#             if isinstance(m, (nn.Conv2d, nn.ConvTranspose2d)):\n",
    "#                 nn.init.kaiming_normal_(m.weight, mode='fan_in', nonlinearity='leaky_relu')\n",
    "#                 if m.bias is not None:\n",
    "#                     nn.init.zeros_(m.bias)\n",
    "#             elif isinstance(m, nn.Linear):\n",
    "#                 nn.init.kaiming_normal_(m.weight, mode='fan_in', nonlinearity='leaky_relu')\n",
    "#                 if m.bias is not None:\n",
    "#                     nn.init.zeros_(m.bias)\n",
    "        \n",
    "#     def log_mode(self, val):\n",
    "#         assert type(val) == bool\n",
    "#         self.is_log_mode = val\n"
   ]
  },
  {
   "cell_type": "code",
   "execution_count": 273,
   "id": "629042d2",
   "metadata": {},
   "outputs": [],
   "source": [
    "import torch\n",
    "import torch.nn as nn\n",
    "\n",
    "class Autoencoder(nn.Module):\n",
    "    \n",
    "    def __init__(self):\n",
    "        super(Autoencoder, self).__init__()\n",
    "        \n",
    "        self.is_log_mode = False\n",
    "        \n",
    "        self.e1 = nn.Sequential(\n",
    "            nn.Conv2d(1, 16, 3),\n",
    "            nn.BatchNorm2d(16),  # Add BatchNorm2d after Conv2d\n",
    "            nn.LeakyReLU(inplace=True),\n",
    "            nn.MaxPool2d(2, 2)\n",
    "        )\n",
    "        \n",
    "        self.e2 = nn.Sequential(\n",
    "            nn.Conv2d(16, 32, 3),\n",
    "            nn.BatchNorm2d(32),  # Add BatchNorm2d after Conv2d\n",
    "            nn.LeakyReLU(inplace=True),\n",
    "            nn.MaxPool2d(2, 2)\n",
    "        )\n",
    "            \n",
    "        self.e3 = nn.Sequential(\n",
    "            nn.Flatten(),\n",
    "            nn.Linear(32 * 7 * 7, 512),\n",
    "            nn.BatchNorm1d(512),  # Add BatchNorm1d after Linear layer\n",
    "            nn.LeakyReLU(inplace=True)\n",
    "        )\n",
    "        \n",
    "        self.e4 = nn.Sequential(\n",
    "            nn.Linear(512, 64),\n",
    "            nn.BatchNorm1d(64),  # Add BatchNorm1d after Linear layer\n",
    "        )\n",
    "        \n",
    "        self.decoder = nn.Sequential(\n",
    "            nn.Linear(64, 512),\n",
    "            nn.BatchNorm1d(512),  # Add BatchNorm1d after Linear layer\n",
    "            nn.LeakyReLU(inplace=True),\n",
    "\n",
    "            nn.Linear(512, 32 * 7 * 7),\n",
    "            nn.LeakyReLU(inplace=True),\n",
    "\n",
    "            nn.Unflatten(1, (32, 7, 7)),  # Match the shape after last Conv2d in encoder\n",
    "            \n",
    "            nn.ConvTranspose2d(32, 16, 3),\n",
    "            nn.BatchNorm2d(16),  # Add BatchNorm2d after ConvTranspose2d\n",
    "            nn.LeakyReLU(inplace=True),\n",
    "            nn.Upsample(scale_factor=2, mode='nearest'),\n",
    "            \n",
    "            nn.ConvTranspose2d(16, 1, 3),\n",
    "            nn.Sigmoid()\n",
    "        )\n",
    "        \n",
    "        self.encoder = [self.e1, self.e2, self.e3, self.e4]\n",
    "        \n",
    "    def forward(self, x):\n",
    "        for e in self.encoder:\n",
    "            x = e(x)\n",
    "            if self.is_log_mode:\n",
    "                print(x)\n",
    "            \n",
    "        encoded = x\n",
    "        decoded = self.decoder(encoded)\n",
    "        \n",
    "        return decoded, encoded\n",
    "    \n",
    "    def _initialize_weights(self):\n",
    "        for m in self.modules():\n",
    "            if isinstance(m, (nn.Conv2d, nn.ConvTranspose2d)):\n",
    "                nn.init.kaiming_normal_(m.weight, mode='fan_in', nonlinearity='leaky_relu')\n",
    "                if m.bias is not None:\n",
    "                    nn.init.zeros_(m.bias)\n",
    "            elif isinstance(m, nn.Linear):\n",
    "                nn.init.kaiming_normal_(m.weight, mode='fan_in', nonlinearity='leaky_relu')\n",
    "                if m.bias is not None:\n",
    "                    nn.init.zeros_(m.bias)\n",
    "        \n",
    "    def log_mode(self, val):\n",
    "        assert type(val) == bool\n",
    "        self.is_log_mode = val\n"
   ]
  },
  {
   "cell_type": "markdown",
   "id": "0428ccee",
   "metadata": {},
   "source": [
    "### Version 3"
   ]
  },
  {
   "cell_type": "code",
   "execution_count": 311,
   "id": "6bfdc3b2",
   "metadata": {},
   "outputs": [],
   "source": [
    "import torch\n",
    "import torch.nn as nn\n",
    "\n",
    "class Autoencoder(nn.Module):\n",
    "    \n",
    "    def __init__(self):\n",
    "        super(Autoencoder, self).__init__()\n",
    "        \n",
    "        self.is_log_mode = False\n",
    "        \n",
    "        self.encoder = nn.Sequential(\n",
    "            nn.Conv2d(1, 16, 3),\n",
    "            nn.BatchNorm2d(16),  # Add BatchNorm2d after Conv2d\n",
    "            nn.LeakyReLU(inplace=True),\n",
    "            nn.MaxPool2d(2, 2),\n",
    "            \n",
    "            nn.Flatten(),\n",
    "            nn.Linear(16 * 16 * 16, 256),\n",
    "            nn.BatchNorm1d(256),  # Add BatchNorm1d after Linear layer\n",
    "            nn.LeakyReLU(inplace=True),\n",
    "            \n",
    "            nn.Linear(256, 64),\n",
    "            nn.BatchNorm1d(64),  # Add BatchNorm1d after Linear layer\n",
    "            \n",
    "        )\n",
    "        \n",
    "        self.decoder = nn.Sequential(\n",
    "            nn.Linear(64, 256),\n",
    "            nn.BatchNorm1d(256),  # Add BatchNorm1d after Linear layer\n",
    "            nn.LeakyReLU(inplace=True),\n",
    "\n",
    "            nn.Linear(256, 16 * 16 * 16),\n",
    "            nn.LeakyReLU(inplace=True),\n",
    "\n",
    "            nn.Unflatten(1, (16, 16, 16)),  # Match the shape after last Conv2d in encoder\n",
    "            \n",
    "            nn.ConvTranspose2d(16, 1, 3),\n",
    "            nn.Upsample(scale_factor=2, mode='nearest'),\n",
    "    \n",
    "            nn.Sigmoid()\n",
    "        )\n",
    "                \n",
    "    def forward(self, x):\n",
    "    \n",
    "        encoded = self.encoder(x)\n",
    "        decoded = self.decoder(encoded)\n",
    "        \n",
    "        return decoded, encoded\n",
    "    \n",
    "    def _initialize_weights(self):\n",
    "        for m in self.modules():\n",
    "            if isinstance(m, (nn.Conv2d, nn.ConvTranspose2d)):\n",
    "                nn.init.kaiming_normal_(m.weight, mode='fan_in', nonlinearity='leaky_relu')\n",
    "                if m.bias is not None:\n",
    "                    nn.init.zeros_(m.bias)\n",
    "            elif isinstance(m, nn.Linear):\n",
    "                nn.init.kaiming_normal_(m.weight, mode='fan_in', nonlinearity='leaky_relu')\n",
    "                if m.bias is not None:\n",
    "                    nn.init.zeros_(m.bias)\n",
    "        \n",
    "    def log_mode(self, val):\n",
    "        assert type(val) == bool\n",
    "        self.is_log_mode = val\n"
   ]
  },
  {
   "cell_type": "code",
   "execution_count": 312,
   "id": "6fa9c160",
   "metadata": {},
   "outputs": [],
   "source": [
    "ae_model = Autoencoder()"
   ]
  },
  {
   "cell_type": "code",
   "execution_count": 313,
   "id": "21f16b3d",
   "metadata": {},
   "outputs": [],
   "source": [
    "ae_criterion = nn.MSELoss()\n",
    "ae_optimizer = optim.NAdam(ae_model.parameters(), lr = 1e-8)"
   ]
  },
  {
   "cell_type": "markdown",
   "id": "f69bd5ea",
   "metadata": {},
   "source": [
    "## Train AE"
   ]
  },
  {
   "cell_type": "code",
   "execution_count": 314,
   "id": "571f4187",
   "metadata": {},
   "outputs": [
    {
     "name": "stderr",
     "output_type": "stream",
     "text": [
      "C:\\Users\\Rohit\\AppData\\Local\\Programs\\Python\\Python310\\lib\\site-packages\\torch\\nn\\modules\\loss.py:536: UserWarning: Using a target size (torch.Size([36992])) that is different to the input size (torch.Size([41472])). This will likely lead to incorrect results due to broadcasting. Please ensure they have the same size.\n",
      "  return F.mse_loss(input, target, reduction=self.reduction)\n"
     ]
    },
    {
     "ename": "RuntimeError",
     "evalue": "The size of tensor a (41472) must match the size of tensor b (36992) at non-singleton dimension 0",
     "output_type": "error",
     "traceback": [
      "\u001b[1;31m---------------------------------------------------------------------------\u001b[0m",
      "\u001b[1;31mRuntimeError\u001b[0m                              Traceback (most recent call last)",
      "Cell \u001b[1;32mIn[314], line 11\u001b[0m\n\u001b[0;32m      9\u001b[0m x \u001b[38;5;241m=\u001b[39m torch\u001b[38;5;241m.\u001b[39mTensor(X[batch_ind \u001b[38;5;241m*\u001b[39m batch_size: (batch_ind \u001b[38;5;241m+\u001b[39m \u001b[38;5;241m1\u001b[39m) \u001b[38;5;241m*\u001b[39m batch_size])\u001b[38;5;241m.\u001b[39munsqueeze(\u001b[38;5;241m1\u001b[39m)\n\u001b[0;32m     10\u001b[0m reconstructed, latent \u001b[38;5;241m=\u001b[39m ae_model(x)\n\u001b[1;32m---> 11\u001b[0m loss \u001b[38;5;241m=\u001b[39m \u001b[43mae_criterion\u001b[49m\u001b[43m(\u001b[49m\u001b[43mreconstructed\u001b[49m\u001b[38;5;241;43m.\u001b[39;49m\u001b[43mflatten\u001b[49m\u001b[43m(\u001b[49m\u001b[43m)\u001b[49m\u001b[43m,\u001b[49m\u001b[43m \u001b[49m\u001b[43mx\u001b[49m\u001b[38;5;241;43m.\u001b[39;49m\u001b[43mflatten\u001b[49m\u001b[43m(\u001b[49m\u001b[43m)\u001b[49m\u001b[43m)\u001b[49m\n\u001b[0;32m     13\u001b[0m ae_optimizer\u001b[38;5;241m.\u001b[39mzero_grad()\n\u001b[0;32m     14\u001b[0m loss\u001b[38;5;241m.\u001b[39mbackward()\n",
      "File \u001b[1;32m~\\AppData\\Local\\Programs\\Python\\Python310\\lib\\site-packages\\torch\\nn\\modules\\module.py:1194\u001b[0m, in \u001b[0;36mModule._call_impl\u001b[1;34m(self, *input, **kwargs)\u001b[0m\n\u001b[0;32m   1190\u001b[0m \u001b[38;5;66;03m# If we don't have any hooks, we want to skip the rest of the logic in\u001b[39;00m\n\u001b[0;32m   1191\u001b[0m \u001b[38;5;66;03m# this function, and just call forward.\u001b[39;00m\n\u001b[0;32m   1192\u001b[0m \u001b[38;5;28;01mif\u001b[39;00m \u001b[38;5;129;01mnot\u001b[39;00m (\u001b[38;5;28mself\u001b[39m\u001b[38;5;241m.\u001b[39m_backward_hooks \u001b[38;5;129;01mor\u001b[39;00m \u001b[38;5;28mself\u001b[39m\u001b[38;5;241m.\u001b[39m_forward_hooks \u001b[38;5;129;01mor\u001b[39;00m \u001b[38;5;28mself\u001b[39m\u001b[38;5;241m.\u001b[39m_forward_pre_hooks \u001b[38;5;129;01mor\u001b[39;00m _global_backward_hooks\n\u001b[0;32m   1193\u001b[0m         \u001b[38;5;129;01mor\u001b[39;00m _global_forward_hooks \u001b[38;5;129;01mor\u001b[39;00m _global_forward_pre_hooks):\n\u001b[1;32m-> 1194\u001b[0m     \u001b[38;5;28;01mreturn\u001b[39;00m forward_call(\u001b[38;5;241m*\u001b[39m\u001b[38;5;28minput\u001b[39m, \u001b[38;5;241m*\u001b[39m\u001b[38;5;241m*\u001b[39mkwargs)\n\u001b[0;32m   1195\u001b[0m \u001b[38;5;66;03m# Do not call functions when jit is used\u001b[39;00m\n\u001b[0;32m   1196\u001b[0m full_backward_hooks, non_full_backward_hooks \u001b[38;5;241m=\u001b[39m [], []\n",
      "File \u001b[1;32m~\\AppData\\Local\\Programs\\Python\\Python310\\lib\\site-packages\\torch\\nn\\modules\\loss.py:536\u001b[0m, in \u001b[0;36mMSELoss.forward\u001b[1;34m(self, input, target)\u001b[0m\n\u001b[0;32m    535\u001b[0m \u001b[38;5;28;01mdef\u001b[39;00m \u001b[38;5;21mforward\u001b[39m(\u001b[38;5;28mself\u001b[39m, \u001b[38;5;28minput\u001b[39m: Tensor, target: Tensor) \u001b[38;5;241m-\u001b[39m\u001b[38;5;241m>\u001b[39m Tensor:\n\u001b[1;32m--> 536\u001b[0m     \u001b[38;5;28;01mreturn\u001b[39;00m \u001b[43mF\u001b[49m\u001b[38;5;241;43m.\u001b[39;49m\u001b[43mmse_loss\u001b[49m\u001b[43m(\u001b[49m\u001b[38;5;28;43minput\u001b[39;49m\u001b[43m,\u001b[49m\u001b[43m \u001b[49m\u001b[43mtarget\u001b[49m\u001b[43m,\u001b[49m\u001b[43m \u001b[49m\u001b[43mreduction\u001b[49m\u001b[38;5;241;43m=\u001b[39;49m\u001b[38;5;28;43mself\u001b[39;49m\u001b[38;5;241;43m.\u001b[39;49m\u001b[43mreduction\u001b[49m\u001b[43m)\u001b[49m\n",
      "File \u001b[1;32m~\\AppData\\Local\\Programs\\Python\\Python310\\lib\\site-packages\\torch\\nn\\functional.py:3291\u001b[0m, in \u001b[0;36mmse_loss\u001b[1;34m(input, target, size_average, reduce, reduction)\u001b[0m\n\u001b[0;32m   3288\u001b[0m \u001b[38;5;28;01mif\u001b[39;00m size_average \u001b[38;5;129;01mis\u001b[39;00m \u001b[38;5;129;01mnot\u001b[39;00m \u001b[38;5;28;01mNone\u001b[39;00m \u001b[38;5;129;01mor\u001b[39;00m reduce \u001b[38;5;129;01mis\u001b[39;00m \u001b[38;5;129;01mnot\u001b[39;00m \u001b[38;5;28;01mNone\u001b[39;00m:\n\u001b[0;32m   3289\u001b[0m     reduction \u001b[38;5;241m=\u001b[39m _Reduction\u001b[38;5;241m.\u001b[39mlegacy_get_string(size_average, reduce)\n\u001b[1;32m-> 3291\u001b[0m expanded_input, expanded_target \u001b[38;5;241m=\u001b[39m \u001b[43mtorch\u001b[49m\u001b[38;5;241;43m.\u001b[39;49m\u001b[43mbroadcast_tensors\u001b[49m\u001b[43m(\u001b[49m\u001b[38;5;28;43minput\u001b[39;49m\u001b[43m,\u001b[49m\u001b[43m \u001b[49m\u001b[43mtarget\u001b[49m\u001b[43m)\u001b[49m\n\u001b[0;32m   3292\u001b[0m \u001b[38;5;28;01mreturn\u001b[39;00m torch\u001b[38;5;241m.\u001b[39m_C\u001b[38;5;241m.\u001b[39m_nn\u001b[38;5;241m.\u001b[39mmse_loss(expanded_input, expanded_target, _Reduction\u001b[38;5;241m.\u001b[39mget_enum(reduction))\n",
      "File \u001b[1;32m~\\AppData\\Local\\Programs\\Python\\Python310\\lib\\site-packages\\torch\\functional.py:74\u001b[0m, in \u001b[0;36mbroadcast_tensors\u001b[1;34m(*tensors)\u001b[0m\n\u001b[0;32m     72\u001b[0m \u001b[38;5;28;01mif\u001b[39;00m has_torch_function(tensors):\n\u001b[0;32m     73\u001b[0m     \u001b[38;5;28;01mreturn\u001b[39;00m handle_torch_function(broadcast_tensors, tensors, \u001b[38;5;241m*\u001b[39mtensors)\n\u001b[1;32m---> 74\u001b[0m \u001b[38;5;28;01mreturn\u001b[39;00m \u001b[43m_VF\u001b[49m\u001b[38;5;241;43m.\u001b[39;49m\u001b[43mbroadcast_tensors\u001b[49m\u001b[43m(\u001b[49m\u001b[43mtensors\u001b[49m\u001b[43m)\u001b[49m\n",
      "\u001b[1;31mRuntimeError\u001b[0m: The size of tensor a (41472) must match the size of tensor b (36992) at non-singleton dimension 0"
     ]
    }
   ],
   "source": [
    "batch_size = 32\n",
    "n_epochs = 100\n",
    "losses = []\n",
    "\n",
    "for epoch in range(n_epochs):\n",
    "    \n",
    "    for batch_ind in range(0, X.shape[0], batch_size):\n",
    "        \n",
    "        x = torch.Tensor(X[batch_ind * batch_size: (batch_ind + 1) * batch_size]).unsqueeze(1)\n",
    "        reconstructed, latent = ae_model(x)\n",
    "        loss = ae_criterion(reconstructed.flatten(), x.flatten())\n",
    "        \n",
    "        ae_optimizer.zero_grad()\n",
    "        loss.backward()\n",
    "        ae_optimizer.step()\n",
    "        \n",
    "        losses.append(loss)\n",
    "        \n",
    "    print(f\"Loss after {epoch} epochs : {losses[-1].item()}\")"
   ]
  },
  {
   "cell_type": "code",
   "execution_count": 222,
   "id": "db13f7a7",
   "metadata": {},
   "outputs": [],
   "source": [
    "_x = torch.Tensor(X[20]).unsqueeze(0).unsqueeze(1)"
   ]
  },
  {
   "cell_type": "code",
   "execution_count": 279,
   "id": "1d08907c",
   "metadata": {},
   "outputs": [
    {
     "data": {
      "text/plain": [
       "torch.Size([1, 1, 34, 34])"
      ]
     },
     "execution_count": 279,
     "metadata": {},
     "output_type": "execute_result"
    }
   ],
   "source": [
    "_x.shape"
   ]
  },
  {
   "cell_type": "code",
   "execution_count": 278,
   "id": "6f3502fc",
   "metadata": {},
   "outputs": [
    {
     "ename": "ValueError",
     "evalue": "Expected more than 1 value per channel when training, got input size torch.Size([1, 512])",
     "output_type": "error",
     "traceback": [
      "\u001b[1;31m---------------------------------------------------------------------------\u001b[0m",
      "\u001b[1;31mValueError\u001b[0m                                Traceback (most recent call last)",
      "Cell \u001b[1;32mIn[278], line 1\u001b[0m\n\u001b[1;32m----> 1\u001b[0m recon, latent \u001b[38;5;241m=\u001b[39m \u001b[43mae_model\u001b[49m\u001b[43m(\u001b[49m\u001b[43m_x\u001b[49m\u001b[43m)\u001b[49m\n",
      "File \u001b[1;32m~\\AppData\\Local\\Programs\\Python\\Python310\\lib\\site-packages\\torch\\nn\\modules\\module.py:1194\u001b[0m, in \u001b[0;36mModule._call_impl\u001b[1;34m(self, *input, **kwargs)\u001b[0m\n\u001b[0;32m   1190\u001b[0m \u001b[38;5;66;03m# If we don't have any hooks, we want to skip the rest of the logic in\u001b[39;00m\n\u001b[0;32m   1191\u001b[0m \u001b[38;5;66;03m# this function, and just call forward.\u001b[39;00m\n\u001b[0;32m   1192\u001b[0m \u001b[38;5;28;01mif\u001b[39;00m \u001b[38;5;129;01mnot\u001b[39;00m (\u001b[38;5;28mself\u001b[39m\u001b[38;5;241m.\u001b[39m_backward_hooks \u001b[38;5;129;01mor\u001b[39;00m \u001b[38;5;28mself\u001b[39m\u001b[38;5;241m.\u001b[39m_forward_hooks \u001b[38;5;129;01mor\u001b[39;00m \u001b[38;5;28mself\u001b[39m\u001b[38;5;241m.\u001b[39m_forward_pre_hooks \u001b[38;5;129;01mor\u001b[39;00m _global_backward_hooks\n\u001b[0;32m   1193\u001b[0m         \u001b[38;5;129;01mor\u001b[39;00m _global_forward_hooks \u001b[38;5;129;01mor\u001b[39;00m _global_forward_pre_hooks):\n\u001b[1;32m-> 1194\u001b[0m     \u001b[38;5;28;01mreturn\u001b[39;00m forward_call(\u001b[38;5;241m*\u001b[39m\u001b[38;5;28minput\u001b[39m, \u001b[38;5;241m*\u001b[39m\u001b[38;5;241m*\u001b[39mkwargs)\n\u001b[0;32m   1195\u001b[0m \u001b[38;5;66;03m# Do not call functions when jit is used\u001b[39;00m\n\u001b[0;32m   1196\u001b[0m full_backward_hooks, non_full_backward_hooks \u001b[38;5;241m=\u001b[39m [], []\n",
      "Cell \u001b[1;32mIn[273], line 65\u001b[0m, in \u001b[0;36mAutoencoder.forward\u001b[1;34m(self, x)\u001b[0m\n\u001b[0;32m     63\u001b[0m \u001b[38;5;28;01mdef\u001b[39;00m \u001b[38;5;21mforward\u001b[39m(\u001b[38;5;28mself\u001b[39m, x):\n\u001b[0;32m     64\u001b[0m     \u001b[38;5;28;01mfor\u001b[39;00m e \u001b[38;5;129;01min\u001b[39;00m \u001b[38;5;28mself\u001b[39m\u001b[38;5;241m.\u001b[39mencoder:\n\u001b[1;32m---> 65\u001b[0m         x \u001b[38;5;241m=\u001b[39m \u001b[43me\u001b[49m\u001b[43m(\u001b[49m\u001b[43mx\u001b[49m\u001b[43m)\u001b[49m\n\u001b[0;32m     66\u001b[0m         \u001b[38;5;28;01mif\u001b[39;00m \u001b[38;5;28mself\u001b[39m\u001b[38;5;241m.\u001b[39mis_log_mode:\n\u001b[0;32m     67\u001b[0m             \u001b[38;5;28mprint\u001b[39m(x)\n",
      "File \u001b[1;32m~\\AppData\\Local\\Programs\\Python\\Python310\\lib\\site-packages\\torch\\nn\\modules\\module.py:1194\u001b[0m, in \u001b[0;36mModule._call_impl\u001b[1;34m(self, *input, **kwargs)\u001b[0m\n\u001b[0;32m   1190\u001b[0m \u001b[38;5;66;03m# If we don't have any hooks, we want to skip the rest of the logic in\u001b[39;00m\n\u001b[0;32m   1191\u001b[0m \u001b[38;5;66;03m# this function, and just call forward.\u001b[39;00m\n\u001b[0;32m   1192\u001b[0m \u001b[38;5;28;01mif\u001b[39;00m \u001b[38;5;129;01mnot\u001b[39;00m (\u001b[38;5;28mself\u001b[39m\u001b[38;5;241m.\u001b[39m_backward_hooks \u001b[38;5;129;01mor\u001b[39;00m \u001b[38;5;28mself\u001b[39m\u001b[38;5;241m.\u001b[39m_forward_hooks \u001b[38;5;129;01mor\u001b[39;00m \u001b[38;5;28mself\u001b[39m\u001b[38;5;241m.\u001b[39m_forward_pre_hooks \u001b[38;5;129;01mor\u001b[39;00m _global_backward_hooks\n\u001b[0;32m   1193\u001b[0m         \u001b[38;5;129;01mor\u001b[39;00m _global_forward_hooks \u001b[38;5;129;01mor\u001b[39;00m _global_forward_pre_hooks):\n\u001b[1;32m-> 1194\u001b[0m     \u001b[38;5;28;01mreturn\u001b[39;00m forward_call(\u001b[38;5;241m*\u001b[39m\u001b[38;5;28minput\u001b[39m, \u001b[38;5;241m*\u001b[39m\u001b[38;5;241m*\u001b[39mkwargs)\n\u001b[0;32m   1195\u001b[0m \u001b[38;5;66;03m# Do not call functions when jit is used\u001b[39;00m\n\u001b[0;32m   1196\u001b[0m full_backward_hooks, non_full_backward_hooks \u001b[38;5;241m=\u001b[39m [], []\n",
      "File \u001b[1;32m~\\AppData\\Local\\Programs\\Python\\Python310\\lib\\site-packages\\torch\\nn\\modules\\container.py:204\u001b[0m, in \u001b[0;36mSequential.forward\u001b[1;34m(self, input)\u001b[0m\n\u001b[0;32m    202\u001b[0m \u001b[38;5;28;01mdef\u001b[39;00m \u001b[38;5;21mforward\u001b[39m(\u001b[38;5;28mself\u001b[39m, \u001b[38;5;28minput\u001b[39m):\n\u001b[0;32m    203\u001b[0m     \u001b[38;5;28;01mfor\u001b[39;00m module \u001b[38;5;129;01min\u001b[39;00m \u001b[38;5;28mself\u001b[39m:\n\u001b[1;32m--> 204\u001b[0m         \u001b[38;5;28minput\u001b[39m \u001b[38;5;241m=\u001b[39m \u001b[43mmodule\u001b[49m\u001b[43m(\u001b[49m\u001b[38;5;28;43minput\u001b[39;49m\u001b[43m)\u001b[49m\n\u001b[0;32m    205\u001b[0m     \u001b[38;5;28;01mreturn\u001b[39;00m \u001b[38;5;28minput\u001b[39m\n",
      "File \u001b[1;32m~\\AppData\\Local\\Programs\\Python\\Python310\\lib\\site-packages\\torch\\nn\\modules\\module.py:1194\u001b[0m, in \u001b[0;36mModule._call_impl\u001b[1;34m(self, *input, **kwargs)\u001b[0m\n\u001b[0;32m   1190\u001b[0m \u001b[38;5;66;03m# If we don't have any hooks, we want to skip the rest of the logic in\u001b[39;00m\n\u001b[0;32m   1191\u001b[0m \u001b[38;5;66;03m# this function, and just call forward.\u001b[39;00m\n\u001b[0;32m   1192\u001b[0m \u001b[38;5;28;01mif\u001b[39;00m \u001b[38;5;129;01mnot\u001b[39;00m (\u001b[38;5;28mself\u001b[39m\u001b[38;5;241m.\u001b[39m_backward_hooks \u001b[38;5;129;01mor\u001b[39;00m \u001b[38;5;28mself\u001b[39m\u001b[38;5;241m.\u001b[39m_forward_hooks \u001b[38;5;129;01mor\u001b[39;00m \u001b[38;5;28mself\u001b[39m\u001b[38;5;241m.\u001b[39m_forward_pre_hooks \u001b[38;5;129;01mor\u001b[39;00m _global_backward_hooks\n\u001b[0;32m   1193\u001b[0m         \u001b[38;5;129;01mor\u001b[39;00m _global_forward_hooks \u001b[38;5;129;01mor\u001b[39;00m _global_forward_pre_hooks):\n\u001b[1;32m-> 1194\u001b[0m     \u001b[38;5;28;01mreturn\u001b[39;00m forward_call(\u001b[38;5;241m*\u001b[39m\u001b[38;5;28minput\u001b[39m, \u001b[38;5;241m*\u001b[39m\u001b[38;5;241m*\u001b[39mkwargs)\n\u001b[0;32m   1195\u001b[0m \u001b[38;5;66;03m# Do not call functions when jit is used\u001b[39;00m\n\u001b[0;32m   1196\u001b[0m full_backward_hooks, non_full_backward_hooks \u001b[38;5;241m=\u001b[39m [], []\n",
      "File \u001b[1;32m~\\AppData\\Local\\Programs\\Python\\Python310\\lib\\site-packages\\torch\\nn\\modules\\batchnorm.py:171\u001b[0m, in \u001b[0;36m_BatchNorm.forward\u001b[1;34m(self, input)\u001b[0m\n\u001b[0;32m    164\u001b[0m     bn_training \u001b[38;5;241m=\u001b[39m (\u001b[38;5;28mself\u001b[39m\u001b[38;5;241m.\u001b[39mrunning_mean \u001b[38;5;129;01mis\u001b[39;00m \u001b[38;5;28;01mNone\u001b[39;00m) \u001b[38;5;129;01mand\u001b[39;00m (\u001b[38;5;28mself\u001b[39m\u001b[38;5;241m.\u001b[39mrunning_var \u001b[38;5;129;01mis\u001b[39;00m \u001b[38;5;28;01mNone\u001b[39;00m)\n\u001b[0;32m    166\u001b[0m \u001b[38;5;250m\u001b[39m\u001b[38;5;124mr\u001b[39m\u001b[38;5;124;03m\"\"\"\u001b[39;00m\n\u001b[0;32m    167\u001b[0m \u001b[38;5;124;03mBuffers are only updated if they are to be tracked and we are in training mode. Thus they only need to be\u001b[39;00m\n\u001b[0;32m    168\u001b[0m \u001b[38;5;124;03mpassed when the update should occur (i.e. in training mode when they are tracked), or when buffer stats are\u001b[39;00m\n\u001b[0;32m    169\u001b[0m \u001b[38;5;124;03mused for normalization (i.e. in eval mode when buffers are not None).\u001b[39;00m\n\u001b[0;32m    170\u001b[0m \u001b[38;5;124;03m\"\"\"\u001b[39;00m\n\u001b[1;32m--> 171\u001b[0m \u001b[38;5;28;01mreturn\u001b[39;00m \u001b[43mF\u001b[49m\u001b[38;5;241;43m.\u001b[39;49m\u001b[43mbatch_norm\u001b[49m\u001b[43m(\u001b[49m\n\u001b[0;32m    172\u001b[0m \u001b[43m    \u001b[49m\u001b[38;5;28;43minput\u001b[39;49m\u001b[43m,\u001b[49m\n\u001b[0;32m    173\u001b[0m \u001b[43m    \u001b[49m\u001b[38;5;66;43;03m# If buffers are not to be tracked, ensure that they won't be updated\u001b[39;49;00m\n\u001b[0;32m    174\u001b[0m \u001b[43m    \u001b[49m\u001b[38;5;28;43mself\u001b[39;49m\u001b[38;5;241;43m.\u001b[39;49m\u001b[43mrunning_mean\u001b[49m\n\u001b[0;32m    175\u001b[0m \u001b[43m    \u001b[49m\u001b[38;5;28;43;01mif\u001b[39;49;00m\u001b[43m \u001b[49m\u001b[38;5;129;43;01mnot\u001b[39;49;00m\u001b[43m \u001b[49m\u001b[38;5;28;43mself\u001b[39;49m\u001b[38;5;241;43m.\u001b[39;49m\u001b[43mtraining\u001b[49m\u001b[43m \u001b[49m\u001b[38;5;129;43;01mor\u001b[39;49;00m\u001b[43m \u001b[49m\u001b[38;5;28;43mself\u001b[39;49m\u001b[38;5;241;43m.\u001b[39;49m\u001b[43mtrack_running_stats\u001b[49m\n\u001b[0;32m    176\u001b[0m \u001b[43m    \u001b[49m\u001b[38;5;28;43;01melse\u001b[39;49;00m\u001b[43m \u001b[49m\u001b[38;5;28;43;01mNone\u001b[39;49;00m\u001b[43m,\u001b[49m\n\u001b[0;32m    177\u001b[0m \u001b[43m    \u001b[49m\u001b[38;5;28;43mself\u001b[39;49m\u001b[38;5;241;43m.\u001b[39;49m\u001b[43mrunning_var\u001b[49m\u001b[43m \u001b[49m\u001b[38;5;28;43;01mif\u001b[39;49;00m\u001b[43m \u001b[49m\u001b[38;5;129;43;01mnot\u001b[39;49;00m\u001b[43m \u001b[49m\u001b[38;5;28;43mself\u001b[39;49m\u001b[38;5;241;43m.\u001b[39;49m\u001b[43mtraining\u001b[49m\u001b[43m \u001b[49m\u001b[38;5;129;43;01mor\u001b[39;49;00m\u001b[43m \u001b[49m\u001b[38;5;28;43mself\u001b[39;49m\u001b[38;5;241;43m.\u001b[39;49m\u001b[43mtrack_running_stats\u001b[49m\u001b[43m \u001b[49m\u001b[38;5;28;43;01melse\u001b[39;49;00m\u001b[43m \u001b[49m\u001b[38;5;28;43;01mNone\u001b[39;49;00m\u001b[43m,\u001b[49m\n\u001b[0;32m    178\u001b[0m \u001b[43m    \u001b[49m\u001b[38;5;28;43mself\u001b[39;49m\u001b[38;5;241;43m.\u001b[39;49m\u001b[43mweight\u001b[49m\u001b[43m,\u001b[49m\n\u001b[0;32m    179\u001b[0m \u001b[43m    \u001b[49m\u001b[38;5;28;43mself\u001b[39;49m\u001b[38;5;241;43m.\u001b[39;49m\u001b[43mbias\u001b[49m\u001b[43m,\u001b[49m\n\u001b[0;32m    180\u001b[0m \u001b[43m    \u001b[49m\u001b[43mbn_training\u001b[49m\u001b[43m,\u001b[49m\n\u001b[0;32m    181\u001b[0m \u001b[43m    \u001b[49m\u001b[43mexponential_average_factor\u001b[49m\u001b[43m,\u001b[49m\n\u001b[0;32m    182\u001b[0m \u001b[43m    \u001b[49m\u001b[38;5;28;43mself\u001b[39;49m\u001b[38;5;241;43m.\u001b[39;49m\u001b[43meps\u001b[49m\u001b[43m,\u001b[49m\n\u001b[0;32m    183\u001b[0m \u001b[43m\u001b[49m\u001b[43m)\u001b[49m\n",
      "File \u001b[1;32m~\\AppData\\Local\\Programs\\Python\\Python310\\lib\\site-packages\\torch\\nn\\functional.py:2448\u001b[0m, in \u001b[0;36mbatch_norm\u001b[1;34m(input, running_mean, running_var, weight, bias, training, momentum, eps)\u001b[0m\n\u001b[0;32m   2435\u001b[0m     \u001b[38;5;28;01mreturn\u001b[39;00m handle_torch_function(\n\u001b[0;32m   2436\u001b[0m         batch_norm,\n\u001b[0;32m   2437\u001b[0m         (\u001b[38;5;28minput\u001b[39m, running_mean, running_var, weight, bias),\n\u001b[1;32m   (...)\u001b[0m\n\u001b[0;32m   2445\u001b[0m         eps\u001b[38;5;241m=\u001b[39meps,\n\u001b[0;32m   2446\u001b[0m     )\n\u001b[0;32m   2447\u001b[0m \u001b[38;5;28;01mif\u001b[39;00m training:\n\u001b[1;32m-> 2448\u001b[0m     \u001b[43m_verify_batch_size\u001b[49m\u001b[43m(\u001b[49m\u001b[38;5;28;43minput\u001b[39;49m\u001b[38;5;241;43m.\u001b[39;49m\u001b[43msize\u001b[49m\u001b[43m(\u001b[49m\u001b[43m)\u001b[49m\u001b[43m)\u001b[49m\n\u001b[0;32m   2450\u001b[0m \u001b[38;5;28;01mreturn\u001b[39;00m torch\u001b[38;5;241m.\u001b[39mbatch_norm(\n\u001b[0;32m   2451\u001b[0m     \u001b[38;5;28minput\u001b[39m, weight, bias, running_mean, running_var, training, momentum, eps, torch\u001b[38;5;241m.\u001b[39mbackends\u001b[38;5;241m.\u001b[39mcudnn\u001b[38;5;241m.\u001b[39menabled\n\u001b[0;32m   2452\u001b[0m )\n",
      "File \u001b[1;32m~\\AppData\\Local\\Programs\\Python\\Python310\\lib\\site-packages\\torch\\nn\\functional.py:2416\u001b[0m, in \u001b[0;36m_verify_batch_size\u001b[1;34m(size)\u001b[0m\n\u001b[0;32m   2414\u001b[0m     size_prods \u001b[38;5;241m*\u001b[39m\u001b[38;5;241m=\u001b[39m size[i \u001b[38;5;241m+\u001b[39m \u001b[38;5;241m2\u001b[39m]\n\u001b[0;32m   2415\u001b[0m \u001b[38;5;28;01mif\u001b[39;00m size_prods \u001b[38;5;241m==\u001b[39m \u001b[38;5;241m1\u001b[39m:\n\u001b[1;32m-> 2416\u001b[0m     \u001b[38;5;28;01mraise\u001b[39;00m \u001b[38;5;167;01mValueError\u001b[39;00m(\u001b[38;5;124m\"\u001b[39m\u001b[38;5;124mExpected more than 1 value per channel when training, got input size \u001b[39m\u001b[38;5;132;01m{}\u001b[39;00m\u001b[38;5;124m\"\u001b[39m\u001b[38;5;241m.\u001b[39mformat(size))\n",
      "\u001b[1;31mValueError\u001b[0m: Expected more than 1 value per channel when training, got input size torch.Size([1, 512])"
     ]
    }
   ],
   "source": [
    "recon, latent = ae_model(_x)"
   ]
  },
  {
   "cell_type": "code",
   "execution_count": 230,
   "id": "1a990fa6",
   "metadata": {},
   "outputs": [],
   "source": [
    "params = iter(ae_model.parameters())"
   ]
  },
  {
   "cell_type": "code",
   "execution_count": 233,
   "id": "ace59c4a",
   "metadata": {},
   "outputs": [
    {
     "data": {
      "text/plain": [
       "Parameter containing:\n",
       "tensor([[[[-0.0103, -0.0401, -0.0624],\n",
       "          [-0.0661,  0.0797,  0.0766],\n",
       "          [ 0.0799, -0.0163,  0.0143]],\n",
       "\n",
       "         [[-0.0118,  0.0759,  0.0471],\n",
       "          [-0.0558, -0.0526,  0.0527],\n",
       "          [-0.0666, -0.0453, -0.0725]],\n",
       "\n",
       "         [[-0.0213,  0.0326, -0.0444],\n",
       "          [-0.0321, -0.0794, -0.0175],\n",
       "          [-0.0061, -0.0418,  0.0119]],\n",
       "\n",
       "         ...,\n",
       "\n",
       "         [[-0.0294,  0.0481, -0.0217],\n",
       "          [ 0.0017, -0.0502,  0.0455],\n",
       "          [-0.0303,  0.0698,  0.0343]],\n",
       "\n",
       "         [[ 0.0411,  0.0055,  0.0187],\n",
       "          [-0.0220, -0.0676,  0.0461],\n",
       "          [-0.0521, -0.0292,  0.0174]],\n",
       "\n",
       "         [[ 0.0357, -0.0097, -0.0098],\n",
       "          [-0.0250,  0.0788,  0.0146],\n",
       "          [ 0.0592,  0.0386,  0.0535]]],\n",
       "\n",
       "\n",
       "        [[[ 0.0789, -0.0819, -0.0497],\n",
       "          [ 0.0752,  0.0719,  0.0246],\n",
       "          [ 0.0447,  0.0730, -0.0296]],\n",
       "\n",
       "         [[-0.0260, -0.0014, -0.0622],\n",
       "          [ 0.0437,  0.0830, -0.0749],\n",
       "          [-0.0290, -0.0816, -0.0517]],\n",
       "\n",
       "         [[-0.0197,  0.0546, -0.0012],\n",
       "          [ 0.0077, -0.0668,  0.0706],\n",
       "          [ 0.0443,  0.0205, -0.0824]],\n",
       "\n",
       "         ...,\n",
       "\n",
       "         [[-0.0131,  0.0617,  0.0692],\n",
       "          [-0.0277, -0.0532, -0.0535],\n",
       "          [-0.0277,  0.0449,  0.0084]],\n",
       "\n",
       "         [[ 0.0013, -0.0521, -0.0704],\n",
       "          [ 0.0374, -0.0675, -0.0179],\n",
       "          [ 0.0494,  0.0318, -0.0769]],\n",
       "\n",
       "         [[-0.0793,  0.0177, -0.0342],\n",
       "          [-0.0545, -0.0511, -0.0286],\n",
       "          [ 0.0726, -0.0085, -0.0794]]],\n",
       "\n",
       "\n",
       "        [[[ 0.0007,  0.0799,  0.0359],\n",
       "          [-0.0743, -0.0540, -0.0276],\n",
       "          [ 0.0459, -0.0007,  0.0049]],\n",
       "\n",
       "         [[ 0.0420,  0.0503, -0.0471],\n",
       "          [ 0.0056,  0.0507, -0.0406],\n",
       "          [-0.0689,  0.0026,  0.0600]],\n",
       "\n",
       "         [[ 0.0610,  0.0226, -0.0103],\n",
       "          [ 0.0402, -0.0146,  0.0407],\n",
       "          [-0.0354,  0.0129, -0.0827]],\n",
       "\n",
       "         ...,\n",
       "\n",
       "         [[ 0.0341,  0.0175,  0.0222],\n",
       "          [ 0.0542,  0.0002,  0.0773],\n",
       "          [ 0.0672,  0.0006, -0.0212]],\n",
       "\n",
       "         [[ 0.0658, -0.0665, -0.0785],\n",
       "          [ 0.0514,  0.0503, -0.0801],\n",
       "          [-0.0146,  0.0054,  0.0331]],\n",
       "\n",
       "         [[ 0.0822, -0.0496,  0.0334],\n",
       "          [-0.0256,  0.0300, -0.0476],\n",
       "          [-0.0056, -0.0351, -0.0265]]],\n",
       "\n",
       "\n",
       "        ...,\n",
       "\n",
       "\n",
       "        [[[-0.0123,  0.0439, -0.0454],\n",
       "          [ 0.0409, -0.0351,  0.0258],\n",
       "          [-0.0212,  0.0290,  0.0460]],\n",
       "\n",
       "         [[ 0.0788, -0.0674,  0.0077],\n",
       "          [ 0.0576, -0.0394,  0.0077],\n",
       "          [ 0.0750, -0.0182, -0.0608]],\n",
       "\n",
       "         [[-0.0556,  0.0803, -0.0679],\n",
       "          [ 0.0764,  0.0105,  0.0752],\n",
       "          [ 0.0122, -0.0398,  0.0803]],\n",
       "\n",
       "         ...,\n",
       "\n",
       "         [[-0.0654,  0.0204, -0.0537],\n",
       "          [-0.0742,  0.0824,  0.0385],\n",
       "          [-0.0133,  0.0538, -0.0748]],\n",
       "\n",
       "         [[ 0.0330, -0.0622,  0.0403],\n",
       "          [-0.0235, -0.0141,  0.0408],\n",
       "          [ 0.0775,  0.0029, -0.0554]],\n",
       "\n",
       "         [[ 0.0728,  0.0176, -0.0063],\n",
       "          [-0.0140,  0.0117,  0.0472],\n",
       "          [ 0.0629, -0.0724, -0.0659]]],\n",
       "\n",
       "\n",
       "        [[[ 0.0108,  0.0278,  0.0034],\n",
       "          [-0.0071, -0.0278,  0.0580],\n",
       "          [ 0.0737,  0.0508,  0.0833]],\n",
       "\n",
       "         [[-0.0799,  0.0765,  0.0498],\n",
       "          [ 0.0621,  0.0240,  0.0525],\n",
       "          [-0.0313, -0.0462, -0.0340]],\n",
       "\n",
       "         [[ 0.0565,  0.0407, -0.0490],\n",
       "          [ 0.0658,  0.0335,  0.0298],\n",
       "          [-0.0554,  0.0460, -0.0118]],\n",
       "\n",
       "         ...,\n",
       "\n",
       "         [[ 0.0109,  0.0098,  0.0034],\n",
       "          [ 0.0618,  0.0671, -0.0206],\n",
       "          [ 0.0695, -0.0493,  0.0702]],\n",
       "\n",
       "         [[ 0.0694, -0.0589, -0.0520],\n",
       "          [ 0.0818,  0.0223,  0.0589],\n",
       "          [ 0.0584, -0.0098,  0.0118]],\n",
       "\n",
       "         [[-0.0508, -0.0251, -0.0707],\n",
       "          [ 0.0608, -0.0760,  0.0454],\n",
       "          [ 0.0024,  0.0715,  0.0571]]],\n",
       "\n",
       "\n",
       "        [[[ 0.0569,  0.0027, -0.0315],\n",
       "          [-0.0166, -0.0206, -0.0047],\n",
       "          [-0.0784, -0.0620,  0.0104]],\n",
       "\n",
       "         [[ 0.0429, -0.0759, -0.0244],\n",
       "          [ 0.0397, -0.0736,  0.0541],\n",
       "          [ 0.0433,  0.0257, -0.0541]],\n",
       "\n",
       "         [[-0.0808,  0.0118, -0.0784],\n",
       "          [ 0.0690,  0.0331,  0.0805],\n",
       "          [ 0.0555,  0.0812, -0.0692]],\n",
       "\n",
       "         ...,\n",
       "\n",
       "         [[ 0.0630, -0.0795, -0.0412],\n",
       "          [-0.0160,  0.0753,  0.0723],\n",
       "          [-0.0294,  0.0755, -0.0562]],\n",
       "\n",
       "         [[-0.0625,  0.0196, -0.0021],\n",
       "          [ 0.0249, -0.0344, -0.0595],\n",
       "          [-0.0279,  0.0295, -0.0038]],\n",
       "\n",
       "         [[ 0.0167, -0.0659,  0.0605],\n",
       "          [ 0.0618,  0.0178, -0.0006],\n",
       "          [ 0.0681,  0.0205, -0.0788]]]], requires_grad=True)"
      ]
     },
     "execution_count": 233,
     "metadata": {},
     "output_type": "execute_result"
    }
   ],
   "source": [
    "next(params)"
   ]
  },
  {
   "cell_type": "code",
   "execution_count": 245,
   "id": "c1c0e326",
   "metadata": {},
   "outputs": [
    {
     "data": {
      "text/plain": [
       "tensor(363.5410, grad_fn=<AddBackward0>)"
      ]
     },
     "execution_count": 245,
     "metadata": {},
     "output_type": "execute_result"
    }
   ],
   "source": [
    "sum((recon.flatten() - _x.flatten()) ** 2)"
   ]
  },
  {
   "cell_type": "code",
   "execution_count": 256,
   "id": "6c03da35",
   "metadata": {},
   "outputs": [],
   "source": [
    "img = np.array(_x.squeeze().detach().numpy())\n",
    "recon_img = recon.squeeze().detach().numpy()"
   ]
  },
  {
   "cell_type": "code",
   "execution_count": 258,
   "id": "6ae7e3ed",
   "metadata": {},
   "outputs": [
    {
     "data": {
      "text/plain": [
       "<matplotlib.image.AxesImage at 0x28fd440a080>"
      ]
     },
     "execution_count": 258,
     "metadata": {},
     "output_type": "execute_result"
    },
    {
     "data": {
      "image/png": "[encoded data removed]",
      "text/plain": [
       "<Figure size 640x480 with 1 Axes>"
      ]
     },
     "metadata": {},
     "output_type": "display_data"
    }
   ],
   "source": [
    "plt.imshow(img, cmap = 'gray')"
   ]
  },
  {
   "cell_type": "code",
   "execution_count": 259,
   "id": "3a07617f",
   "metadata": {},
   "outputs": [
    {
     "data": {
      "text/plain": [
       "<matplotlib.image.AxesImage at 0x28fd24398a0>"
      ]
     },
     "execution_count": 259,
     "metadata": {},
     "output_type": "execute_result"
    },
    {
     "data": {
      "image/png": "[encoded data removed]",
      "text/plain": [
       "<Figure size 640x480 with 1 Axes>"
      ]
     },
     "metadata": {},
     "output_type": "display_data"
    }
   ],
   "source": [
    "plt.imshow(recon_img, cmap = 'gray')"
   ]
  },
  {
   "cell_type": "markdown",
   "id": "5ce8f8be",
   "metadata": {},
   "source": [
    "## Scratch Area"
   ]
  },
  {
   "cell_type": "code",
   "execution_count": 153,
   "id": "dd65cfa4",
   "metadata": {},
   "outputs": [
    {
     "data": {
      "text/plain": [
       "torch.Size([32, 1, 32, 32])"
      ]
     },
     "execution_count": 153,
     "metadata": {},
     "output_type": "execute_result"
    }
   ],
   "source": [
    "torch.Tensor(X[32:64]).unsqueeze(1).shape"
   ]
  },
  {
   "cell_type": "code",
   "execution_count": 198,
   "id": "ad8b3ac7",
   "metadata": {},
   "outputs": [
    {
     "data": {
      "text/plain": [
       "0.0465235710144043"
      ]
     },
     "execution_count": 198,
     "metadata": {},
     "output_type": "execute_result"
    }
   ],
   "source": [
    "ae_criterion(torch.Tensor(X[0:batch_size]).unsqueeze(1).flatten(), torch.Tensor(X[batch_size:batch_size*2]).unsqueeze(1).flatten())"
   ]
  },
  {
   "cell_type": "code",
   "execution_count": 85,
   "id": "9c552c4d",
   "metadata": {},
   "outputs": [
    {
     "data": {
      "text/plain": [
       "<matplotlib.image.AxesImage at 0x28fc8cbb100>"
      ]
     },
     "execution_count": 85,
     "metadata": {},
     "output_type": "execute_result"
    },
    {
     "data": {
      "image/png": "[encoded data removed]",
      "text/plain": [
       "<Figure size 640x480 with 1 Axes>"
      ]
     },
     "metadata": {},
     "output_type": "display_data"
    }
   ],
   "source": [
    "# x = np.ones((28, 28), dtype = np.uint8) * 255\n",
    "# plt.imshow(x, cmap='gray', vmin=0, vmax=255)\n",
    "\n",
    "\n",
    "x = np.ones((28, 28)) * np.random.uniform(size = (28, 28)) * 255\n",
    "plt.imshow(x, cmap = 'gray')"
   ]
  },
  {
   "cell_type": "code",
   "execution_count": 67,
   "id": "16ac9f18",
   "metadata": {},
   "outputs": [
    {
     "data": {
      "text/plain": [
       "<matplotlib.image.AxesImage at 0x28fc88bccd0>"
      ]
     },
     "execution_count": 67,
     "metadata": {},
     "output_type": "execute_result"
    },
    {
     "data": {
      "image/png": "[encoded data removed]",
      "text/plain": [
       "<Figure size 640x480 with 1 Axes>"
      ]
     },
     "metadata": {},
     "output_type": "display_data"
    }
   ],
   "source": [
    "x = np.ones((28, 28)) * np.random.uniform(size = (28, 28))\n",
    "plt.imshow(x, cmap = 'gray')"
   ]
  },
  {
   "cell_type": "code",
   "execution_count": 44,
   "id": "68b7d293",
   "metadata": {
    "scrolled": true
   },
   "outputs": [
    {
     "data": {
      "text/plain": [
       "array([  0,   1,   2,   3,   4,   5,   6,   7,   8,   9,  10,  11,  12,\n",
       "        13,  14,  15,  16,  17,  18,  19,  20,  21,  22,  23,  24,  25,\n",
       "        26,  27,  28,  29,  30,  31,  32,  33,  34,  35,  36,  37,  38,\n",
       "        39,  40,  41,  42,  43,  44,  45,  46,  47,  48,  49,  50,  51,\n",
       "        52,  53,  54,  55,  56,  57,  58,  59,  60,  61,  62,  63,  64,\n",
       "        65,  66,  67,  68,  69,  70,  71,  72,  73,  74,  75,  76,  77,\n",
       "        78,  79,  80,  81,  82,  83,  84,  85,  86,  87,  88,  89,  90,\n",
       "        91,  92,  93,  94,  95,  96,  97,  98,  99, 100, 101, 102, 103,\n",
       "       104, 105, 106, 107, 108, 109, 110, 111, 112, 113, 114, 115, 116,\n",
       "       117, 118, 119, 120, 121, 122, 123, 124, 125, 126, 127, 128, 129,\n",
       "       130, 131, 132, 133, 134, 135, 136, 137, 138, 139, 140, 141, 142,\n",
       "       143, 144, 145, 146, 147, 148, 149, 150, 151, 152, 153, 154, 155,\n",
       "       156, 157, 158, 159, 160, 161, 162, 163, 164, 165, 166, 167, 168,\n",
       "       169, 170, 171, 172, 173, 174, 175, 176, 177, 178, 179, 180, 181,\n",
       "       182, 183, 184, 185, 186, 187, 188, 189, 190, 191, 192, 193, 194,\n",
       "       195, 196, 197, 198, 199, 200, 201, 202, 203, 204, 205, 206, 207,\n",
       "       208, 209, 210, 211, 212, 213, 214, 215, 216, 217, 218, 219, 220,\n",
       "       221, 222, 223, 224, 225, 226, 227, 228, 229, 230, 231, 232, 233,\n",
       "       234, 235, 236, 237, 238, 239, 240, 241, 242, 243, 244, 245, 246,\n",
       "       247, 248, 249, 250, 251, 252, 253, 254, 255, 256, 257, 258, 259,\n",
       "       260, 261, 262, 263, 264, 265, 266, 267, 268, 269, 270, 271, 272,\n",
       "       273, 274, 275, 276, 277, 278, 279, 280, 281, 282, 283, 284, 285,\n",
       "       286, 287, 288, 289, 290, 291, 292, 293, 294, 295, 296, 297, 298,\n",
       "       299, 300, 301, 302, 303, 304, 305, 306, 307, 308, 309, 310, 311,\n",
       "       312, 313, 314, 315, 316, 317, 318, 319, 320, 321, 322, 323, 324,\n",
       "       325, 326, 327, 328, 329, 330, 331, 332, 333, 334, 335, 336, 337,\n",
       "       338, 339, 340, 341, 342, 343, 344, 345, 346, 347, 348, 349, 350,\n",
       "       351, 352, 353, 354, 355, 356, 357, 358, 359, 360, 361, 362, 363,\n",
       "       364, 365, 366, 367, 368, 369, 370, 371, 372, 373, 374, 375, 376,\n",
       "       377, 378, 379, 380, 381, 382, 383, 384, 385, 386, 387, 388, 389,\n",
       "       390, 391, 392, 393, 394, 395, 396, 397, 398, 399, 400, 401, 402,\n",
       "       403, 404, 405, 406, 407, 408, 409, 410, 411, 412, 413, 414, 415,\n",
       "       416, 417, 418, 419, 420, 421, 422, 423, 424, 425, 426, 427, 428,\n",
       "       429, 430, 431, 432, 433, 434, 435, 436, 437, 438, 439, 440, 441,\n",
       "       442, 443, 444, 445, 446, 447, 448, 449, 450, 451, 452, 453, 454,\n",
       "       455, 456, 457, 458, 459, 460, 461, 462, 463, 464, 465, 466, 467,\n",
       "       468, 469, 470, 471, 472, 473, 474, 475, 476, 477, 478, 479, 480,\n",
       "       481, 482, 483, 484, 485, 486, 487, 488, 489, 490, 491, 492, 493,\n",
       "       494, 495, 496, 497, 498, 499, 500, 501, 502, 503, 504, 505, 506,\n",
       "       507, 508, 509, 510, 511, 512, 513, 514, 515, 516, 517, 518, 519,\n",
       "       520, 521, 522, 523, 524, 525, 526, 527, 528, 529, 530, 531, 532,\n",
       "       533, 534, 535, 536, 537, 538, 539, 540, 541, 542, 543, 544, 545,\n",
       "       546, 547, 548, 549, 550, 551, 552, 553, 554, 555, 556, 557, 558,\n",
       "       559, 560, 561, 562, 563, 564, 565, 566, 567, 568, 569, 570, 571,\n",
       "       572, 573, 574, 575, 576, 577, 578, 579, 580, 581, 582, 583, 584,\n",
       "       585, 586, 587, 588, 589, 590, 591, 592, 593, 594, 595, 596, 597,\n",
       "       598, 599, 600, 601, 602, 603, 604, 605, 606, 607, 608, 609, 610,\n",
       "       611, 612, 613, 614, 615, 616, 617, 618, 619, 620, 621, 622, 623,\n",
       "       624, 625, 626, 627, 628, 629, 630, 631, 632, 633, 634, 635, 636,\n",
       "       637, 638, 639, 640, 641, 642, 643, 644, 645, 646, 647, 648, 649,\n",
       "       650, 651, 652, 653, 654, 655, 656, 657, 658, 659, 660, 661, 662,\n",
       "       663, 664, 665, 666, 667, 668, 669, 670, 671, 672, 673, 674, 675,\n",
       "       676, 677, 678, 679, 680, 681, 682, 683, 684, 685, 686, 687, 688,\n",
       "       689, 690, 691, 692, 693, 694, 695, 696, 697, 698, 699, 700, 701,\n",
       "       702, 703, 704, 705, 706, 707, 708, 709, 710, 711, 712, 713, 714,\n",
       "       715, 716, 717, 718, 719, 720, 721, 722, 723, 724, 725, 726, 727,\n",
       "       728, 729, 730, 731, 732, 733, 734, 735, 736, 737, 738, 739, 740,\n",
       "       741, 742, 743, 744, 745, 746, 747, 748, 749, 750, 751, 752, 753,\n",
       "       754, 755, 756, 757, 758, 759, 760, 761, 762, 763, 764, 765, 766,\n",
       "       767, 768, 769, 770, 771, 772, 773, 774, 775, 776, 777, 778, 779,\n",
       "       780, 781, 782, 783])"
      ]
     },
     "execution_count": 44,
     "metadata": {},
     "output_type": "execute_result"
    }
   ],
   "source": [
    "np.arange(28*28)"
   ]
  },
  {
   "cell_type": "code",
   "execution_count": 40,
   "id": "247615cf",
   "metadata": {},
   "outputs": [
    {
     "data": {
      "text/plain": [
       "dtype('int32')"
      ]
     },
     "execution_count": 40,
     "metadata": {},
     "output_type": "execute_result"
    }
   ],
   "source": [
    "np.arange(8*98).reshape(-1, 98).dtype"
   ]
  },
  {
   "cell_type": "code",
   "execution_count": null,
   "id": "9412ca2e",
   "metadata": {},
   "outputs": [],
   "source": []
  }
 ],
 "metadata": {
  "kernelspec": {
   "display_name": "Python 3 (ipykernel)",
   "language": "python",
   "name": "python3"
  },
  "language_info": {
   "codemirror_mode": {
    "name": "ipython",
    "version": 3
   },
   "file_extension": ".py",
   "mimetype": "text/x-python",
   "name": "python",
   "nbconvert_exporter": "python",
   "pygments_lexer": "ipython3",
   "version": "3.10.0"
  }
 },
 "nbformat": 4,
 "nbformat_minor": 5
}
