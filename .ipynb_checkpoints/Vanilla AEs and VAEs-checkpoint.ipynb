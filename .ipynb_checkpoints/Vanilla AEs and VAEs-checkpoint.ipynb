{
 "cells": [
  {
   "cell_type": "markdown",
   "id": "6a6fd9ad",
   "metadata": {},
   "source": [
    "## Goal\n",
    "Understanding the challenges in training neural nets such as :\n",
    "\n",
    "1. Weight Initialization\n",
    "2. Adjusting Learning Rates\n",
    "3. Appropriate use of Normalization\n",
    "4. Picking the right Activation Functions\n",
    "5. Understanding the flow of gradients through the network\n",
    "\n",
    "## Task\n",
    "Training Autoencoders (AEs) and Variational Autoencoders (VAEs) on the task of efficiently encoding and decoding (reconstructing) images (grayscale) consisting of a white square with side lengthl sampled uniformly and located at some random position in an image that is otherwise of just all black pixels.\n",
    "\n",
    "(Task inspired from this [paper](https://arxiv.org/pdf/1606.05579) and explained in this [video](https://www.youtube.com/watch?v=9zKuYvjFFS8))\n",
    "\n",
    "#### Objective: \n",
    "Get the autoencoder to learn latent representations that encode the location (x, y) and size of the square to enable efficient reconstruction."
   ]
  },
  {
   "cell_type": "code",
   "execution_count": null,
   "id": "da43ee5c",
   "metadata": {},
   "outputs": [],
   "source": [
    "import torch\n",
    "import numpy as np\n",
    "import cv2\n",
    "import random\n",
    "import matplotlib.pyplot as plt"
   ]
  },
  {
   "cell_type": "markdown",
   "id": "518fa2c7",
   "metadata": {},
   "source": [
    "## Creating the dataset"
   ]
  },
  {
   "cell_type": "code",
   "execution_count": 380,
   "id": "1fe0035b",
   "metadata": {},
   "outputs": [],
   "source": [
    "# square_size -> (min_size, max_size)\n",
    "\n",
    "def generate_datapoint(size = (28, 28), square_size = (3, 7)):\n",
    "    \n",
    "    assert square_size[0] < size[0] and square_size[0] < size[1]\n",
    "    assert square_size[1] < size[0] and square_size[1] < size[1]\n",
    "    \n",
    "    img = np.zeros(size)\n",
    "    \n",
    "    random_square_size = random.randint(*square_size)\n",
    "    \n",
    "    x_pos = random.randint(0, size[1] - random_square_size)\n",
    "    y_pos = random.randint(0, size[0] - random_square_size)\n",
    "    \n",
    "    img[x_pos:x_pos + random_square_size, y_pos:y_pos + random_square_size] = 1.0\n",
    "    \n",
    "    return img, x_pos, y_pos, random_square_size\n",
    "\n",
    "\n",
    "def generate_dataset(n = 3000, size = (28, 28), square_size = (3, 7)):\n",
    "    x = []\n",
    "    y = []\n",
    "    \n",
    "    for _ in range(n):\n",
    "        img, x_pos, y_pos, spot_size = generate_datapoint(size, square_size)\n",
    "        x.append(img)\n",
    "        y.append([x_pos, y_pos, spot_size])\n",
    "        \n",
    "    return np.array(x), np.array(y)"
   ]
  },
  {
   "cell_type": "code",
   "execution_count": 381,
   "id": "b3593e4c",
   "metadata": {},
   "outputs": [],
   "source": [
    "X, y = generate_dataset(n = 3000, size = (34, 34), square_size = (3, 7))"
   ]
  },
  {
   "cell_type": "code",
   "execution_count": 382,
   "id": "e88d903f",
   "metadata": {},
   "outputs": [],
   "source": [
    "X_val, y_val = generate_dataset(n = 512, size = (34, 34), square_size = (3, 7))"
   ]
  },
  {
   "cell_type": "code",
   "execution_count": 383,
   "id": "550db5b6",
   "metadata": {},
   "outputs": [
    {
     "data": {
      "text/plain": [
       "(3000, 34, 34)"
      ]
     },
     "execution_count": 383,
     "metadata": {},
     "output_type": "execute_result"
    }
   ],
   "source": [
    "X.shape"
   ]
  },
  {
   "cell_type": "code",
   "execution_count": 384,
   "id": "67f87aa2",
   "metadata": {},
   "outputs": [
    {
     "data": {
      "text/plain": [
       "(512, 34, 34)"
      ]
     },
     "execution_count": 384,
     "metadata": {},
     "output_type": "execute_result"
    }
   ],
   "source": [
    "X_val.shape"
   ]
  },
  {
   "cell_type": "markdown",
   "id": "c18fc6d1",
   "metadata": {},
   "source": [
    "## Define Autoencoder Model"
   ]
  },
  {
   "cell_type": "code",
   "execution_count": 385,
   "id": "f5236470",
   "metadata": {},
   "outputs": [],
   "source": [
    "import torch.nn as nn\n",
    "import torch.nn.functional as F\n",
    "import torch.optim as optim"
   ]
  },
  {
   "cell_type": "code",
   "execution_count": 386,
   "id": "539e19ff",
   "metadata": {},
   "outputs": [],
   "source": [
    "import torch\n",
    "import torch.nn as nn\n",
    "\n",
    "class Autoencoder(nn.Module):\n",
    "    \n",
    "    def __init__(self):\n",
    "        super(Autoencoder, self).__init__()\n",
    "        \n",
    "        self.is_log_mode = False\n",
    "        \n",
    "        self.encoder = nn.Sequential(\n",
    "            nn.Conv2d(1, 16, 3),\n",
    "            nn.BatchNorm2d(16),  # Add BatchNorm2d after Conv2d\n",
    "            nn.LeakyReLU(inplace=True),\n",
    "            nn.MaxPool2d(2, 2),\n",
    "            \n",
    "            nn.Flatten(),\n",
    "            nn.Linear(16 * 16 * 16, 256),\n",
    "            nn.BatchNorm1d(256),  # Add BatchNorm1d after Linear layer\n",
    "            nn.LeakyReLU(inplace=True),\n",
    "            \n",
    "            nn.Linear(256, 64),\n",
    "            nn.BatchNorm1d(64),  # Add BatchNorm1d after Linear layer\n",
    "            \n",
    "        )\n",
    "        \n",
    "        self.decoder = nn.Sequential(\n",
    "            nn.Linear(64, 256),\n",
    "            nn.BatchNorm1d(256),  # Add BatchNorm1d after Linear layer\n",
    "            nn.LeakyReLU(inplace=True),\n",
    "\n",
    "            nn.Linear(256, 16 * 16 * 16),\n",
    "            nn.LeakyReLU(inplace=True),\n",
    "\n",
    "            nn.Unflatten(1, (16, 16, 16)),  # Match the shape after last Conv2d in encoder\n",
    "            \n",
    "            nn.ConvTranspose2d(16, 1, 3),\n",
    "            nn.Upsample(scale_factor= 34/18, mode='nearest'),\n",
    "    \n",
    "            nn.Sigmoid()\n",
    "        )\n",
    "                \n",
    "    def forward(self, x):\n",
    "    \n",
    "        encoded = self.encoder(x)\n",
    "        decoded = self.decoder(encoded)\n",
    "        \n",
    "        return decoded, encoded\n",
    "    \n",
    "    def _initialize_weights(self):\n",
    "        for m in self.modules():\n",
    "            if isinstance(m, (nn.Conv2d, nn.ConvTranspose2d)):\n",
    "                nn.init.kaiming_normal_(m.weight, mode='fan_in', nonlinearity='leaky_relu')\n",
    "                if m.bias is not None:\n",
    "                    nn.init.zeros_(m.bias)\n",
    "            elif isinstance(m, nn.Linear):\n",
    "                nn.init.kaiming_normal_(m.weight, mode='fan_in', nonlinearity='leaky_relu')\n",
    "                if m.bias is not None:\n",
    "                    nn.init.zeros_(m.bias)\n",
    "        \n",
    "    def log_mode(self, val):\n",
    "        assert type(val) == bool\n",
    "        self.is_log_mode = val\n"
   ]
  },
  {
   "cell_type": "code",
   "execution_count": 387,
   "id": "21ac96ab",
   "metadata": {},
   "outputs": [],
   "source": [
    "ae_model = Autoencoder()"
   ]
  },
  {
   "cell_type": "code",
   "execution_count": 388,
   "id": "a1445d59",
   "metadata": {},
   "outputs": [],
   "source": [
    "ae_criterion = nn.MSELoss()\n",
    "ae_optimizer = optim.NAdam(ae_model.parameters(), lr = 1e-5)"
   ]
  },
  {
   "cell_type": "markdown",
   "id": "0d11e4d1",
   "metadata": {},
   "source": [
    "## Train AE"
   ]
  },
  {
   "cell_type": "code",
   "execution_count": 389,
   "id": "bd817820",
   "metadata": {},
   "outputs": [
    {
     "name": "stdout",
     "output_type": "stream",
     "text": [
      "Epoch : 0 loss = 0.20974 \t val_loss = 0.21160\n",
      "Epoch : 1 loss = 0.15191 \t val_loss = 0.15531\n",
      "Epoch : 2 loss = 0.11157 \t val_loss = 0.11586\n",
      "Epoch : 3 loss = 0.08453 \t val_loss = 0.08870\n",
      "Epoch : 4 loss = 0.06651 \t val_loss = 0.07020\n",
      "Epoch : 5 loss = 0.05438 \t val_loss = 0.05757\n",
      "Epoch : 6 loss = 0.04605 \t val_loss = 0.04881\n",
      "Epoch : 7 loss = 0.04018 \t val_loss = 0.04255\n",
      "Epoch : 8 loss = 0.03591 \t val_loss = 0.03794\n",
      "Epoch : 9 loss = 0.03267 \t val_loss = 0.03443\n",
      "Epoch : 10 loss = 0.03012 \t val_loss = 0.03165\n",
      "Epoch : 11 loss = 0.02804 \t val_loss = 0.02938\n",
      "Epoch : 12 loss = 0.02627 \t val_loss = 0.02746\n",
      "Epoch : 13 loss = 0.02474 \t val_loss = 0.02578\n",
      "Epoch : 14 loss = 0.02338 \t val_loss = 0.02428\n",
      "Epoch : 15 loss = 0.02214 \t val_loss = 0.02292\n",
      "Epoch : 16 loss = 0.02100 \t val_loss = 0.02169\n",
      "Epoch : 17 loss = 0.01993 \t val_loss = 0.02055\n",
      "Epoch : 18 loss = 0.01895 \t val_loss = 0.01950\n",
      "Epoch : 19 loss = 0.01803 \t val_loss = 0.01853\n",
      "Epoch : 20 loss = 0.01719 \t val_loss = 0.01764\n",
      "Epoch : 21 loss = 0.01640 \t val_loss = 0.01681\n",
      "Epoch : 22 loss = 0.01565 \t val_loss = 0.01605\n",
      "Epoch : 23 loss = 0.01496 \t val_loss = 0.01535\n",
      "Epoch : 24 loss = 0.01433 \t val_loss = 0.01470\n",
      "Epoch : 25 loss = 0.01374 \t val_loss = 0.01410\n",
      "Epoch : 26 loss = 0.01320 \t val_loss = 0.01354\n",
      "Epoch : 27 loss = 0.01270 \t val_loss = 0.01304\n",
      "Epoch : 28 loss = 0.01225 \t val_loss = 0.01257\n",
      "Epoch : 29 loss = 0.01182 \t val_loss = 0.01213\n"
     ]
    }
   ],
   "source": [
    "batch_size = 32\n",
    "n_train_batches = X.shape[0] // batch_size\n",
    "n_val_batches = X_val.shape[0] // batch_size\n",
    "n_epochs = 30\n",
    "losses = []\n",
    "val_losses = []\n",
    "\n",
    "for epoch in range(n_epochs):\n",
    "    \n",
    "    ae_model.train()\n",
    "    for batch_ind in range(n_batches):\n",
    "        \n",
    "        x = torch.Tensor(X[batch_ind * batch_size: (batch_ind + 1) * batch_size]).unsqueeze(1)\n",
    "        reconstructed, _ = ae_model(x)\n",
    "        loss = ae_criterion(reconstructed, x)\n",
    "\n",
    "        \n",
    "        ae_optimizer.zero_grad()\n",
    "        loss.backward()\n",
    "        ae_optimizer.step()\n",
    "        \n",
    "    losses.append(loss.item())\n",
    "    \n",
    "    ae_model.eval()\n",
    "    with torch.no_grad():\n",
    "        val_loss = torch.Tensor([0])\n",
    "        for batch_ind in range(n_val_batches):\n",
    "            x = torch.Tensor(X_val[batch_ind * batch_size : (batch_ind + 1) * batch_size]).unsqueeze(1)\n",
    "            reconstructed, _ = ae_model(x)\n",
    "            \n",
    "            val_loss += ae_criterion(reconstructed, x)\n",
    "            \n",
    "        \n",
    "        val_loss = val_loss.item() / n_val_batches\n",
    "        val_losses.append(val_loss)\n",
    "        print(f\"Epoch : {epoch} loss = {losses[-1]:.5f} \\t val_loss = {val_loss:.5f}\")"
   ]
  },
  {
   "cell_type": "code",
   "execution_count": 390,
   "id": "a685bd94",
   "metadata": {},
   "outputs": [
    {
     "data": {
      "image/png": "[encoded data removed]",
      "text/plain": [
       "<Figure size 640x480 with 1 Axes>"
      ]
     },
     "metadata": {},
     "output_type": "display_data"
    }
   ],
   "source": [
    "plt.plot(losses)\n",
    "plt.plot(val_losses)\n",
    "\n",
    "plt.show()"
   ]
  },
  {
   "cell_type": "code",
   "execution_count": 391,
   "id": "339e7669",
   "metadata": {},
   "outputs": [
    {
     "data": {
      "text/plain": [
       "Autoencoder(\n",
       "  (encoder): Sequential(\n",
       "    (0): Conv2d(1, 16, kernel_size=(3, 3), stride=(1, 1))\n",
       "    (1): BatchNorm2d(16, eps=1e-05, momentum=0.1, affine=True, track_running_stats=True)\n",
       "    (2): LeakyReLU(negative_slope=0.01, inplace=True)\n",
       "    (3): MaxPool2d(kernel_size=2, stride=2, padding=0, dilation=1, ceil_mode=False)\n",
       "    (4): Flatten(start_dim=1, end_dim=-1)\n",
       "    (5): Linear(in_features=4096, out_features=256, bias=True)\n",
       "    (6): BatchNorm1d(256, eps=1e-05, momentum=0.1, affine=True, track_running_stats=True)\n",
       "    (7): LeakyReLU(negative_slope=0.01, inplace=True)\n",
       "    (8): Linear(in_features=256, out_features=64, bias=True)\n",
       "    (9): BatchNorm1d(64, eps=1e-05, momentum=0.1, affine=True, track_running_stats=True)\n",
       "  )\n",
       "  (decoder): Sequential(\n",
       "    (0): Linear(in_features=64, out_features=256, bias=True)\n",
       "    (1): BatchNorm1d(256, eps=1e-05, momentum=0.1, affine=True, track_running_stats=True)\n",
       "    (2): LeakyReLU(negative_slope=0.01, inplace=True)\n",
       "    (3): Linear(in_features=256, out_features=4096, bias=True)\n",
       "    (4): LeakyReLU(negative_slope=0.01, inplace=True)\n",
       "    (5): Unflatten(dim=1, unflattened_size=(16, 16, 16))\n",
       "    (6): ConvTranspose2d(16, 1, kernel_size=(3, 3), stride=(1, 1))\n",
       "    (7): Upsample(scale_factor=1.8888888888888888, mode=nearest)\n",
       "    (8): Sigmoid()\n",
       "  )\n",
       ")"
      ]
     },
     "execution_count": 391,
     "metadata": {},
     "output_type": "execute_result"
    }
   ],
   "source": [
    "ae_model.eval()"
   ]
  },
  {
   "cell_type": "code",
   "execution_count": 392,
   "id": "d9e6e763",
   "metadata": {},
   "outputs": [],
   "source": [
    "_x = torch.Tensor(X[20]).unsqueeze(0).unsqueeze(1)"
   ]
  },
  {
   "cell_type": "code",
   "execution_count": 393,
   "id": "dcfd8341",
   "metadata": {},
   "outputs": [
    {
     "data": {
      "text/plain": [
       "torch.Size([1, 1, 34, 34])"
      ]
     },
     "execution_count": 393,
     "metadata": {},
     "output_type": "execute_result"
    }
   ],
   "source": [
    "_x.shape"
   ]
  },
  {
   "cell_type": "code",
   "execution_count": 394,
   "id": "abd95cdb",
   "metadata": {},
   "outputs": [],
   "source": [
    "_recon, latent = ae_model(_x)"
   ]
  },
  {
   "cell_type": "code",
   "execution_count": 395,
   "id": "0859a86c",
   "metadata": {},
   "outputs": [
    {
     "data": {
      "text/plain": [
       "tensor(0.0107, grad_fn=<MseLossBackward0>)"
      ]
     },
     "execution_count": 395,
     "metadata": {},
     "output_type": "execute_result"
    }
   ],
   "source": [
    "ae_criterion(_recon, _x)"
   ]
  },
  {
   "cell_type": "code",
   "execution_count": 396,
   "id": "98bf689e",
   "metadata": {},
   "outputs": [],
   "source": [
    "img = np.array(_x.squeeze().detach().numpy())\n",
    "recon_img = _recon.squeeze().detach().numpy()"
   ]
  },
  {
   "cell_type": "code",
   "execution_count": 398,
   "id": "fdfa9975",
   "metadata": {},
   "outputs": [
    {
     "data": {
      "image/png": "[encoded data removed]",
      "text/plain": [
       "<Figure size 800x400 with 2 Axes>"
      ]
     },
     "metadata": {},
     "output_type": "display_data"
    }
   ],
   "source": [
    "fig, axes = plt.subplots(1, 2, figsize=(8, 4)\n",
    "axes[0].imshow(img, cmap = 'gray')\n",
    "axes[1].imshow(recon_img, cmap = 'gray')\n",
    "\n",
    "plt.show()"
   ]
  },
  {
   "cell_type": "code",
   "execution_count": 400,
   "id": "076d1297",
   "metadata": {},
   "outputs": [
    {
     "data": {
      "image/png": "[encoded data removed]",
      "text/plain": [
       "<Figure size 800x400 with 2 Axes>"
      ]
     },
     "metadata": {},
     "output_type": "display_data"
    }
   ],
   "source": [
    "_x = torch.Tensor(X[25]).unsqueeze(0).unsqueeze(1)\n",
    "_recon, latent = ae_model(_x)\n",
    "\n",
    "img = np.array(_x.squeeze().detach().numpy())\n",
    "recon_img = _recon.squeeze().detach().numpy()\n",
    "\n",
    "fig, axes = plt.subplots(1, 2, figsize=(8, 4))\n",
    "\n",
    "axes[0].imshow(img, cmap = 'gray')\n",
    "axes[1].imshow(recon_img, cmap = 'gray')\n",
    "\n",
    "plt.show()"
   ]
  },
  {
   "cell_type": "markdown",
   "id": "7b8447b0",
   "metadata": {},
   "source": [
    "## Scratch Area"
   ]
  },
  {
   "cell_type": "code",
   "execution_count": 153,
   "id": "7b832b45",
   "metadata": {},
   "outputs": [
    {
     "data": {
      "text/plain": [
       "torch.Size([32, 1, 32, 32])"
      ]
     },
     "execution_count": 153,
     "metadata": {},
     "output_type": "execute_result"
    }
   ],
   "source": [
    "torch.Tensor(X[32:64]).unsqueeze(1).shape"
   ]
  },
  {
   "cell_type": "code",
   "execution_count": 198,
   "id": "8260147b",
   "metadata": {},
   "outputs": [
    {
     "data": {
      "text/plain": [
       "0.0465235710144043"
      ]
     },
     "execution_count": 198,
     "metadata": {},
     "output_type": "execute_result"
    }
   ],
   "source": [
    "ae_criterion(torch.Tensor(X[0:batch_size]).unsqueeze(1).flatten(), torch.Tensor(X[batch_size:batch_size*2]).unsqueeze(1).flatten())"
   ]
  },
  {
   "cell_type": "code",
   "execution_count": 85,
   "id": "2f2107d9",
   "metadata": {},
   "outputs": [
    {
     "data": {
      "text/plain": [
       "<matplotlib.image.AxesImage at 0x28fc8cbb100>"
      ]
     },
     "execution_count": 85,
     "metadata": {},
     "output_type": "execute_result"
    },
    {
     "data": {
      "image/png": "[encoded data removed]",
      "text/plain": [
       "<Figure size 640x480 with 1 Axes>"
      ]
     },
     "metadata": {},
     "output_type": "display_data"
    }
   ],
   "source": [
    "# x = np.ones((28, 28), dtype = np.uint8) * 255\n",
    "# plt.imshow(x, cmap='gray', vmin=0, vmax=255)\n",
    "\n",
    "\n",
    "x = np.ones((28, 28)) * np.random.uniform(size = (28, 28)) * 255\n",
    "plt.imshow(x, cmap = 'gray')"
   ]
  }
 ],
 "metadata": {
  "kernelspec": {
   "display_name": "Python 3 (ipykernel)",
   "language": "python",
   "name": "python3"
  },
  "language_info": {
   "codemirror_mode": {
    "name": "ipython",
    "version": 3
   },
   "file_extension": ".py",
   "mimetype": "text/x-python",
   "name": "python",
   "nbconvert_exporter": "python",
   "pygments_lexer": "ipython3",
   "version": "3.10.0"
  }
 },
 "nbformat": 4,
 "nbformat_minor": 5
}
