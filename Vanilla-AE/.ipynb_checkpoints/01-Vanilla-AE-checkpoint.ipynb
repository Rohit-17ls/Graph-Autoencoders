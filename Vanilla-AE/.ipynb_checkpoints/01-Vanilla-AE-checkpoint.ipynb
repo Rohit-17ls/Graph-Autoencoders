{
 "cells": [
  {
   "cell_type": "markdown",
   "id": "c500c06d",
   "metadata": {},
   "source": [
    "## Goal\n",
    "Understanding the challenges in training neural nets such as :\n",
    "\n",
    "1. Weight Initialization\n",
    "2. Adjusting Learning Rates\n",
    "3. Appropriate use of Normalization\n",
    "4. Picking the right Activation Functions\n",
    "5. Understanding the flow of gradients through the network\n",
    "\n",
    "## Task\n",
    "Training Autoencoders (AEs) and Variational Autoencoders (VAEs) on the task of efficiently encoding and decoding (reconstructing) images (grayscale) consisting of a white square with side length sampled uniformly and located at some random position in an image that is otherwise just made up of black pixels.\n",
    "\n",
    "(Task inspired from this [paper](https://arxiv.org/pdf/1606.05579) and explained in this [video](https://www.youtube.com/watch?v=9zKuYvjFFS8))\n",
    "\n",
    "#### Objectives: \n",
    "1. Get the autoencoder to learn latent representations that encode the location (x, y) and size of the square to enable \n",
    "efficient reconstruction.\n",
    "2. Observe how well the model is able to perform when the image size is changes or when the number of parameters and the latent size is reduced/increased\n",
    "3. Identify reasons for exploding gradients if any ([Autoencoders can quickly explode if we are not careful](https://www.reddit.com/r/MachineLearning/comments/56dy7v/how_to_train_an_autoencoder/))\n",
    "\n",
    "#### Task Modification:\n",
    "We can consider applying this task with colored squares as well to encourage encoding the color information as well in the latent representation"
   ]
  },
  {
   "cell_type": "code",
   "execution_count": 1,
   "id": "b24837a6",
   "metadata": {},
   "outputs": [],
   "source": [
    "import torch\n",
    "import numpy as np\n",
    "import cv2\n",
    "import random\n",
    "import matplotlib.pyplot as plt"
   ]
  },
  {
   "cell_type": "markdown",
   "id": "39414843",
   "metadata": {},
   "source": [
    "## Creating the dataset"
   ]
  },
  {
   "cell_type": "code",
   "execution_count": 2,
   "id": "eac9b1a0",
   "metadata": {},
   "outputs": [],
   "source": [
    "# square_size -> (min_size, max_size)\n",
    "\n",
    "def generate_datapoint(size = (28, 28), square_size = (3, 7), grayscale = True):\n",
    "    \n",
    "    assert square_size[0] < size[0] and square_size[0] < size[1]\n",
    "    assert square_size[1] < size[0] and square_size[1] < size[1]\n",
    "    \n",
    "    random_square_size = random.randint(*square_size)\n",
    "    \n",
    "    x_pos = random.randint(0, size[1] - random_square_size)\n",
    "    y_pos = random.randint(0, size[0] - random_square_size)\n",
    "    \n",
    "    if grayscale:\n",
    "        img = np.zeros(size)\n",
    "        img[x_pos:x_pos + random_square_size, y_pos:y_pos + random_square_size] = 1.0\n",
    "    else:\n",
    "        img = np.zeros((3, *size))\n",
    "        \n",
    "        img[0,x_pos:x_pos + random_square_size, y_pos:y_pos + random_square_size] = random.random()\n",
    "        img[1, x_pos:x_pos + random_square_size, y_pos:y_pos + random_square_size] = random.random()\n",
    "        img[2, x_pos:x_pos + random_square_size, y_pos:y_pos + random_square_size] = random.random()\n",
    "        \n",
    "    \n",
    "    return img, x_pos, y_pos, random_square_size\n",
    "\n",
    "\n",
    "def generate_dataset(n = 3000, size = (28, 28), square_size = (3, 7), grayscale = True):\n",
    "    x = []\n",
    "    y = []\n",
    "    \n",
    "    for _ in range(n):\n",
    "        img, x_pos, y_pos, spot_size = generate_datapoint(size, square_size, grayscale = grayscale)\n",
    "        x.append(img)\n",
    "        y.append([x_pos, y_pos, spot_size])\n",
    "        \n",
    "    return np.array(x), np.array(y)"
   ]
  },
  {
   "cell_type": "markdown",
   "id": "5baf4789",
   "metadata": {},
   "source": [
    "## Define Autoencoder Model"
   ]
  },
  {
   "cell_type": "code",
   "execution_count": 3,
   "id": "7b70ff7d",
   "metadata": {},
   "outputs": [],
   "source": [
    "import torch.nn as nn\n",
    "import torch.nn.functional as F\n",
    "import torch.optim as optim"
   ]
  },
  {
   "cell_type": "code",
   "execution_count": 4,
   "id": "e8e99609",
   "metadata": {},
   "outputs": [],
   "source": [
    "import torch\n",
    "import torch.nn as nn\n",
    "\n",
    "class Autoencoder(nn.Module):\n",
    "    \n",
    "    def __init__(self,\n",
    "                 s,\n",
    "                 data_channels = 1,\n",
    "                 conv_feature_maps = 16,\n",
    "                 kernel_size = 3,\n",
    "                 stride_length = 1,\n",
    "                 pool_size = 2,\n",
    "                 fc_size = 256,\n",
    "                 latent_size = 64\n",
    "                ):\n",
    "        super(Autoencoder, self).__init__()\n",
    "        \n",
    "        self.is_log_mode = False\n",
    "        \n",
    "        conv2d_output_size = (s-kernel_size)//stride_length + 1\n",
    "        pooling_output_size = conv2d_output_size//2\n",
    "        deconv2d_output_size = (pooling_output_size - 1) * stride_length + kernel_size\n",
    "        \n",
    "        print(f\"conv2d_output_size : {conv2d_output_size}\")\n",
    "        print(f\"pooling_output_size : {pooling_output_size}\")\n",
    "        print(f\"flatten_size : {conv_feature_maps * pooling_output_size * pooling_output_size}\")\n",
    "        \n",
    "        self.encoder = nn.Sequential(\n",
    "            nn.Conv2d(data_channels, conv_feature_maps, kernel_size, stride = stride_length),\n",
    "            nn.BatchNorm2d(conv_feature_maps),\n",
    "            nn.LeakyReLU(inplace=True),\n",
    "            nn.MaxPool2d(pool_size, pool_size),\n",
    "            \n",
    "            nn.Flatten(),\n",
    "            nn.Linear(conv_feature_maps * pooling_output_size * pooling_output_size, fc_size),\n",
    "            nn.BatchNorm1d(fc_size),\n",
    "            nn.LeakyReLU(inplace=True),\n",
    "            \n",
    "            nn.Linear(fc_size, latent_size),\n",
    "            nn.BatchNorm1d(latent_size),\n",
    "            \n",
    "        )\n",
    "        \n",
    "        self.decoder = nn.Sequential(\n",
    "            nn.Linear(latent_size, fc_size),\n",
    "            nn.BatchNorm1d(fc_size),\n",
    "            nn.LeakyReLU(inplace=True),\n",
    "\n",
    "            nn.Linear(fc_size, conv_feature_maps * pooling_output_size * pooling_output_size),\n",
    "            nn.LeakyReLU(inplace=True),\n",
    "\n",
    "            nn.Unflatten(1, (conv_feature_maps, pooling_output_size, pooling_output_size)),\n",
    "            \n",
    "            nn.ConvTranspose2d(conv_feature_maps, data_channels, kernel_size, stride = stride_length),\n",
    "            nn.Upsample(scale_factor= s/deconv2d_output_size, mode='nearest'),\n",
    "    \n",
    "            nn.Sigmoid()\n",
    "        )\n",
    "                \n",
    "    def forward(self, x):\n",
    "    \n",
    "        encoded = self.encoder(x)\n",
    "        decoded = self.decoder(encoded)\n",
    "        \n",
    "        return decoded, encoded\n",
    "    \n",
    "    def _initialize_weights(self):\n",
    "        for m in self.modules():\n",
    "            if isinstance(m, (nn.Conv2d, nn.ConvTranspose2d)):\n",
    "                nn.init.kaiming_normal_(m.weight, mode='fan_in', nonlinearity='leaky_relu')\n",
    "                if m.bias is not None:\n",
    "                    nn.init.zeros_(m.bias)\n",
    "            elif isinstance(m, nn.Linear):\n",
    "                nn.init.kaiming_normal_(m.weight, mode='fan_in', nonlinearity='leaky_relu')\n",
    "                if m.bias is not None:\n",
    "                    nn.init.zeros_(m.bias)\n",
    "        \n",
    "    def log_mode(self, val):\n",
    "        assert type(val) == bool\n",
    "        self.is_log_mode = val\n"
   ]
  },
  {
   "cell_type": "markdown",
   "id": "7f828dfa",
   "metadata": {},
   "source": [
    "## Initialize model and data"
   ]
  },
  {
   "cell_type": "code",
   "execution_count": 5,
   "id": "220a3850",
   "metadata": {},
   "outputs": [
    {
     "data": {
      "text/plain": [
       "((3000, 64, 64), (512, 64, 64))"
      ]
     },
     "execution_count": 5,
     "metadata": {},
     "output_type": "execute_result"
    }
   ],
   "source": [
    "s = 64\n",
    "grayscale = True\n",
    "\n",
    "X, y = generate_dataset(n = 3000, size = (s, s), square_size = (3, 16), grayscale = grayscale)\n",
    "X_val, y_val = generate_dataset(n = 512, size = (s, s), square_size = (3, 16), grayscale = grayscale)\n",
    "\n",
    "X.shape, X_val.shape"
   ]
  },
  {
   "cell_type": "code",
   "execution_count": 7,
   "id": "e30310c6",
   "metadata": {},
   "outputs": [
    {
     "name": "stdout",
     "output_type": "stream",
     "text": [
      "conv2d_output_size : 31\n",
      "pooling_output_size : 15\n",
      "flatten_size : 3600\n"
     ]
    }
   ],
   "source": [
    "ae_model = Autoencoder(s,\n",
    "                       data_channels = 1 if grayscale else 3,\n",
    "                       conv_feature_maps = 16,\n",
    "                       stride_length = 2,\n",
    "                       fc_size = 48,\n",
    "                       latent_size = 16)"
   ]
  },
  {
   "cell_type": "code",
   "execution_count": 8,
   "id": "a6e2b258",
   "metadata": {},
   "outputs": [
    {
     "data": {
      "text/plain": [
       "Autoencoder(\n",
       "  (encoder): Sequential(\n",
       "    (0): Conv2d(1, 16, kernel_size=(3, 3), stride=(2, 2))\n",
       "    (1): BatchNorm2d(16, eps=1e-05, momentum=0.1, affine=True, track_running_stats=True)\n",
       "    (2): LeakyReLU(negative_slope=0.01, inplace=True)\n",
       "    (3): MaxPool2d(kernel_size=2, stride=2, padding=0, dilation=1, ceil_mode=False)\n",
       "    (4): Flatten(start_dim=1, end_dim=-1)\n",
       "    (5): Linear(in_features=3600, out_features=48, bias=True)\n",
       "    (6): BatchNorm1d(48, eps=1e-05, momentum=0.1, affine=True, track_running_stats=True)\n",
       "    (7): LeakyReLU(negative_slope=0.01, inplace=True)\n",
       "    (8): Linear(in_features=48, out_features=16, bias=True)\n",
       "    (9): BatchNorm1d(16, eps=1e-05, momentum=0.1, affine=True, track_running_stats=True)\n",
       "  )\n",
       "  (decoder): Sequential(\n",
       "    (0): Linear(in_features=16, out_features=48, bias=True)\n",
       "    (1): BatchNorm1d(48, eps=1e-05, momentum=0.1, affine=True, track_running_stats=True)\n",
       "    (2): LeakyReLU(negative_slope=0.01, inplace=True)\n",
       "    (3): Linear(in_features=48, out_features=3600, bias=True)\n",
       "    (4): LeakyReLU(negative_slope=0.01, inplace=True)\n",
       "    (5): Unflatten(dim=1, unflattened_size=(16, 15, 15))\n",
       "    (6): ConvTranspose2d(16, 1, kernel_size=(3, 3), stride=(2, 2))\n",
       "    (7): Upsample(scale_factor=2.064516129032258, mode=nearest)\n",
       "    (8): Sigmoid()\n",
       "  )\n",
       ")"
      ]
     },
     "execution_count": 8,
     "metadata": {},
     "output_type": "execute_result"
    }
   ],
   "source": [
    "ae_model"
   ]
  },
  {
   "cell_type": "code",
   "execution_count": 10,
   "id": "a0d0d580",
   "metadata": {},
   "outputs": [],
   "source": [
    "ae_criterion = nn.MSELoss()\n",
    "ae_optimizer = optim.NAdam(ae_model.parameters(), lr = 1e-4)"
   ]
  },
  {
   "cell_type": "markdown",
   "id": "5773a4d4",
   "metadata": {},
   "source": [
    "## Train AE (grayscale)"
   ]
  },
  {
   "cell_type": "code",
   "execution_count": 11,
   "id": "ad13d0d8",
   "metadata": {},
   "outputs": [
    {
     "name": "stdout",
     "output_type": "stream",
     "text": [
      "Epoch : 0/300 \t loss = 0.15169 \t val_loss = 0.15303\n",
      "Epoch : 1/300 \t loss = 0.10879 \t val_loss = 0.11069\n",
      "Epoch : 2/300 \t loss = 0.06913 \t val_loss = 0.07292\n",
      "Epoch : 3/300 \t loss = 0.04556 \t val_loss = 0.04999\n",
      "Epoch : 4/300 \t loss = 0.03450 \t val_loss = 0.03881\n",
      "Epoch : 5/300 \t loss = 0.02927 \t val_loss = 0.03323\n",
      "Epoch : 6/300 \t loss = 0.02654 \t val_loss = 0.03009\n",
      "Epoch : 7/300 \t loss = 0.02491 \t val_loss = 0.02805\n",
      "Epoch : 8/300 \t loss = 0.02376 \t val_loss = 0.02659\n",
      "Epoch : 9/300 \t loss = 0.02283 \t val_loss = 0.02534\n",
      "Epoch : 10/300 \t loss = 0.02199 \t val_loss = 0.02422\n",
      "Epoch : 11/300 \t loss = 0.02118 \t val_loss = 0.02315\n",
      "Epoch : 12/300 \t loss = 0.02037 \t val_loss = 0.02213\n",
      "Epoch : 13/300 \t loss = 0.01956 \t val_loss = 0.02114\n",
      "Epoch : 14/300 \t loss = 0.01877 \t val_loss = 0.02022\n",
      "Epoch : 15/300 \t loss = 0.01801 \t val_loss = 0.01933\n",
      "Epoch : 16/300 \t loss = 0.01730 \t val_loss = 0.01850\n",
      "Epoch : 17/300 \t loss = 0.01663 \t val_loss = 0.01772\n",
      "Epoch : 18/300 \t loss = 0.01596 \t val_loss = 0.01700\n",
      "Epoch : 19/300 \t loss = 0.01533 \t val_loss = 0.01631\n",
      "Epoch : 20/300 \t loss = 0.01474 \t val_loss = 0.01567\n",
      "Epoch : 21/300 \t loss = 0.01417 \t val_loss = 0.01506\n",
      "Epoch : 22/300 \t loss = 0.01362 \t val_loss = 0.01447\n",
      "Epoch : 23/300 \t loss = 0.01310 \t val_loss = 0.01390\n",
      "Epoch : 24/300 \t loss = 0.01258 \t val_loss = 0.01336\n",
      "Epoch : 25/300 \t loss = 0.01208 \t val_loss = 0.01282\n",
      "Epoch : 26/300 \t loss = 0.01159 \t val_loss = 0.01232\n",
      "Epoch : 27/300 \t loss = 0.01111 \t val_loss = 0.01185\n",
      "Epoch : 28/300 \t loss = 0.01064 \t val_loss = 0.01138\n",
      "Epoch : 29/300 \t loss = 0.01021 \t val_loss = 0.01096\n",
      "Epoch : 30/300 \t loss = 0.00981 \t val_loss = 0.01056\n",
      "Epoch : 31/300 \t loss = 0.00939 \t val_loss = 0.01018\n",
      "Epoch : 32/300 \t loss = 0.00904 \t val_loss = 0.00986\n",
      "Epoch : 33/300 \t loss = 0.00868 \t val_loss = 0.00954\n",
      "Epoch : 34/300 \t loss = 0.00834 \t val_loss = 0.00922\n",
      "Epoch : 35/300 \t loss = 0.00805 \t val_loss = 0.00899\n",
      "Epoch : 36/300 \t loss = 0.00778 \t val_loss = 0.00874\n",
      "Epoch : 37/300 \t loss = 0.00747 \t val_loss = 0.00853\n",
      "Epoch : 38/300 \t loss = 0.00731 \t val_loss = 0.00831\n",
      "Epoch : 39/300 \t loss = 0.00700 \t val_loss = 0.00813\n",
      "Epoch : 40/300 \t loss = 0.00685 \t val_loss = 0.00795\n",
      "Epoch : 41/300 \t loss = 0.00660 \t val_loss = 0.00781\n",
      "Epoch : 42/300 \t loss = 0.00643 \t val_loss = 0.00764\n",
      "Epoch : 43/300 \t loss = 0.00626 \t val_loss = 0.00755\n",
      "Epoch : 44/300 \t loss = 0.00614 \t val_loss = 0.00740\n",
      "Epoch : 45/300 \t loss = 0.00601 \t val_loss = 0.00725\n",
      "Epoch : 46/300 \t loss = 0.00585 \t val_loss = 0.00718\n",
      "Epoch : 47/300 \t loss = 0.00570 \t val_loss = 0.00709\n",
      "Epoch : 48/300 \t loss = 0.00558 \t val_loss = 0.00695\n",
      "Epoch : 49/300 \t loss = 0.00546 \t val_loss = 0.00692\n",
      "Epoch : 50/300 \t loss = 0.00541 \t val_loss = 0.00681\n",
      "Epoch : 51/300 \t loss = 0.00526 \t val_loss = 0.00673\n",
      "Epoch : 52/300 \t loss = 0.00515 \t val_loss = 0.00666\n",
      "Epoch : 53/300 \t loss = 0.00503 \t val_loss = 0.00658\n",
      "Epoch : 54/300 \t loss = 0.00495 \t val_loss = 0.00648\n",
      "Epoch : 55/300 \t loss = 0.00490 \t val_loss = 0.00647\n",
      "Epoch : 56/300 \t loss = 0.00479 \t val_loss = 0.00636\n",
      "Epoch : 57/300 \t loss = 0.00473 \t val_loss = 0.00633\n",
      "Epoch : 58/300 \t loss = 0.00464 \t val_loss = 0.00628\n",
      "Epoch : 59/300 \t loss = 0.00454 \t val_loss = 0.00625\n",
      "Epoch : 60/300 \t loss = 0.00448 \t val_loss = 0.00616\n",
      "Epoch : 61/300 \t loss = 0.00441 \t val_loss = 0.00615\n",
      "Epoch : 62/300 \t loss = 0.00438 \t val_loss = 0.00611\n",
      "Epoch : 63/300 \t loss = 0.00433 \t val_loss = 0.00606\n",
      "Epoch : 64/300 \t loss = 0.00418 \t val_loss = 0.00600\n",
      "Epoch : 65/300 \t loss = 0.00417 \t val_loss = 0.00598\n",
      "Epoch : 66/300 \t loss = 0.00410 \t val_loss = 0.00594\n",
      "Epoch : 67/300 \t loss = 0.00412 \t val_loss = 0.00589\n",
      "Epoch : 68/300 \t loss = 0.00404 \t val_loss = 0.00589\n",
      "Epoch : 69/300 \t loss = 0.00406 \t val_loss = 0.00585\n",
      "Epoch : 70/300 \t loss = 0.00395 \t val_loss = 0.00588\n",
      "Epoch : 71/300 \t loss = 0.00393 \t val_loss = 0.00579\n",
      "Epoch : 72/300 \t loss = 0.00382 \t val_loss = 0.00580\n",
      "Epoch : 73/300 \t loss = 0.00384 \t val_loss = 0.00575\n",
      "Epoch : 74/300 \t loss = 0.00380 \t val_loss = 0.00578\n",
      "Epoch : 75/300 \t loss = 0.00373 \t val_loss = 0.00573\n",
      "Epoch : 76/300 \t loss = 0.00365 \t val_loss = 0.00573\n",
      "Epoch : 77/300 \t loss = 0.00367 \t val_loss = 0.00569\n",
      "Epoch : 78/300 \t loss = 0.00362 \t val_loss = 0.00564\n",
      "Epoch : 79/300 \t loss = 0.00363 \t val_loss = 0.00563\n",
      "Epoch : 80/300 \t loss = 0.00360 \t val_loss = 0.00568\n",
      "Epoch : 81/300 \t loss = 0.00358 \t val_loss = 0.00563\n",
      "Epoch : 82/300 \t loss = 0.00350 \t val_loss = 0.00558\n",
      "Epoch : 83/300 \t loss = 0.00347 \t val_loss = 0.00562\n",
      "Epoch : 84/300 \t loss = 0.00346 \t val_loss = 0.00556\n",
      "Epoch : 85/300 \t loss = 0.00348 \t val_loss = 0.00557\n",
      "Epoch : 86/300 \t loss = 0.00341 \t val_loss = 0.00557\n",
      "Epoch : 87/300 \t loss = 0.00339 \t val_loss = 0.00560\n",
      "Epoch : 88/300 \t loss = 0.00335 \t val_loss = 0.00554\n",
      "Epoch : 89/300 \t loss = 0.00334 \t val_loss = 0.00548\n",
      "Epoch : 90/300 \t loss = 0.00331 \t val_loss = 0.00554\n",
      "Epoch : 91/300 \t loss = 0.00329 \t val_loss = 0.00543\n",
      "Epoch : 92/300 \t loss = 0.00324 \t val_loss = 0.00555\n",
      "Epoch : 93/300 \t loss = 0.00323 \t val_loss = 0.00545\n",
      "Epoch : 94/300 \t loss = 0.00324 \t val_loss = 0.00542\n",
      "Epoch : 95/300 \t loss = 0.00324 \t val_loss = 0.00541\n",
      "Epoch : 96/300 \t loss = 0.00322 \t val_loss = 0.00546\n",
      "Epoch : 97/300 \t loss = 0.00320 \t val_loss = 0.00548\n",
      "Epoch : 98/300 \t loss = 0.00317 \t val_loss = 0.00545\n",
      "Epoch : 99/300 \t loss = 0.00314 \t val_loss = 0.00546\n",
      "Epoch : 100/300 \t loss = 0.00314 \t val_loss = 0.00549\n",
      "Epoch : 101/300 \t loss = 0.00311 \t val_loss = 0.00546\n",
      "Epoch : 102/300 \t loss = 0.00310 \t val_loss = 0.00550\n",
      "Epoch : 103/300 \t loss = 0.00310 \t val_loss = 0.00545\n",
      "Epoch : 104/300 \t loss = 0.00301 \t val_loss = 0.00545\n",
      "Epoch : 105/300 \t loss = 0.00304 \t val_loss = 0.00539\n",
      "Epoch : 106/300 \t loss = 0.00304 \t val_loss = 0.00538\n",
      "Epoch : 107/300 \t loss = 0.00303 \t val_loss = 0.00543\n",
      "Epoch : 108/300 \t loss = 0.00302 \t val_loss = 0.00536\n",
      "Epoch : 109/300 \t loss = 0.00295 \t val_loss = 0.00538\n",
      "Epoch : 110/300 \t loss = 0.00299 \t val_loss = 0.00540\n",
      "Epoch : 111/300 \t loss = 0.00297 \t val_loss = 0.00545\n",
      "Epoch : 112/300 \t loss = 0.00294 \t val_loss = 0.00538\n",
      "Epoch : 113/300 \t loss = 0.00294 \t val_loss = 0.00545\n",
      "Epoch : 114/300 \t loss = 0.00293 \t val_loss = 0.00542\n",
      "Epoch : 115/300 \t loss = 0.00289 \t val_loss = 0.00541\n",
      "Epoch : 116/300 \t loss = 0.00290 \t val_loss = 0.00541\n",
      "Epoch : 117/300 \t loss = 0.00288 \t val_loss = 0.00545\n",
      "Epoch : 118/300 \t loss = 0.00294 \t val_loss = 0.00538\n",
      "Epoch : 119/300 \t loss = 0.00285 \t val_loss = 0.00534\n",
      "Epoch : 120/300 \t loss = 0.00286 \t val_loss = 0.00534\n",
      "Epoch : 121/300 \t loss = 0.00287 \t val_loss = 0.00542\n",
      "Epoch : 122/300 \t loss = 0.00286 \t val_loss = 0.00540\n",
      "Epoch : 123/300 \t loss = 0.00285 \t val_loss = 0.00542\n",
      "Epoch : 124/300 \t loss = 0.00285 \t val_loss = 0.00533\n",
      "Epoch : 125/300 \t loss = 0.00285 \t val_loss = 0.00536\n",
      "Epoch : 126/300 \t loss = 0.00283 \t val_loss = 0.00540\n",
      "Epoch : 127/300 \t loss = 0.00283 \t val_loss = 0.00540\n",
      "Epoch : 128/300 \t loss = 0.00283 \t val_loss = 0.00546\n",
      "Epoch : 129/300 \t loss = 0.00283 \t val_loss = 0.00546\n",
      "Epoch : 130/300 \t loss = 0.00282 \t val_loss = 0.00540\n",
      "Epoch : 131/300 \t loss = 0.00278 \t val_loss = 0.00537\n",
      "Epoch : 132/300 \t loss = 0.00276 \t val_loss = 0.00538\n",
      "Epoch : 133/300 \t loss = 0.00276 \t val_loss = 0.00538\n",
      "Epoch : 134/300 \t loss = 0.00276 \t val_loss = 0.00536\n",
      "Epoch : 135/300 \t loss = 0.00273 \t val_loss = 0.00537\n",
      "Epoch : 136/300 \t loss = 0.00277 \t val_loss = 0.00526\n",
      "Epoch : 137/300 \t loss = 0.00273 \t val_loss = 0.00532\n",
      "Epoch : 138/300 \t loss = 0.00273 \t val_loss = 0.00538\n",
      "Epoch : 139/300 \t loss = 0.00274 \t val_loss = 0.00533\n",
      "Epoch : 140/300 \t loss = 0.00271 \t val_loss = 0.00539\n",
      "Epoch : 141/300 \t loss = 0.00273 \t val_loss = 0.00534\n",
      "Epoch : 142/300 \t loss = 0.00272 \t val_loss = 0.00536\n",
      "Epoch : 143/300 \t loss = 0.00268 \t val_loss = 0.00544\n",
      "Epoch : 144/300 \t loss = 0.00276 \t val_loss = 0.00536\n",
      "Epoch : 145/300 \t loss = 0.00268 \t val_loss = 0.00537\n",
      "Epoch : 146/300 \t loss = 0.00269 \t val_loss = 0.00535\n",
      "Epoch : 147/300 \t loss = 0.00267 \t val_loss = 0.00538\n",
      "Epoch : 148/300 \t loss = 0.00269 \t val_loss = 0.00537\n",
      "Epoch : 149/300 \t loss = 0.00270 \t val_loss = 0.00534\n",
      "Epoch : 150/300 \t loss = 0.00271 \t val_loss = 0.00528\n",
      "Epoch : 151/300 \t loss = 0.00268 \t val_loss = 0.00528\n",
      "Epoch : 152/300 \t loss = 0.00269 \t val_loss = 0.00536\n",
      "Epoch : 153/300 \t loss = 0.00267 \t val_loss = 0.00538\n"
     ]
    },
    {
     "name": "stdout",
     "output_type": "stream",
     "text": [
      "Epoch : 154/300 \t loss = 0.00267 \t val_loss = 0.00543\n",
      "Epoch : 155/300 \t loss = 0.00269 \t val_loss = 0.00547\n",
      "Epoch : 156/300 \t loss = 0.00266 \t val_loss = 0.00544\n",
      "Epoch : 157/300 \t loss = 0.00267 \t val_loss = 0.00537\n",
      "Epoch : 158/300 \t loss = 0.00263 \t val_loss = 0.00533\n",
      "Epoch : 159/300 \t loss = 0.00261 \t val_loss = 0.00531\n",
      "Epoch : 160/300 \t loss = 0.00263 \t val_loss = 0.00529\n",
      "Epoch : 161/300 \t loss = 0.00264 \t val_loss = 0.00538\n",
      "Epoch : 162/300 \t loss = 0.00263 \t val_loss = 0.00532\n",
      "Epoch : 163/300 \t loss = 0.00261 \t val_loss = 0.00534\n",
      "Epoch : 164/300 \t loss = 0.00262 \t val_loss = 0.00541\n",
      "Epoch : 165/300 \t loss = 0.00259 \t val_loss = 0.00534\n",
      "Epoch : 166/300 \t loss = 0.00259 \t val_loss = 0.00541\n",
      "Epoch : 167/300 \t loss = 0.00260 \t val_loss = 0.00544\n",
      "Epoch : 168/300 \t loss = 0.00258 \t val_loss = 0.00538\n",
      "Epoch : 169/300 \t loss = 0.00259 \t val_loss = 0.00537\n",
      "Epoch : 170/300 \t loss = 0.00260 \t val_loss = 0.00535\n",
      "Epoch : 171/300 \t loss = 0.00263 \t val_loss = 0.00535\n",
      "Epoch : 172/300 \t loss = 0.00259 \t val_loss = 0.00536\n",
      "Epoch : 173/300 \t loss = 0.00258 \t val_loss = 0.00537\n",
      "Epoch : 174/300 \t loss = 0.00258 \t val_loss = 0.00533\n",
      "Epoch : 175/300 \t loss = 0.00255 \t val_loss = 0.00530\n",
      "Epoch : 176/300 \t loss = 0.00256 \t val_loss = 0.00527\n",
      "Epoch : 177/300 \t loss = 0.00257 \t val_loss = 0.00527\n",
      "Epoch : 178/300 \t loss = 0.00256 \t val_loss = 0.00527\n",
      "Epoch : 179/300 \t loss = 0.00257 \t val_loss = 0.00527\n",
      "Epoch : 180/300 \t loss = 0.00257 \t val_loss = 0.00527\n",
      "Epoch : 181/300 \t loss = 0.00254 \t val_loss = 0.00530\n",
      "Epoch : 182/300 \t loss = 0.00258 \t val_loss = 0.00528\n",
      "Epoch : 183/300 \t loss = 0.00257 \t val_loss = 0.00532\n",
      "Epoch : 184/300 \t loss = 0.00257 \t val_loss = 0.00534\n",
      "Epoch : 185/300 \t loss = 0.00259 \t val_loss = 0.00536\n",
      "Epoch : 186/300 \t loss = 0.00257 \t val_loss = 0.00529\n",
      "Epoch : 187/300 \t loss = 0.00255 \t val_loss = 0.00526\n",
      "Epoch : 188/300 \t loss = 0.00257 \t val_loss = 0.00529\n",
      "Epoch : 189/300 \t loss = 0.00259 \t val_loss = 0.00526\n",
      "Epoch : 190/300 \t loss = 0.00252 \t val_loss = 0.00528\n",
      "Epoch : 191/300 \t loss = 0.00252 \t val_loss = 0.00526\n",
      "Epoch : 192/300 \t loss = 0.00256 \t val_loss = 0.00525\n",
      "Epoch : 193/300 \t loss = 0.00252 \t val_loss = 0.00527\n",
      "Epoch : 194/300 \t loss = 0.00258 \t val_loss = 0.00530\n",
      "Epoch : 195/300 \t loss = 0.00250 \t val_loss = 0.00532\n",
      "Epoch : 196/300 \t loss = 0.00253 \t val_loss = 0.00523\n",
      "Epoch : 197/300 \t loss = 0.00254 \t val_loss = 0.00528\n",
      "Epoch : 198/300 \t loss = 0.00253 \t val_loss = 0.00527\n",
      "Epoch : 199/300 \t loss = 0.00253 \t val_loss = 0.00525\n",
      "Epoch : 200/300 \t loss = 0.00252 \t val_loss = 0.00531\n",
      "Epoch : 201/300 \t loss = 0.00255 \t val_loss = 0.00529\n",
      "Epoch : 202/300 \t loss = 0.00254 \t val_loss = 0.00532\n",
      "Epoch : 203/300 \t loss = 0.00252 \t val_loss = 0.00533\n",
      "Epoch : 204/300 \t loss = 0.00252 \t val_loss = 0.00529\n",
      "Epoch : 205/300 \t loss = 0.00251 \t val_loss = 0.00529\n",
      "Epoch : 206/300 \t loss = 0.00252 \t val_loss = 0.00527\n",
      "Epoch : 207/300 \t loss = 0.00254 \t val_loss = 0.00523\n",
      "Epoch : 208/300 \t loss = 0.00250 \t val_loss = 0.00523\n",
      "Epoch : 209/300 \t loss = 0.00253 \t val_loss = 0.00523\n",
      "Epoch : 210/300 \t loss = 0.00253 \t val_loss = 0.00526\n",
      "Epoch : 211/300 \t loss = 0.00252 \t val_loss = 0.00525\n",
      "Epoch : 212/300 \t loss = 0.00250 \t val_loss = 0.00529\n",
      "Epoch : 213/300 \t loss = 0.00248 \t val_loss = 0.00535\n",
      "Epoch : 214/300 \t loss = 0.00252 \t val_loss = 0.00539\n",
      "Epoch : 215/300 \t loss = 0.00249 \t val_loss = 0.00539\n",
      "Epoch : 216/300 \t loss = 0.00249 \t val_loss = 0.00532\n",
      "Epoch : 217/300 \t loss = 0.00249 \t val_loss = 0.00530\n",
      "Epoch : 218/300 \t loss = 0.00250 \t val_loss = 0.00525\n",
      "Epoch : 219/300 \t loss = 0.00249 \t val_loss = 0.00526\n",
      "Epoch : 220/300 \t loss = 0.00251 \t val_loss = 0.00525\n",
      "Epoch : 221/300 \t loss = 0.00252 \t val_loss = 0.00523\n",
      "Epoch : 222/300 \t loss = 0.00250 \t val_loss = 0.00519\n",
      "Epoch : 223/300 \t loss = 0.00250 \t val_loss = 0.00525\n",
      "Epoch : 224/300 \t loss = 0.00249 \t val_loss = 0.00527\n",
      "Epoch : 225/300 \t loss = 0.00253 \t val_loss = 0.00527\n",
      "Epoch : 226/300 \t loss = 0.00249 \t val_loss = 0.00529\n",
      "Epoch : 227/300 \t loss = 0.00249 \t val_loss = 0.00535\n",
      "Epoch : 228/300 \t loss = 0.00250 \t val_loss = 0.00530\n",
      "Epoch : 229/300 \t loss = 0.00251 \t val_loss = 0.00532\n",
      "Epoch : 230/300 \t loss = 0.00249 \t val_loss = 0.00533\n",
      "Epoch : 231/300 \t loss = 0.00249 \t val_loss = 0.00529\n",
      "Epoch : 232/300 \t loss = 0.00247 \t val_loss = 0.00523\n",
      "Epoch : 233/300 \t loss = 0.00247 \t val_loss = 0.00526\n",
      "Epoch : 234/300 \t loss = 0.00250 \t val_loss = 0.00526\n",
      "Epoch : 235/300 \t loss = 0.00246 \t val_loss = 0.00527\n",
      "Epoch : 236/300 \t loss = 0.00248 \t val_loss = 0.00522\n",
      "Epoch : 237/300 \t loss = 0.00248 \t val_loss = 0.00524\n",
      "Epoch : 238/300 \t loss = 0.00245 \t val_loss = 0.00529\n",
      "Epoch : 239/300 \t loss = 0.00250 \t val_loss = 0.00526\n",
      "Epoch : 240/300 \t loss = 0.00248 \t val_loss = 0.00528\n",
      "Epoch : 241/300 \t loss = 0.00250 \t val_loss = 0.00527\n",
      "Epoch : 242/300 \t loss = 0.00247 \t val_loss = 0.00536\n",
      "Epoch : 243/300 \t loss = 0.00249 \t val_loss = 0.00533\n",
      "Epoch : 244/300 \t loss = 0.00246 \t val_loss = 0.00533\n",
      "Epoch : 245/300 \t loss = 0.00247 \t val_loss = 0.00531\n",
      "Epoch : 246/300 \t loss = 0.00246 \t val_loss = 0.00526\n",
      "Epoch : 247/300 \t loss = 0.00244 \t val_loss = 0.00523\n",
      "Epoch : 248/300 \t loss = 0.00246 \t val_loss = 0.00521\n",
      "Epoch : 249/300 \t loss = 0.00245 \t val_loss = 0.00519\n",
      "Epoch : 250/300 \t loss = 0.00249 \t val_loss = 0.00525\n",
      "Epoch : 251/300 \t loss = 0.00247 \t val_loss = 0.00525\n",
      "Epoch : 252/300 \t loss = 0.00246 \t val_loss = 0.00527\n",
      "Epoch : 253/300 \t loss = 0.00246 \t val_loss = 0.00527\n",
      "Epoch : 254/300 \t loss = 0.00248 \t val_loss = 0.00529\n",
      "Epoch : 255/300 \t loss = 0.00245 \t val_loss = 0.00534\n",
      "Epoch : 256/300 \t loss = 0.00246 \t val_loss = 0.00534\n",
      "Epoch : 257/300 \t loss = 0.00245 \t val_loss = 0.00542\n",
      "Epoch : 258/300 \t loss = 0.00247 \t val_loss = 0.00534\n",
      "Epoch : 259/300 \t loss = 0.00246 \t val_loss = 0.00529\n",
      "Epoch : 260/300 \t loss = 0.00249 \t val_loss = 0.00518\n",
      "Epoch : 261/300 \t loss = 0.00246 \t val_loss = 0.00518\n",
      "Epoch : 262/300 \t loss = 0.00247 \t val_loss = 0.00519\n",
      "Epoch : 263/300 \t loss = 0.00248 \t val_loss = 0.00520\n",
      "Epoch : 264/300 \t loss = 0.00249 \t val_loss = 0.00526\n",
      "Epoch : 265/300 \t loss = 0.00245 \t val_loss = 0.00529\n",
      "Epoch : 266/300 \t loss = 0.00248 \t val_loss = 0.00533\n",
      "Epoch : 267/300 \t loss = 0.00247 \t val_loss = 0.00535\n",
      "Epoch : 268/300 \t loss = 0.00245 \t val_loss = 0.00534\n",
      "Epoch : 269/300 \t loss = 0.00246 \t val_loss = 0.00533\n",
      "Epoch : 270/300 \t loss = 0.00243 \t val_loss = 0.00527\n",
      "Epoch : 271/300 \t loss = 0.00242 \t val_loss = 0.00527\n",
      "Epoch : 272/300 \t loss = 0.00245 \t val_loss = 0.00518\n",
      "Epoch : 273/300 \t loss = 0.00247 \t val_loss = 0.00520\n",
      "Epoch : 274/300 \t loss = 0.00243 \t val_loss = 0.00520\n",
      "Epoch : 275/300 \t loss = 0.00240 \t val_loss = 0.00527\n",
      "Epoch : 276/300 \t loss = 0.00242 \t val_loss = 0.00528\n",
      "Epoch : 277/300 \t loss = 0.00244 \t val_loss = 0.00529\n",
      "Epoch : 278/300 \t loss = 0.00248 \t val_loss = 0.00532\n",
      "Epoch : 279/300 \t loss = 0.00245 \t val_loss = 0.00529\n",
      "Epoch : 280/300 \t loss = 0.00244 \t val_loss = 0.00533\n",
      "Epoch : 281/300 \t loss = 0.00244 \t val_loss = 0.00536\n",
      "Epoch : 282/300 \t loss = 0.00245 \t val_loss = 0.00532\n",
      "Epoch : 283/300 \t loss = 0.00244 \t val_loss = 0.00531\n",
      "Epoch : 284/300 \t loss = 0.00244 \t val_loss = 0.00527\n",
      "Epoch : 285/300 \t loss = 0.00245 \t val_loss = 0.00521\n",
      "Epoch : 286/300 \t loss = 0.00244 \t val_loss = 0.00517\n",
      "Epoch : 287/300 \t loss = 0.00243 \t val_loss = 0.00522\n",
      "Epoch : 288/300 \t loss = 0.00244 \t val_loss = 0.00524\n",
      "Epoch : 289/300 \t loss = 0.00243 \t val_loss = 0.00531\n",
      "Epoch : 290/300 \t loss = 0.00244 \t val_loss = 0.00537\n",
      "Epoch : 291/300 \t loss = 0.00245 \t val_loss = 0.00539\n",
      "Epoch : 292/300 \t loss = 0.00242 \t val_loss = 0.00541\n",
      "Epoch : 293/300 \t loss = 0.00242 \t val_loss = 0.00535\n",
      "Epoch : 294/300 \t loss = 0.00244 \t val_loss = 0.00526\n",
      "Epoch : 295/300 \t loss = 0.00245 \t val_loss = 0.00521\n",
      "Epoch : 296/300 \t loss = 0.00246 \t val_loss = 0.00517\n",
      "Epoch : 297/300 \t loss = 0.00243 \t val_loss = 0.00522\n",
      "Epoch : 298/300 \t loss = 0.00240 \t val_loss = 0.00523\n",
      "Epoch : 299/300 \t loss = 0.00242 \t val_loss = 0.00527\n"
     ]
    }
   ],
   "source": [
    "batch_size = 32\n",
    "n_train_batches = X.shape[0] // batch_size\n",
    "n_val_batches = X_val.shape[0] // batch_size\n",
    "n_epochs = 300\n",
    "losses = []\n",
    "val_losses = []\n",
    "\n",
    "for epoch in range(n_epochs):\n",
    "    \n",
    "    ae_model.train()\n",
    "    for batch_ind in range(n_train_batches):\n",
    "        \n",
    "        x = torch.Tensor(X[batch_ind * batch_size: (batch_ind + 1) * batch_size])\n",
    "        x = x.unsqueeze(1) if grayscale else x\n",
    "        reconstructed, _ = ae_model(x)\n",
    "        loss = ae_criterion(reconstructed, x)\n",
    "\n",
    "        \n",
    "        ae_optimizer.zero_grad()\n",
    "        loss.backward()\n",
    "        ae_optimizer.step()\n",
    "        \n",
    "    losses.append(loss.item())\n",
    "    \n",
    "    ae_model.eval()\n",
    "    with torch.no_grad():\n",
    "        val_loss = torch.Tensor([0])\n",
    "        for batch_ind in range(n_val_batches):\n",
    "            x = torch.Tensor(X_val[batch_ind * batch_size : (batch_ind + 1) * batch_size])\n",
    "            x = x.unsqueeze(1) if grayscale else x\n",
    "            reconstructed, _ = ae_model(x)\n",
    "            \n",
    "            val_loss += ae_criterion(reconstructed, x)\n",
    "            \n",
    "        \n",
    "        val_loss = val_loss.item() / n_val_batches\n",
    "        val_losses.append(val_loss)\n",
    "        print(f\"Epoch : {epoch}/{n_epochs} \\t loss = {losses[-1]:.5f} \\t val_loss = {val_loss:.5f}\")"
   ]
  },
  {
   "cell_type": "code",
   "execution_count": 12,
   "id": "749c91a4",
   "metadata": {},
   "outputs": [
    {
     "data": {
      "image/png": "[encoded data removed]",
      "text/plain": [
       "<Figure size 640x480 with 1 Axes>"
      ]
     },
     "metadata": {},
     "output_type": "display_data"
    }
   ],
   "source": [
    "plt.plot(losses)\n",
    "plt.plot(val_losses)\n",
    "\n",
    "plt.show()"
   ]
  },
  {
   "cell_type": "code",
   "execution_count": 14,
   "id": "44f50636",
   "metadata": {},
   "outputs": [],
   "source": [
    "_x = torch.Tensor(X_val[random.randint(0, X_val.shape[0])]).unsqueeze(0)\n",
    "_x = _x.unsqueeze(1) if grayscale else _x"
   ]
  },
  {
   "cell_type": "code",
   "execution_count": 15,
   "id": "c4d46ee7",
   "metadata": {},
   "outputs": [
    {
     "data": {
      "text/plain": [
       "torch.Size([1, 1, 64, 64])"
      ]
     },
     "execution_count": 15,
     "metadata": {},
     "output_type": "execute_result"
    }
   ],
   "source": [
    "_x.shape"
   ]
  },
  {
   "cell_type": "code",
   "execution_count": 16,
   "id": "a0fc4cf9",
   "metadata": {},
   "outputs": [],
   "source": [
    "_recon, latent = ae_model(_x)"
   ]
  },
  {
   "cell_type": "code",
   "execution_count": 17,
   "id": "b44341cf",
   "metadata": {},
   "outputs": [
    {
     "data": {
      "text/plain": [
       "tensor(0.0015, grad_fn=<MseLossBackward0>)"
      ]
     },
     "execution_count": 17,
     "metadata": {},
     "output_type": "execute_result"
    }
   ],
   "source": [
    "ae_model.eval()\n",
    "ae_criterion(_recon, _x)"
   ]
  },
  {
   "cell_type": "code",
   "execution_count": 18,
   "id": "549aafbe",
   "metadata": {},
   "outputs": [],
   "source": [
    "img = np.array(_x.squeeze().detach().numpy())\n",
    "recon_img = _recon.squeeze().detach().numpy()"
   ]
  },
  {
   "cell_type": "code",
   "execution_count": 19,
   "id": "2089cc32",
   "metadata": {},
   "outputs": [
    {
     "data": {
      "image/png": "[encoded data removed]",
      "text/plain": [
       "<Figure size 800x400 with 2 Axes>"
      ]
     },
     "metadata": {},
     "output_type": "display_data"
    }
   ],
   "source": [
    "fig, axes = plt.subplots(1, 2, figsize=(8, 4))\n",
    "axes[0].imshow(img.T, cmap = 'gray' if grayscale else None)\n",
    "axes[1].imshow(recon_img.T, cmap = 'gray' if grayscale else None)\n",
    "\n",
    "plt.show()"
   ]
  },
  {
   "cell_type": "code",
   "execution_count": 20,
   "id": "6b7b689e",
   "metadata": {},
   "outputs": [
    {
     "data": {
      "image/png": "[encoded data removed]",
      "text/plain": [
       "<Figure size 800x400 with 2 Axes>"
      ]
     },
     "metadata": {},
     "output_type": "display_data"
    }
   ],
   "source": [
    "ae_model.eval()\n",
    "_x = torch.Tensor(X_val[random.randint(0, X_val.shape[0])]).unsqueeze(0)\n",
    "_x = _x.unsqueeze(1) if grayscale else _x\n",
    "_recon, latent = ae_model(_x)\n",
    "\n",
    "img = np.array(_x.squeeze().detach().numpy())\n",
    "recon_img = _recon.squeeze().detach().numpy()\n",
    "\n",
    "fig, axes = plt.subplots(1, 2, figsize=(8, 4))\n",
    "\n",
    "axes[0].imshow(img.T, cmap = 'gray' if grayscale else None)\n",
    "axes[1].imshow(recon_img.T, cmap = 'gray' if grayscale else None)\n",
    "\n",
    "plt.show()"
   ]
  },
  {
   "cell_type": "markdown",
   "id": "80acc76a",
   "metadata": {},
   "source": [
    "## Train AE (RGB)"
   ]
  },
  {
   "cell_type": "code",
   "execution_count": 21,
   "id": "91e3f66c",
   "metadata": {},
   "outputs": [],
   "source": [
    "s = 64\n",
    "grayscale = False\n",
    "\n",
    "X, y = generate_dataset(n = 3000, size = (s, s), square_size = (3, 16), grayscale = grayscale)\n",
    "X_val, y_val = generate_dataset(n = 512, size = (s, s), square_size = (3, 16), grayscale = grayscale)"
   ]
  },
  {
   "cell_type": "code",
   "execution_count": 47,
   "id": "9dc49302",
   "metadata": {},
   "outputs": [
    {
     "name": "stdout",
     "output_type": "stream",
     "text": [
      "conv2d_output_size : 62\n",
      "pooling_output_size : 31\n",
      "flatten_size : 23064\n"
     ]
    }
   ],
   "source": [
    "ae_model = Autoencoder(s,\n",
    "                       data_channels = 1 if grayscale else 3,\n",
    "                       conv_feature_maps = 24,\n",
    "                       stride_length = 1,\n",
    "                       fc_size = 64,\n",
    "                       latent_size = 24)"
   ]
  },
  {
   "cell_type": "code",
   "execution_count": 48,
   "id": "d6e56ab4",
   "metadata": {},
   "outputs": [],
   "source": [
    "ae_criterion = nn.MSELoss()\n",
    "ae_optimizer = optim.NAdam(ae_model.parameters(), lr = 1e-4)"
   ]
  },
  {
   "cell_type": "code",
   "execution_count": 49,
   "id": "fa808925",
   "metadata": {},
   "outputs": [
    {
     "name": "stdout",
     "output_type": "stream",
     "text": [
      "Epoch : 0/500 \t loss = 0.10551 \t val_loss = 0.10809\n",
      "Epoch : 1/500 \t loss = 0.03602 \t val_loss = 0.03900\n",
      "Epoch : 2/500 \t loss = 0.01912 \t val_loss = 0.02005\n",
      "Epoch : 3/500 \t loss = 0.01427 \t val_loss = 0.01445\n",
      "Epoch : 4/500 \t loss = 0.01233 \t val_loss = 0.01202\n",
      "Epoch : 5/500 \t loss = 0.01135 \t val_loss = 0.01074\n",
      "Epoch : 6/500 \t loss = 0.01076 \t val_loss = 0.00997\n",
      "Epoch : 7/500 \t loss = 0.01037 \t val_loss = 0.00944\n",
      "Epoch : 8/500 \t loss = 0.01006 \t val_loss = 0.00904\n",
      "Epoch : 9/500 \t loss = 0.00979 \t val_loss = 0.00870\n",
      "Epoch : 10/500 \t loss = 0.00952 \t val_loss = 0.00840\n",
      "Epoch : 11/500 \t loss = 0.00924 \t val_loss = 0.00810\n",
      "Epoch : 12/500 \t loss = 0.00893 \t val_loss = 0.00781\n",
      "Epoch : 13/500 \t loss = 0.00859 \t val_loss = 0.00750\n",
      "Epoch : 14/500 \t loss = 0.00823 \t val_loss = 0.00718\n",
      "Epoch : 15/500 \t loss = 0.00786 \t val_loss = 0.00684\n",
      "Epoch : 16/500 \t loss = 0.00749 \t val_loss = 0.00655\n",
      "Epoch : 17/500 \t loss = 0.00714 \t val_loss = 0.00628\n",
      "Epoch : 18/500 \t loss = 0.00679 \t val_loss = 0.00595\n",
      "Epoch : 19/500 \t loss = 0.00644 \t val_loss = 0.00570\n",
      "Epoch : 20/500 \t loss = 0.00612 \t val_loss = 0.00548\n",
      "Epoch : 21/500 \t loss = 0.00585 \t val_loss = 0.00528\n",
      "Epoch : 22/500 \t loss = 0.00559 \t val_loss = 0.00506\n",
      "Epoch : 23/500 \t loss = 0.00535 \t val_loss = 0.00491\n",
      "Epoch : 24/500 \t loss = 0.00515 \t val_loss = 0.00476\n",
      "Epoch : 25/500 \t loss = 0.00498 \t val_loss = 0.00461\n",
      "Epoch : 26/500 \t loss = 0.00480 \t val_loss = 0.00452\n",
      "Epoch : 27/500 \t loss = 0.00463 \t val_loss = 0.00439\n",
      "Epoch : 28/500 \t loss = 0.00447 \t val_loss = 0.00430\n",
      "Epoch : 29/500 \t loss = 0.00432 \t val_loss = 0.00423\n",
      "Epoch : 30/500 \t loss = 0.00419 \t val_loss = 0.00415\n",
      "Epoch : 31/500 \t loss = 0.00407 \t val_loss = 0.00409\n",
      "Epoch : 32/500 \t loss = 0.00395 \t val_loss = 0.00399\n",
      "Epoch : 33/500 \t loss = 0.00386 \t val_loss = 0.00395\n",
      "Epoch : 34/500 \t loss = 0.00375 \t val_loss = 0.00388\n",
      "Epoch : 35/500 \t loss = 0.00363 \t val_loss = 0.00383\n",
      "Epoch : 36/500 \t loss = 0.00356 \t val_loss = 0.00378\n",
      "Epoch : 37/500 \t loss = 0.00344 \t val_loss = 0.00374\n",
      "Epoch : 38/500 \t loss = 0.00339 \t val_loss = 0.00369\n",
      "Epoch : 39/500 \t loss = 0.00333 \t val_loss = 0.00362\n",
      "Epoch : 40/500 \t loss = 0.00320 \t val_loss = 0.00359\n",
      "Epoch : 41/500 \t loss = 0.00312 \t val_loss = 0.00354\n",
      "Epoch : 42/500 \t loss = 0.00307 \t val_loss = 0.00350\n",
      "Epoch : 43/500 \t loss = 0.00299 \t val_loss = 0.00344\n",
      "Epoch : 44/500 \t loss = 0.00292 \t val_loss = 0.00344\n",
      "Epoch : 45/500 \t loss = 0.00284 \t val_loss = 0.00337\n",
      "Epoch : 46/500 \t loss = 0.00278 \t val_loss = 0.00332\n",
      "Epoch : 47/500 \t loss = 0.00271 \t val_loss = 0.00328\n",
      "Epoch : 48/500 \t loss = 0.00265 \t val_loss = 0.00326\n",
      "Epoch : 49/500 \t loss = 0.00258 \t val_loss = 0.00322\n",
      "Epoch : 50/500 \t loss = 0.00253 \t val_loss = 0.00315\n",
      "Epoch : 51/500 \t loss = 0.00244 \t val_loss = 0.00309\n",
      "Epoch : 52/500 \t loss = 0.00244 \t val_loss = 0.00308\n",
      "Epoch : 53/500 \t loss = 0.00240 \t val_loss = 0.00305\n",
      "Epoch : 54/500 \t loss = 0.00233 \t val_loss = 0.00300\n",
      "Epoch : 55/500 \t loss = 0.00226 \t val_loss = 0.00294\n",
      "Epoch : 56/500 \t loss = 0.00224 \t val_loss = 0.00292\n",
      "Epoch : 57/500 \t loss = 0.00220 \t val_loss = 0.00290\n",
      "Epoch : 58/500 \t loss = 0.00214 \t val_loss = 0.00286\n",
      "Epoch : 59/500 \t loss = 0.00210 \t val_loss = 0.00281\n",
      "Epoch : 60/500 \t loss = 0.00210 \t val_loss = 0.00279\n",
      "Epoch : 61/500 \t loss = 0.00207 \t val_loss = 0.00276\n",
      "Epoch : 62/500 \t loss = 0.00200 \t val_loss = 0.00274\n",
      "Epoch : 63/500 \t loss = 0.00197 \t val_loss = 0.00271\n",
      "Epoch : 64/500 \t loss = 0.00196 \t val_loss = 0.00270\n",
      "Epoch : 65/500 \t loss = 0.00193 \t val_loss = 0.00266\n",
      "Epoch : 66/500 \t loss = 0.00190 \t val_loss = 0.00268\n",
      "Epoch : 67/500 \t loss = 0.00188 \t val_loss = 0.00259\n",
      "Epoch : 68/500 \t loss = 0.00185 \t val_loss = 0.00262\n",
      "Epoch : 69/500 \t loss = 0.00183 \t val_loss = 0.00258\n",
      "Epoch : 70/500 \t loss = 0.00180 \t val_loss = 0.00259\n",
      "Epoch : 71/500 \t loss = 0.00177 \t val_loss = 0.00256\n",
      "Epoch : 72/500 \t loss = 0.00176 \t val_loss = 0.00253\n",
      "Epoch : 73/500 \t loss = 0.00173 \t val_loss = 0.00256\n",
      "Epoch : 74/500 \t loss = 0.00172 \t val_loss = 0.00250\n",
      "Epoch : 75/500 \t loss = 0.00171 \t val_loss = 0.00253\n",
      "Epoch : 76/500 \t loss = 0.00173 \t val_loss = 0.00250\n",
      "Epoch : 77/500 \t loss = 0.00167 \t val_loss = 0.00252\n",
      "Epoch : 78/500 \t loss = 0.00166 \t val_loss = 0.00246\n",
      "Epoch : 79/500 \t loss = 0.00164 \t val_loss = 0.00247\n",
      "Epoch : 80/500 \t loss = 0.00163 \t val_loss = 0.00245\n",
      "Epoch : 81/500 \t loss = 0.00163 \t val_loss = 0.00247\n",
      "Epoch : 82/500 \t loss = 0.00158 \t val_loss = 0.00243\n",
      "Epoch : 83/500 \t loss = 0.00158 \t val_loss = 0.00245\n",
      "Epoch : 84/500 \t loss = 0.00155 \t val_loss = 0.00244\n",
      "Epoch : 85/500 \t loss = 0.00156 \t val_loss = 0.00249\n",
      "Epoch : 86/500 \t loss = 0.00155 \t val_loss = 0.00245\n",
      "Epoch : 87/500 \t loss = 0.00155 \t val_loss = 0.00248\n",
      "Epoch : 88/500 \t loss = 0.00153 \t val_loss = 0.00242\n",
      "Epoch : 89/500 \t loss = 0.00152 \t val_loss = 0.00244\n",
      "Epoch : 90/500 \t loss = 0.00149 \t val_loss = 0.00241\n",
      "Epoch : 91/500 \t loss = 0.00149 \t val_loss = 0.00242\n",
      "Epoch : 92/500 \t loss = 0.00149 \t val_loss = 0.00243\n",
      "Epoch : 93/500 \t loss = 0.00147 \t val_loss = 0.00245\n",
      "Epoch : 94/500 \t loss = 0.00145 \t val_loss = 0.00244\n",
      "Epoch : 95/500 \t loss = 0.00147 \t val_loss = 0.00240\n",
      "Epoch : 96/500 \t loss = 0.00145 \t val_loss = 0.00241\n",
      "Epoch : 97/500 \t loss = 0.00142 \t val_loss = 0.00239\n",
      "Epoch : 98/500 \t loss = 0.00141 \t val_loss = 0.00239\n",
      "Epoch : 99/500 \t loss = 0.00140 \t val_loss = 0.00240\n",
      "Epoch : 100/500 \t loss = 0.00138 \t val_loss = 0.00240\n",
      "Epoch : 101/500 \t loss = 0.00138 \t val_loss = 0.00240\n",
      "Epoch : 102/500 \t loss = 0.00139 \t val_loss = 0.00240\n",
      "Epoch : 103/500 \t loss = 0.00139 \t val_loss = 0.00239\n",
      "Epoch : 104/500 \t loss = 0.00136 \t val_loss = 0.00240\n",
      "Epoch : 105/500 \t loss = 0.00135 \t val_loss = 0.00235\n",
      "Epoch : 106/500 \t loss = 0.00134 \t val_loss = 0.00239\n",
      "Epoch : 107/500 \t loss = 0.00134 \t val_loss = 0.00238\n",
      "Epoch : 108/500 \t loss = 0.00134 \t val_loss = 0.00240\n",
      "Epoch : 109/500 \t loss = 0.00133 \t val_loss = 0.00238\n",
      "Epoch : 110/500 \t loss = 0.00133 \t val_loss = 0.00236\n",
      "Epoch : 111/500 \t loss = 0.00132 \t val_loss = 0.00235\n",
      "Epoch : 112/500 \t loss = 0.00132 \t val_loss = 0.00236\n",
      "Epoch : 113/500 \t loss = 0.00131 \t val_loss = 0.00238\n",
      "Epoch : 114/500 \t loss = 0.00130 \t val_loss = 0.00239\n",
      "Epoch : 115/500 \t loss = 0.00129 \t val_loss = 0.00240\n",
      "Epoch : 116/500 \t loss = 0.00129 \t val_loss = 0.00239\n",
      "Epoch : 117/500 \t loss = 0.00129 \t val_loss = 0.00236\n",
      "Epoch : 118/500 \t loss = 0.00129 \t val_loss = 0.00233\n",
      "Epoch : 119/500 \t loss = 0.00127 \t val_loss = 0.00236\n",
      "Epoch : 120/500 \t loss = 0.00128 \t val_loss = 0.00236\n",
      "Epoch : 121/500 \t loss = 0.00127 \t val_loss = 0.00240\n",
      "Epoch : 122/500 \t loss = 0.00125 \t val_loss = 0.00238\n",
      "Epoch : 123/500 \t loss = 0.00127 \t val_loss = 0.00240\n",
      "Epoch : 124/500 \t loss = 0.00126 \t val_loss = 0.00235\n",
      "Epoch : 125/500 \t loss = 0.00123 \t val_loss = 0.00235\n",
      "Epoch : 126/500 \t loss = 0.00122 \t val_loss = 0.00241\n",
      "Epoch : 127/500 \t loss = 0.00122 \t val_loss = 0.00245\n",
      "Epoch : 128/500 \t loss = 0.00123 \t val_loss = 0.00241\n",
      "Epoch : 129/500 \t loss = 0.00121 \t val_loss = 0.00237\n",
      "Epoch : 130/500 \t loss = 0.00122 \t val_loss = 0.00234\n",
      "Epoch : 131/500 \t loss = 0.00124 \t val_loss = 0.00234\n",
      "Epoch : 132/500 \t loss = 0.00121 \t val_loss = 0.00238\n"
     ]
    },
    {
     "ename": "KeyboardInterrupt",
     "evalue": "",
     "output_type": "error",
     "traceback": [
      "\u001b[1;31m---------------------------------------------------------------------------\u001b[0m",
      "\u001b[1;31mKeyboardInterrupt\u001b[0m                         Traceback (most recent call last)",
      "Cell \u001b[1;32mIn[49], line 15\u001b[0m\n\u001b[0;32m     13\u001b[0m x \u001b[38;5;241m=\u001b[39m torch\u001b[38;5;241m.\u001b[39mTensor(X[batch_ind \u001b[38;5;241m*\u001b[39m batch_size: (batch_ind \u001b[38;5;241m+\u001b[39m \u001b[38;5;241m1\u001b[39m) \u001b[38;5;241m*\u001b[39m batch_size])\n\u001b[0;32m     14\u001b[0m x \u001b[38;5;241m=\u001b[39m x\u001b[38;5;241m.\u001b[39munsqueeze(\u001b[38;5;241m1\u001b[39m) \u001b[38;5;28;01mif\u001b[39;00m grayscale \u001b[38;5;28;01melse\u001b[39;00m x\n\u001b[1;32m---> 15\u001b[0m reconstructed, _ \u001b[38;5;241m=\u001b[39m \u001b[43mae_model\u001b[49m\u001b[43m(\u001b[49m\u001b[43mx\u001b[49m\u001b[43m)\u001b[49m\n\u001b[0;32m     16\u001b[0m loss \u001b[38;5;241m=\u001b[39m ae_criterion(reconstructed, x)\n\u001b[0;32m     19\u001b[0m ae_optimizer\u001b[38;5;241m.\u001b[39mzero_grad()\n",
      "File \u001b[1;32m~\\AppData\\Local\\Programs\\Python\\Python310\\lib\\site-packages\\torch\\nn\\modules\\module.py:1194\u001b[0m, in \u001b[0;36mModule._call_impl\u001b[1;34m(self, *input, **kwargs)\u001b[0m\n\u001b[0;32m   1190\u001b[0m \u001b[38;5;66;03m# If we don't have any hooks, we want to skip the rest of the logic in\u001b[39;00m\n\u001b[0;32m   1191\u001b[0m \u001b[38;5;66;03m# this function, and just call forward.\u001b[39;00m\n\u001b[0;32m   1192\u001b[0m \u001b[38;5;28;01mif\u001b[39;00m \u001b[38;5;129;01mnot\u001b[39;00m (\u001b[38;5;28mself\u001b[39m\u001b[38;5;241m.\u001b[39m_backward_hooks \u001b[38;5;129;01mor\u001b[39;00m \u001b[38;5;28mself\u001b[39m\u001b[38;5;241m.\u001b[39m_forward_hooks \u001b[38;5;129;01mor\u001b[39;00m \u001b[38;5;28mself\u001b[39m\u001b[38;5;241m.\u001b[39m_forward_pre_hooks \u001b[38;5;129;01mor\u001b[39;00m _global_backward_hooks\n\u001b[0;32m   1193\u001b[0m         \u001b[38;5;129;01mor\u001b[39;00m _global_forward_hooks \u001b[38;5;129;01mor\u001b[39;00m _global_forward_pre_hooks):\n\u001b[1;32m-> 1194\u001b[0m     \u001b[38;5;28;01mreturn\u001b[39;00m forward_call(\u001b[38;5;241m*\u001b[39m\u001b[38;5;28minput\u001b[39m, \u001b[38;5;241m*\u001b[39m\u001b[38;5;241m*\u001b[39mkwargs)\n\u001b[0;32m   1195\u001b[0m \u001b[38;5;66;03m# Do not call functions when jit is used\u001b[39;00m\n\u001b[0;32m   1196\u001b[0m full_backward_hooks, non_full_backward_hooks \u001b[38;5;241m=\u001b[39m [], []\n",
      "Cell \u001b[1;32mIn[4], line 62\u001b[0m, in \u001b[0;36mAutoencoder.forward\u001b[1;34m(self, x)\u001b[0m\n\u001b[0;32m     60\u001b[0m \u001b[38;5;28;01mdef\u001b[39;00m \u001b[38;5;21mforward\u001b[39m(\u001b[38;5;28mself\u001b[39m, x):\n\u001b[1;32m---> 62\u001b[0m     encoded \u001b[38;5;241m=\u001b[39m \u001b[38;5;28;43mself\u001b[39;49m\u001b[38;5;241;43m.\u001b[39;49m\u001b[43mencoder\u001b[49m\u001b[43m(\u001b[49m\u001b[43mx\u001b[49m\u001b[43m)\u001b[49m\n\u001b[0;32m     63\u001b[0m     decoded \u001b[38;5;241m=\u001b[39m \u001b[38;5;28mself\u001b[39m\u001b[38;5;241m.\u001b[39mdecoder(encoded)\n\u001b[0;32m     65\u001b[0m     \u001b[38;5;28;01mreturn\u001b[39;00m decoded, encoded\n",
      "File \u001b[1;32m~\\AppData\\Local\\Programs\\Python\\Python310\\lib\\site-packages\\torch\\nn\\modules\\module.py:1194\u001b[0m, in \u001b[0;36mModule._call_impl\u001b[1;34m(self, *input, **kwargs)\u001b[0m\n\u001b[0;32m   1190\u001b[0m \u001b[38;5;66;03m# If we don't have any hooks, we want to skip the rest of the logic in\u001b[39;00m\n\u001b[0;32m   1191\u001b[0m \u001b[38;5;66;03m# this function, and just call forward.\u001b[39;00m\n\u001b[0;32m   1192\u001b[0m \u001b[38;5;28;01mif\u001b[39;00m \u001b[38;5;129;01mnot\u001b[39;00m (\u001b[38;5;28mself\u001b[39m\u001b[38;5;241m.\u001b[39m_backward_hooks \u001b[38;5;129;01mor\u001b[39;00m \u001b[38;5;28mself\u001b[39m\u001b[38;5;241m.\u001b[39m_forward_hooks \u001b[38;5;129;01mor\u001b[39;00m \u001b[38;5;28mself\u001b[39m\u001b[38;5;241m.\u001b[39m_forward_pre_hooks \u001b[38;5;129;01mor\u001b[39;00m _global_backward_hooks\n\u001b[0;32m   1193\u001b[0m         \u001b[38;5;129;01mor\u001b[39;00m _global_forward_hooks \u001b[38;5;129;01mor\u001b[39;00m _global_forward_pre_hooks):\n\u001b[1;32m-> 1194\u001b[0m     \u001b[38;5;28;01mreturn\u001b[39;00m forward_call(\u001b[38;5;241m*\u001b[39m\u001b[38;5;28minput\u001b[39m, \u001b[38;5;241m*\u001b[39m\u001b[38;5;241m*\u001b[39mkwargs)\n\u001b[0;32m   1195\u001b[0m \u001b[38;5;66;03m# Do not call functions when jit is used\u001b[39;00m\n\u001b[0;32m   1196\u001b[0m full_backward_hooks, non_full_backward_hooks \u001b[38;5;241m=\u001b[39m [], []\n",
      "File \u001b[1;32m~\\AppData\\Local\\Programs\\Python\\Python310\\lib\\site-packages\\torch\\nn\\modules\\container.py:204\u001b[0m, in \u001b[0;36mSequential.forward\u001b[1;34m(self, input)\u001b[0m\n\u001b[0;32m    202\u001b[0m \u001b[38;5;28;01mdef\u001b[39;00m \u001b[38;5;21mforward\u001b[39m(\u001b[38;5;28mself\u001b[39m, \u001b[38;5;28minput\u001b[39m):\n\u001b[0;32m    203\u001b[0m     \u001b[38;5;28;01mfor\u001b[39;00m module \u001b[38;5;129;01min\u001b[39;00m \u001b[38;5;28mself\u001b[39m:\n\u001b[1;32m--> 204\u001b[0m         \u001b[38;5;28minput\u001b[39m \u001b[38;5;241m=\u001b[39m \u001b[43mmodule\u001b[49m\u001b[43m(\u001b[49m\u001b[38;5;28;43minput\u001b[39;49m\u001b[43m)\u001b[49m\n\u001b[0;32m    205\u001b[0m     \u001b[38;5;28;01mreturn\u001b[39;00m \u001b[38;5;28minput\u001b[39m\n",
      "File \u001b[1;32m~\\AppData\\Local\\Programs\\Python\\Python310\\lib\\site-packages\\torch\\nn\\modules\\module.py:1194\u001b[0m, in \u001b[0;36mModule._call_impl\u001b[1;34m(self, *input, **kwargs)\u001b[0m\n\u001b[0;32m   1190\u001b[0m \u001b[38;5;66;03m# If we don't have any hooks, we want to skip the rest of the logic in\u001b[39;00m\n\u001b[0;32m   1191\u001b[0m \u001b[38;5;66;03m# this function, and just call forward.\u001b[39;00m\n\u001b[0;32m   1192\u001b[0m \u001b[38;5;28;01mif\u001b[39;00m \u001b[38;5;129;01mnot\u001b[39;00m (\u001b[38;5;28mself\u001b[39m\u001b[38;5;241m.\u001b[39m_backward_hooks \u001b[38;5;129;01mor\u001b[39;00m \u001b[38;5;28mself\u001b[39m\u001b[38;5;241m.\u001b[39m_forward_hooks \u001b[38;5;129;01mor\u001b[39;00m \u001b[38;5;28mself\u001b[39m\u001b[38;5;241m.\u001b[39m_forward_pre_hooks \u001b[38;5;129;01mor\u001b[39;00m _global_backward_hooks\n\u001b[0;32m   1193\u001b[0m         \u001b[38;5;129;01mor\u001b[39;00m _global_forward_hooks \u001b[38;5;129;01mor\u001b[39;00m _global_forward_pre_hooks):\n\u001b[1;32m-> 1194\u001b[0m     \u001b[38;5;28;01mreturn\u001b[39;00m forward_call(\u001b[38;5;241m*\u001b[39m\u001b[38;5;28minput\u001b[39m, \u001b[38;5;241m*\u001b[39m\u001b[38;5;241m*\u001b[39mkwargs)\n\u001b[0;32m   1195\u001b[0m \u001b[38;5;66;03m# Do not call functions when jit is used\u001b[39;00m\n\u001b[0;32m   1196\u001b[0m full_backward_hooks, non_full_backward_hooks \u001b[38;5;241m=\u001b[39m [], []\n",
      "File \u001b[1;32m~\\AppData\\Local\\Programs\\Python\\Python310\\lib\\site-packages\\torch\\nn\\modules\\linear.py:114\u001b[0m, in \u001b[0;36mLinear.forward\u001b[1;34m(self, input)\u001b[0m\n\u001b[0;32m    113\u001b[0m \u001b[38;5;28;01mdef\u001b[39;00m \u001b[38;5;21mforward\u001b[39m(\u001b[38;5;28mself\u001b[39m, \u001b[38;5;28minput\u001b[39m: Tensor) \u001b[38;5;241m-\u001b[39m\u001b[38;5;241m>\u001b[39m Tensor:\n\u001b[1;32m--> 114\u001b[0m     \u001b[38;5;28;01mreturn\u001b[39;00m \u001b[43mF\u001b[49m\u001b[38;5;241;43m.\u001b[39;49m\u001b[43mlinear\u001b[49m\u001b[43m(\u001b[49m\u001b[38;5;28;43minput\u001b[39;49m\u001b[43m,\u001b[49m\u001b[43m \u001b[49m\u001b[38;5;28;43mself\u001b[39;49m\u001b[38;5;241;43m.\u001b[39;49m\u001b[43mweight\u001b[49m\u001b[43m,\u001b[49m\u001b[43m \u001b[49m\u001b[38;5;28;43mself\u001b[39;49m\u001b[38;5;241;43m.\u001b[39;49m\u001b[43mbias\u001b[49m\u001b[43m)\u001b[49m\n",
      "\u001b[1;31mKeyboardInterrupt\u001b[0m: "
     ]
    }
   ],
   "source": [
    "batch_size = 32\n",
    "n_train_batches = X.shape[0] // batch_size\n",
    "n_val_batches = X_val.shape[0] // batch_size\n",
    "n_epochs = 500\n",
    "losses = []\n",
    "val_losses = []\n",
    "\n",
    "for epoch in range(n_epochs):\n",
    "    \n",
    "    ae_model.train()\n",
    "    for batch_ind in range(n_train_batches):\n",
    "        \n",
    "        x = torch.Tensor(X[batch_ind * batch_size: (batch_ind + 1) * batch_size])\n",
    "        x = x.unsqueeze(1) if grayscale else x\n",
    "        reconstructed, _ = ae_model(x)\n",
    "        loss = ae_criterion(reconstructed, x)\n",
    "\n",
    "        \n",
    "        ae_optimizer.zero_grad()\n",
    "        loss.backward()\n",
    "        ae_optimizer.step()\n",
    "        \n",
    "    losses.append(loss.item())\n",
    "    \n",
    "    ae_model.eval()\n",
    "    with torch.no_grad():\n",
    "        val_loss = torch.Tensor([0])\n",
    "        for batch_ind in range(n_val_batches):\n",
    "            x = torch.Tensor(X_val[batch_ind * batch_size : (batch_ind + 1) * batch_size])\n",
    "            x = x.unsqueeze(1) if grayscale else x\n",
    "            reconstructed, _ = ae_model(x)\n",
    "            \n",
    "            val_loss += ae_criterion(reconstructed, x)\n",
    "            \n",
    "        \n",
    "        val_loss = val_loss.item() / n_val_batches\n",
    "        val_losses.append(val_loss)\n",
    "        print(f\"Epoch : {epoch}/{n_epochs} \\t loss = {losses[-1]:.5f} \\t val_loss = {val_loss:.5f}\")"
   ]
  },
  {
   "cell_type": "code",
   "execution_count": 50,
   "id": "5a7b5bca",
   "metadata": {},
   "outputs": [
    {
     "data": {
      "image/png": "[encoded data removed]",
      "text/plain": [
       "<Figure size 640x480 with 1 Axes>"
      ]
     },
     "metadata": {},
     "output_type": "display_data"
    }
   ],
   "source": [
    "plt.plot(losses)\n",
    "plt.plot(val_losses)\n",
    "\n",
    "plt.show()"
   ]
  },
  {
   "cell_type": "code",
   "execution_count": 63,
   "id": "1b17dc38",
   "metadata": {},
   "outputs": [
    {
     "data": {
      "image/png": "[encoded data removed]",
      "text/plain": [
       "<Figure size 800x400 with 2 Axes>"
      ]
     },
     "metadata": {},
     "output_type": "display_data"
    }
   ],
   "source": [
    "ae_model.eval()\n",
    "_x = torch.Tensor(X_val[random.randint(0, X_val.shape[0])]).unsqueeze(0)\n",
    "_x = _x.unsqueeze(1) if grayscale else _x\n",
    "_recon, latent = ae_model(_x)\n",
    "\n",
    "img = np.array(_x.squeeze().detach().numpy())\n",
    "recon_img = _recon.squeeze().detach().numpy()\n",
    "\n",
    "fig, axes = plt.subplots(1, 2, figsize=(8, 4))\n",
    "\n",
    "axes[0].imshow(img.T, cmap = 'gray' if grayscale else None)\n",
    "axes[1].imshow(recon_img.T, cmap = 'gray' if grayscale else None)\n",
    "\n",
    "plt.show()"
   ]
  },
  {
   "cell_type": "code",
   "execution_count": 113,
   "id": "6fddd3f8",
   "metadata": {},
   "outputs": [
    {
     "data": {
      "image/png": "[encoded data removed]",
      "text/plain": [
       "<Figure size 800x400 with 2 Axes>"
      ]
     },
     "metadata": {},
     "output_type": "display_data"
    }
   ],
   "source": [
    "ae_model.eval()\n",
    "_x = torch.Tensor(generate_datapoint(size=(64, 64), square_size=(3, 16), grayscale=False)[0]).unsqueeze(0)\n",
    "_x = _x.unsqueeze(1) if grayscale else _x\n",
    "_recon, latent = ae_model(_x)\n",
    "\n",
    "img = np.array(_x.squeeze().detach().numpy())\n",
    "recon_img = _recon.squeeze().detach().numpy()\n",
    "\n",
    "fig, axes = plt.subplots(1, 2, figsize=(8, 4))\n",
    "\n",
    "axes[0].imshow(img.T, cmap = 'gray' if grayscale else None)\n",
    "axes[1].imshow(recon_img.T, cmap = 'gray' if grayscale else None)\n",
    "\n",
    "plt.show()"
   ]
  },
  {
   "cell_type": "markdown",
   "id": "a39dec58",
   "metadata": {},
   "source": [
    "## Scratch Area"
   ]
  },
  {
   "cell_type": "code",
   "execution_count": 153,
   "id": "bab50fea",
   "metadata": {},
   "outputs": [
    {
     "data": {
      "text/plain": [
       "torch.Size([32, 1, 32, 32])"
      ]
     },
     "execution_count": 153,
     "metadata": {},
     "output_type": "execute_result"
    }
   ],
   "source": [
    "torch.Tensor(X[32:64]).unsqueeze(1).shape"
   ]
  },
  {
   "cell_type": "code",
   "execution_count": 198,
   "id": "6042a377",
   "metadata": {},
   "outputs": [
    {
     "data": {
      "text/plain": [
       "0.0465235710144043"
      ]
     },
     "execution_count": 198,
     "metadata": {},
     "output_type": "execute_result"
    }
   ],
   "source": [
    "ae_criterion(torch.Tensor(X[0:batch_size]).unsqueeze(1).flatten(), torch.Tensor(X[batch_size:batch_size*2]).unsqueeze(1).flatten())"
   ]
  },
  {
   "cell_type": "code",
   "execution_count": 85,
   "id": "b69c325a",
   "metadata": {},
   "outputs": [
    {
     "data": {
      "text/plain": [
       "<matplotlib.image.AxesImage at 0x28fc8cbb100>"
      ]
     },
     "execution_count": 85,
     "metadata": {},
     "output_type": "execute_result"
    },
    {
     "data": {
      "image/png": "[encoded data removed]",
      "text/plain": [
       "<Figure size 640x480 with 1 Axes>"
      ]
     },
     "metadata": {},
     "output_type": "display_data"
    }
   ],
   "source": [
    "# x = np.ones((28, 28), dtype = np.uint8) * 255\n",
    "# plt.imshow(x, cmap='gray', vmin=0, vmax=255)\n",
    "\n",
    "\n",
    "x = np.ones((28, 28)) * np.random.uniform(size = (28, 28)) * 255\n",
    "plt.imshow(x, cmap = 'gray')"
   ]
  }
 ],
 "metadata": {
  "kernelspec": {
   "display_name": "Python 3 (ipykernel)",
   "language": "python",
   "name": "python3"
  },
  "language_info": {
   "codemirror_mode": {
    "name": "ipython",
    "version": 3
   },
   "file_extension": ".py",
   "mimetype": "text/x-python",
   "name": "python",
   "nbconvert_exporter": "python",
   "pygments_lexer": "ipython3",
   "version": "3.10.0"
  }
 },
 "nbformat": 4,
 "nbformat_minor": 5
}
