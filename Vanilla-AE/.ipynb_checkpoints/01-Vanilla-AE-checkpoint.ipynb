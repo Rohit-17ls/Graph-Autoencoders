{
 "cells": [
  {
   "cell_type": "markdown",
   "id": "c500c06d",
   "metadata": {},
   "source": [
    "## Goal\n",
    "Understanding the challenges in training neural nets such as :\n",
    "\n",
    "1. Weight Initialization\n",
    "2. Adjusting Learning Rates\n",
    "3. Appropriate use of Normalization\n",
    "4. Picking the right Activation Functions\n",
    "5. Understanding the flow of gradients through the network\n",
    "\n",
    "## Task\n",
    "Training Autoencoders (AEs) and Variational Autoencoders (VAEs) on the task of efficiently encoding and decoding (reconstructing) images (grayscale) consisting of a white square with side length sampled uniformly and located at some random position in an image that is otherwise just made up of black pixels.\n",
    "\n",
    "(Task inspired from this [paper](https://arxiv.org/pdf/1606.05579) and explained in this [video](https://www.youtube.com/watch?v=9zKuYvjFFS8))\n",
    "\n",
    "#### Objectives: \n",
    "1. Get the autoencoder to learn latent representations that encode the location (x, y) and size of the square to enable \n",
    "efficient reconstruction.\n",
    "2. Observe how well the model is able to perform when the image size is changes or when the number of parameters and the latent size is reduced/increased\n",
    "3. Identify reasons for exploding gradients if any ([Autoencoders can quickly explode if we are not careful](https://www.reddit.com/r/MachineLearning/comments/56dy7v/how_to_train_an_autoencoder/))\n",
    "\n",
    "#### Task Modification:\n",
    "We can consider applying this task with colored squares as well to encourage encoding the color information as well in the latent representation"
   ]
  },
  {
   "cell_type": "code",
   "execution_count": 1,
   "id": "b24837a6",
   "metadata": {},
   "outputs": [],
   "source": [
    "import torch\n",
    "import numpy as np\n",
    "import cv2\n",
    "import random\n",
    "import matplotlib.pyplot as plt"
   ]
  },
  {
   "cell_type": "markdown",
   "id": "39414843",
   "metadata": {},
   "source": [
    "## Creating the dataset"
   ]
  },
  {
   "cell_type": "code",
   "execution_count": 2,
   "id": "eac9b1a0",
   "metadata": {},
   "outputs": [],
   "source": [
    "# square_size -> (min_size, max_size)\n",
    "\n",
    "def generate_datapoint(size = (28, 28), square_size = (3, 7), grayscale = True):\n",
    "    \n",
    "    assert square_size[0] < size[0] and square_size[0] < size[1]\n",
    "    assert square_size[1] < size[0] and square_size[1] < size[1]\n",
    "    \n",
    "    random_square_size = random.randint(*square_size)\n",
    "    \n",
    "    x_pos = random.randint(0, size[1] - random_square_size)\n",
    "    y_pos = random.randint(0, size[0] - random_square_size)\n",
    "    \n",
    "    if grayscale:\n",
    "        img = np.zeros(size)\n",
    "        img[x_pos:x_pos + random_square_size, y_pos:y_pos + random_square_size] = 1.0\n",
    "    else:\n",
    "        img = np.zeros((3, *size))\n",
    "        \n",
    "        img[0,x_pos:x_pos + random_square_size, y_pos:y_pos + random_square_size] = random.random()\n",
    "        img[1, x_pos:x_pos + random_square_size, y_pos:y_pos + random_square_size] = random.random()\n",
    "        img[2, x_pos:x_pos + random_square_size, y_pos:y_pos + random_square_size] = random.random()\n",
    "        \n",
    "    \n",
    "    return img, x_pos, y_pos, random_square_size\n",
    "\n",
    "\n",
    "def generate_dataset(n = 3000, size = (28, 28), square_size = (3, 7), grayscale = True):\n",
    "    x = []\n",
    "    y = []\n",
    "    \n",
    "    for _ in range(n):\n",
    "        img, x_pos, y_pos, spot_size = generate_datapoint(size, square_size, grayscale = grayscale)\n",
    "        x.append(img)\n",
    "        y.append([x_pos, y_pos, spot_size])\n",
    "        \n",
    "    return np.array(x), np.array(y)"
   ]
  },
  {
   "cell_type": "markdown",
   "id": "5baf4789",
   "metadata": {},
   "source": [
    "## Define Autoencoder Model"
   ]
  },
  {
   "cell_type": "code",
   "execution_count": 3,
   "id": "7b70ff7d",
   "metadata": {},
   "outputs": [],
   "source": [
    "import torch.nn as nn\n",
    "import torch.nn.functional as F\n",
    "import torch.optim as optim"
   ]
  },
  {
   "cell_type": "code",
   "execution_count": 114,
   "id": "e8e99609",
   "metadata": {},
   "outputs": [],
   "source": [
    "import torch\n",
    "import torch.nn as nn\n",
    "\n",
    "class Autoencoder(nn.Module):\n",
    "    \n",
    "    def __init__(self,\n",
    "                 s,\n",
    "                 data_channels = 1,\n",
    "                 conv_feature_maps = 16,\n",
    "                 kernel_size = 3,\n",
    "                 stride_length = 1,\n",
    "                 pool_size = 2,\n",
    "                 fc_size = 256,\n",
    "                 latent_size = 64\n",
    "                ):\n",
    "        super(Autoencoder, self).__init__()\n",
    "        \n",
    "        self.is_log_mode = False\n",
    "        \n",
    "        conv2d_output_size = (s-kernel_size)//stride_length + 1\n",
    "        pooling_output_size = conv2d_output_size//2\n",
    "        deconv2d_output_size = (pooling_output_size - 1) * stride_length + kernel_size\n",
    "        \n",
    "        print(f\"conv2d_output_size : {conv2d_output_size}\")\n",
    "        print(f\"pooling_output_size : {pooling_output_size}\")\n",
    "        print(f\"flatten_size : {conv_feature_maps * pooling_output_size * pooling_output_size}\")\n",
    "        \n",
    "        self.encoder = nn.Sequential(\n",
    "            nn.Conv2d(data_channels, conv_feature_maps, kernel_size, stride = stride_length),\n",
    "            nn.BatchNorm2d(conv_feature_maps),\n",
    "            nn.LeakyReLU(inplace=True),\n",
    "            nn.MaxPool2d(pool_size, pool_size),\n",
    "            \n",
    "            nn.Flatten(),\n",
    "            nn.Linear(conv_feature_maps * pooling_output_size * pooling_output_size, fc_size),\n",
    "            nn.BatchNorm1d(fc_size),\n",
    "            nn.LeakyReLU(inplace=True),\n",
    "            \n",
    "            nn.Linear(fc_size, latent_size),\n",
    "            nn.BatchNorm1d(latent_size),\n",
    "            \n",
    "        )\n",
    "        \n",
    "        self.decoder = nn.Sequential(\n",
    "            nn.Linear(latent_size, fc_size),\n",
    "            nn.BatchNorm1d(fc_size),\n",
    "            nn.LeakyReLU(inplace=True),\n",
    "\n",
    "            nn.Linear(fc_size, conv_feature_maps * pooling_output_size * pooling_output_size),\n",
    "            nn.LeakyReLU(inplace=True),\n",
    "\n",
    "            nn.Unflatten(1, (conv_feature_maps, pooling_output_size, pooling_output_size)),\n",
    "            \n",
    "            nn.ConvTranspose2d(conv_feature_maps, data_channels, kernel_size, stride = stride_length),\n",
    "            nn.Upsample(scale_factor= s/deconv2d_output_size, mode='nearest'),\n",
    "    \n",
    "            nn.Sigmoid()\n",
    "        )\n",
    "        \n",
    "        self._initialize_weights()\n",
    "                \n",
    "    def forward(self, x):\n",
    "    \n",
    "        encoded = self.encoder(x)\n",
    "        decoded = self.decoder(encoded)\n",
    "        \n",
    "        return decoded, encoded\n",
    "    \n",
    "    def _initialize_weights(self):\n",
    "        for m in self.modules():\n",
    "            if isinstance(m, (nn.Conv2d, nn.ConvTranspose2d)):\n",
    "                nn.init.kaiming_normal_(m.weight, mode='fan_in', nonlinearity='leaky_relu')\n",
    "                if m.bias is not None:\n",
    "                    nn.init.zeros_(m.bias)\n",
    "            elif isinstance(m, nn.Linear):\n",
    "                nn.init.kaiming_normal_(m.weight, mode='fan_in', nonlinearity='leaky_relu')\n",
    "                if m.bias is not None:\n",
    "                    nn.init.zeros_(m.bias)\n",
    "        \n",
    "    def log_mode(self, val):\n",
    "        assert type(val) == bool, \"log_mode expects a boolean value.\"\n",
    "        self.is_log_mode = val\n"
   ]
  },
  {
   "cell_type": "markdown",
   "id": "7f828dfa",
   "metadata": {},
   "source": [
    "## Initialize model and data"
   ]
  },
  {
   "cell_type": "code",
   "execution_count": 115,
   "id": "220a3850",
   "metadata": {},
   "outputs": [
    {
     "data": {
      "text/plain": [
       "((3000, 64, 64), (512, 64, 64))"
      ]
     },
     "execution_count": 115,
     "metadata": {},
     "output_type": "execute_result"
    }
   ],
   "source": [
    "s = 64\n",
    "grayscale = True\n",
    "\n",
    "X, y = generate_dataset(n = 3000, size = (s, s), square_size = (3, 16), grayscale = grayscale)\n",
    "X_val, y_val = generate_dataset(n = 512, size = (s, s), square_size = (3, 16), grayscale = grayscale)\n",
    "\n",
    "X.shape, X_val.shape"
   ]
  },
  {
   "cell_type": "code",
   "execution_count": 116,
   "id": "e30310c6",
   "metadata": {},
   "outputs": [
    {
     "name": "stdout",
     "output_type": "stream",
     "text": [
      "conv2d_output_size : 31\n",
      "pooling_output_size : 15\n",
      "flatten_size : 3600\n"
     ]
    }
   ],
   "source": [
    "ae_model = Autoencoder(s,\n",
    "                       data_channels = 1 if grayscale else 3,\n",
    "                       conv_feature_maps = 16,\n",
    "                       stride_length = 2,\n",
    "                       fc_size = 48,\n",
    "                       latent_size = 16)"
   ]
  },
  {
   "cell_type": "code",
   "execution_count": 117,
   "id": "a6e2b258",
   "metadata": {},
   "outputs": [
    {
     "data": {
      "text/plain": [
       "Autoencoder(\n",
       "  (encoder): Sequential(\n",
       "    (0): Conv2d(1, 16, kernel_size=(3, 3), stride=(2, 2))\n",
       "    (1): BatchNorm2d(16, eps=1e-05, momentum=0.1, affine=True, track_running_stats=True)\n",
       "    (2): LeakyReLU(negative_slope=0.01, inplace=True)\n",
       "    (3): MaxPool2d(kernel_size=2, stride=2, padding=0, dilation=1, ceil_mode=False)\n",
       "    (4): Flatten(start_dim=1, end_dim=-1)\n",
       "    (5): Linear(in_features=3600, out_features=48, bias=True)\n",
       "    (6): BatchNorm1d(48, eps=1e-05, momentum=0.1, affine=True, track_running_stats=True)\n",
       "    (7): LeakyReLU(negative_slope=0.01, inplace=True)\n",
       "    (8): Linear(in_features=48, out_features=16, bias=True)\n",
       "    (9): BatchNorm1d(16, eps=1e-05, momentum=0.1, affine=True, track_running_stats=True)\n",
       "  )\n",
       "  (decoder): Sequential(\n",
       "    (0): Linear(in_features=16, out_features=48, bias=True)\n",
       "    (1): BatchNorm1d(48, eps=1e-05, momentum=0.1, affine=True, track_running_stats=True)\n",
       "    (2): LeakyReLU(negative_slope=0.01, inplace=True)\n",
       "    (3): Linear(in_features=48, out_features=3600, bias=True)\n",
       "    (4): LeakyReLU(negative_slope=0.01, inplace=True)\n",
       "    (5): Unflatten(dim=1, unflattened_size=(16, 15, 15))\n",
       "    (6): ConvTranspose2d(16, 1, kernel_size=(3, 3), stride=(2, 2))\n",
       "    (7): Upsample(scale_factor=2.064516129032258, mode=nearest)\n",
       "    (8): Sigmoid()\n",
       "  )\n",
       ")"
      ]
     },
     "execution_count": 117,
     "metadata": {},
     "output_type": "execute_result"
    }
   ],
   "source": [
    "ae_model"
   ]
  },
  {
   "cell_type": "code",
   "execution_count": 118,
   "id": "a0d0d580",
   "metadata": {},
   "outputs": [],
   "source": [
    "ae_criterion = nn.MSELoss()\n",
    "ae_optimizer = optim.NAdam(ae_model.parameters(), lr = 1e-4)"
   ]
  },
  {
   "cell_type": "markdown",
   "id": "5773a4d4",
   "metadata": {},
   "source": [
    "## Train AE (grayscale)"
   ]
  },
  {
   "cell_type": "code",
   "execution_count": 119,
   "id": "ad13d0d8",
   "metadata": {},
   "outputs": [
    {
     "name": "stdout",
     "output_type": "stream",
     "text": [
      "Epoch : 0/300 \t loss = 0.38398 \t val_loss = 0.37436\n",
      "Epoch : 1/300 \t loss = 0.32541 \t val_loss = 0.30908\n",
      "Epoch : 2/300 \t loss = 0.28584 \t val_loss = 0.27330\n",
      "Epoch : 3/300 \t loss = 0.25563 \t val_loss = 0.24741\n",
      "Epoch : 4/300 \t loss = 0.22779 \t val_loss = 0.22434\n",
      "Epoch : 5/300 \t loss = 0.19751 \t val_loss = 0.19942\n",
      "Epoch : 6/300 \t loss = 0.16120 \t val_loss = 0.16639\n",
      "Epoch : 7/300 \t loss = 0.12204 \t val_loss = 0.12700\n",
      "Epoch : 8/300 \t loss = 0.08981 \t val_loss = 0.09347\n",
      "Epoch : 9/300 \t loss = 0.06743 \t val_loss = 0.07000\n",
      "Epoch : 10/300 \t loss = 0.05312 \t val_loss = 0.05510\n",
      "Epoch : 11/300 \t loss = 0.04400 \t val_loss = 0.04565\n",
      "Epoch : 12/300 \t loss = 0.03812 \t val_loss = 0.03943\n",
      "Epoch : 13/300 \t loss = 0.03413 \t val_loss = 0.03514\n",
      "Epoch : 14/300 \t loss = 0.03136 \t val_loss = 0.03221\n",
      "Epoch : 15/300 \t loss = 0.02937 \t val_loss = 0.03012\n",
      "Epoch : 16/300 \t loss = 0.02776 \t val_loss = 0.02847\n",
      "Epoch : 17/300 \t loss = 0.02657 \t val_loss = 0.02726\n",
      "Epoch : 18/300 \t loss = 0.02569 \t val_loss = 0.02636\n",
      "Epoch : 19/300 \t loss = 0.02498 \t val_loss = 0.02565\n",
      "Epoch : 20/300 \t loss = 0.02439 \t val_loss = 0.02507\n",
      "Epoch : 21/300 \t loss = 0.02389 \t val_loss = 0.02456\n",
      "Epoch : 22/300 \t loss = 0.02344 \t val_loss = 0.02410\n",
      "Epoch : 23/300 \t loss = 0.02303 \t val_loss = 0.02368\n",
      "Epoch : 24/300 \t loss = 0.02265 \t val_loss = 0.02328\n",
      "Epoch : 25/300 \t loss = 0.02228 \t val_loss = 0.02289\n",
      "Epoch : 26/300 \t loss = 0.02193 \t val_loss = 0.02251\n",
      "Epoch : 27/300 \t loss = 0.02158 \t val_loss = 0.02214\n",
      "Epoch : 28/300 \t loss = 0.02124 \t val_loss = 0.02177\n",
      "Epoch : 29/300 \t loss = 0.02089 \t val_loss = 0.02140\n",
      "Epoch : 30/300 \t loss = 0.02054 \t val_loss = 0.02103\n",
      "Epoch : 31/300 \t loss = 0.02018 \t val_loss = 0.02066\n",
      "Epoch : 32/300 \t loss = 0.01982 \t val_loss = 0.02028\n",
      "Epoch : 33/300 \t loss = 0.01945 \t val_loss = 0.01989\n",
      "Epoch : 34/300 \t loss = 0.01907 \t val_loss = 0.01950\n",
      "Epoch : 35/300 \t loss = 0.01869 \t val_loss = 0.01911\n",
      "Epoch : 36/300 \t loss = 0.01832 \t val_loss = 0.01872\n",
      "Epoch : 37/300 \t loss = 0.01794 \t val_loss = 0.01833\n",
      "Epoch : 38/300 \t loss = 0.01758 \t val_loss = 0.01795\n",
      "Epoch : 39/300 \t loss = 0.01724 \t val_loss = 0.01758\n",
      "Epoch : 40/300 \t loss = 0.01690 \t val_loss = 0.01722\n",
      "Epoch : 41/300 \t loss = 0.01657 \t val_loss = 0.01687\n",
      "Epoch : 42/300 \t loss = 0.01623 \t val_loss = 0.01653\n",
      "Epoch : 43/300 \t loss = 0.01591 \t val_loss = 0.01620\n",
      "Epoch : 44/300 \t loss = 0.01558 \t val_loss = 0.01588\n",
      "Epoch : 45/300 \t loss = 0.01525 \t val_loss = 0.01556\n",
      "Epoch : 46/300 \t loss = 0.01493 \t val_loss = 0.01525\n",
      "Epoch : 47/300 \t loss = 0.01462 \t val_loss = 0.01495\n",
      "Epoch : 48/300 \t loss = 0.01432 \t val_loss = 0.01466\n",
      "Epoch : 49/300 \t loss = 0.01402 \t val_loss = 0.01438\n",
      "Epoch : 50/300 \t loss = 0.01372 \t val_loss = 0.01411\n",
      "Epoch : 51/300 \t loss = 0.01344 \t val_loss = 0.01385\n",
      "Epoch : 52/300 \t loss = 0.01316 \t val_loss = 0.01360\n",
      "Epoch : 53/300 \t loss = 0.01290 \t val_loss = 0.01336\n",
      "Epoch : 54/300 \t loss = 0.01264 \t val_loss = 0.01313\n",
      "Epoch : 55/300 \t loss = 0.01239 \t val_loss = 0.01291\n",
      "Epoch : 56/300 \t loss = 0.01214 \t val_loss = 0.01269\n",
      "Epoch : 57/300 \t loss = 0.01191 \t val_loss = 0.01249\n",
      "Epoch : 58/300 \t loss = 0.01169 \t val_loss = 0.01230\n",
      "Epoch : 59/300 \t loss = 0.01146 \t val_loss = 0.01211\n",
      "Epoch : 60/300 \t loss = 0.01125 \t val_loss = 0.01193\n",
      "Epoch : 61/300 \t loss = 0.01105 \t val_loss = 0.01175\n",
      "Epoch : 62/300 \t loss = 0.01085 \t val_loss = 0.01158\n",
      "Epoch : 63/300 \t loss = 0.01066 \t val_loss = 0.01142\n",
      "Epoch : 64/300 \t loss = 0.01047 \t val_loss = 0.01125\n",
      "Epoch : 65/300 \t loss = 0.01029 \t val_loss = 0.01111\n",
      "Epoch : 66/300 \t loss = 0.01012 \t val_loss = 0.01097\n",
      "Epoch : 67/300 \t loss = 0.00994 \t val_loss = 0.01083\n",
      "Epoch : 68/300 \t loss = 0.00977 \t val_loss = 0.01070\n",
      "Epoch : 69/300 \t loss = 0.00961 \t val_loss = 0.01057\n",
      "Epoch : 70/300 \t loss = 0.00944 \t val_loss = 0.01044\n",
      "Epoch : 71/300 \t loss = 0.00928 \t val_loss = 0.01030\n",
      "Epoch : 72/300 \t loss = 0.00913 \t val_loss = 0.01017\n",
      "Epoch : 73/300 \t loss = 0.00898 \t val_loss = 0.01006\n",
      "Epoch : 74/300 \t loss = 0.00886 \t val_loss = 0.00994\n",
      "Epoch : 75/300 \t loss = 0.00873 \t val_loss = 0.00983\n",
      "Epoch : 76/300 \t loss = 0.00860 \t val_loss = 0.00972\n",
      "Epoch : 77/300 \t loss = 0.00849 \t val_loss = 0.00962\n",
      "Epoch : 78/300 \t loss = 0.00836 \t val_loss = 0.00953\n",
      "Epoch : 79/300 \t loss = 0.00826 \t val_loss = 0.00944\n",
      "Epoch : 80/300 \t loss = 0.00814 \t val_loss = 0.00934\n",
      "Epoch : 81/300 \t loss = 0.00806 \t val_loss = 0.00927\n",
      "Epoch : 82/300 \t loss = 0.00793 \t val_loss = 0.00915\n",
      "Epoch : 83/300 \t loss = 0.00784 \t val_loss = 0.00910\n",
      "Epoch : 84/300 \t loss = 0.00774 \t val_loss = 0.00900\n",
      "Epoch : 85/300 \t loss = 0.00765 \t val_loss = 0.00890\n",
      "Epoch : 86/300 \t loss = 0.00753 \t val_loss = 0.00884\n",
      "Epoch : 87/300 \t loss = 0.00743 \t val_loss = 0.00873\n",
      "Epoch : 88/300 \t loss = 0.00736 \t val_loss = 0.00867\n",
      "Epoch : 89/300 \t loss = 0.00725 \t val_loss = 0.00858\n",
      "Epoch : 90/300 \t loss = 0.00715 \t val_loss = 0.00849\n",
      "Epoch : 91/300 \t loss = 0.00707 \t val_loss = 0.00843\n",
      "Epoch : 92/300 \t loss = 0.00701 \t val_loss = 0.00837\n",
      "Epoch : 93/300 \t loss = 0.00687 \t val_loss = 0.00832\n",
      "Epoch : 94/300 \t loss = 0.00673 \t val_loss = 0.00828\n",
      "Epoch : 95/300 \t loss = 0.00663 \t val_loss = 0.00817\n",
      "Epoch : 96/300 \t loss = 0.00653 \t val_loss = 0.00815\n",
      "Epoch : 97/300 \t loss = 0.00639 \t val_loss = 0.00811\n",
      "Epoch : 98/300 \t loss = 0.00633 \t val_loss = 0.00806\n",
      "Epoch : 99/300 \t loss = 0.00621 \t val_loss = 0.00805\n",
      "Epoch : 100/300 \t loss = 0.00615 \t val_loss = 0.00797\n",
      "Epoch : 101/300 \t loss = 0.00608 \t val_loss = 0.00791\n",
      "Epoch : 102/300 \t loss = 0.00604 \t val_loss = 0.00788\n",
      "Epoch : 103/300 \t loss = 0.00593 \t val_loss = 0.00782\n",
      "Epoch : 104/300 \t loss = 0.00584 \t val_loss = 0.00775\n",
      "Epoch : 105/300 \t loss = 0.00580 \t val_loss = 0.00773\n",
      "Epoch : 106/300 \t loss = 0.00570 \t val_loss = 0.00765\n",
      "Epoch : 107/300 \t loss = 0.00555 \t val_loss = 0.00762\n",
      "Epoch : 108/300 \t loss = 0.00548 \t val_loss = 0.00756\n",
      "Epoch : 109/300 \t loss = 0.00540 \t val_loss = 0.00755\n",
      "Epoch : 110/300 \t loss = 0.00531 \t val_loss = 0.00746\n",
      "Epoch : 111/300 \t loss = 0.00526 \t val_loss = 0.00744\n",
      "Epoch : 112/300 \t loss = 0.00519 \t val_loss = 0.00737\n",
      "Epoch : 113/300 \t loss = 0.00514 \t val_loss = 0.00737\n",
      "Epoch : 114/300 \t loss = 0.00509 \t val_loss = 0.00729\n",
      "Epoch : 115/300 \t loss = 0.00504 \t val_loss = 0.00725\n",
      "Epoch : 116/300 \t loss = 0.00501 \t val_loss = 0.00718\n",
      "Epoch : 117/300 \t loss = 0.00497 \t val_loss = 0.00719\n",
      "Epoch : 118/300 \t loss = 0.00490 \t val_loss = 0.00712\n",
      "Epoch : 119/300 \t loss = 0.00486 \t val_loss = 0.00714\n",
      "Epoch : 120/300 \t loss = 0.00481 \t val_loss = 0.00708\n",
      "Epoch : 121/300 \t loss = 0.00475 \t val_loss = 0.00703\n",
      "Epoch : 122/300 \t loss = 0.00468 \t val_loss = 0.00702\n",
      "Epoch : 123/300 \t loss = 0.00459 \t val_loss = 0.00700\n",
      "Epoch : 124/300 \t loss = 0.00457 \t val_loss = 0.00695\n",
      "Epoch : 125/300 \t loss = 0.00450 \t val_loss = 0.00686\n",
      "Epoch : 126/300 \t loss = 0.00439 \t val_loss = 0.00682\n",
      "Epoch : 127/300 \t loss = 0.00434 \t val_loss = 0.00685\n",
      "Epoch : 128/300 \t loss = 0.00427 \t val_loss = 0.00678\n",
      "Epoch : 129/300 \t loss = 0.00420 \t val_loss = 0.00676\n",
      "Epoch : 130/300 \t loss = 0.00419 \t val_loss = 0.00672\n",
      "Epoch : 131/300 \t loss = 0.00414 \t val_loss = 0.00673\n",
      "Epoch : 132/300 \t loss = 0.00414 \t val_loss = 0.00665\n",
      "Epoch : 133/300 \t loss = 0.00407 \t val_loss = 0.00666\n",
      "Epoch : 134/300 \t loss = 0.00402 \t val_loss = 0.00668\n",
      "Epoch : 135/300 \t loss = 0.00401 \t val_loss = 0.00669\n",
      "Epoch : 136/300 \t loss = 0.00399 \t val_loss = 0.00660\n",
      "Epoch : 137/300 \t loss = 0.00391 \t val_loss = 0.00656\n",
      "Epoch : 138/300 \t loss = 0.00389 \t val_loss = 0.00655\n",
      "Epoch : 139/300 \t loss = 0.00383 \t val_loss = 0.00654\n",
      "Epoch : 140/300 \t loss = 0.00385 \t val_loss = 0.00657\n",
      "Epoch : 141/300 \t loss = 0.00378 \t val_loss = 0.00649\n",
      "Epoch : 142/300 \t loss = 0.00380 \t val_loss = 0.00656\n",
      "Epoch : 143/300 \t loss = 0.00377 \t val_loss = 0.00649\n",
      "Epoch : 144/300 \t loss = 0.00376 \t val_loss = 0.00651\n",
      "Epoch : 145/300 \t loss = 0.00372 \t val_loss = 0.00647\n",
      "Epoch : 146/300 \t loss = 0.00374 \t val_loss = 0.00646\n",
      "Epoch : 147/300 \t loss = 0.00374 \t val_loss = 0.00647\n",
      "Epoch : 148/300 \t loss = 0.00366 \t val_loss = 0.00642\n",
      "Epoch : 149/300 \t loss = 0.00363 \t val_loss = 0.00639\n",
      "Epoch : 150/300 \t loss = 0.00365 \t val_loss = 0.00641\n",
      "Epoch : 151/300 \t loss = 0.00361 \t val_loss = 0.00643\n",
      "Epoch : 152/300 \t loss = 0.00358 \t val_loss = 0.00642\n",
      "Epoch : 153/300 \t loss = 0.00356 \t val_loss = 0.00639\n"
     ]
    },
    {
     "name": "stdout",
     "output_type": "stream",
     "text": [
      "Epoch : 154/300 \t loss = 0.00357 \t val_loss = 0.00636\n",
      "Epoch : 155/300 \t loss = 0.00354 \t val_loss = 0.00637\n",
      "Epoch : 156/300 \t loss = 0.00359 \t val_loss = 0.00637\n",
      "Epoch : 157/300 \t loss = 0.00353 \t val_loss = 0.00635\n",
      "Epoch : 158/300 \t loss = 0.00354 \t val_loss = 0.00635\n",
      "Epoch : 159/300 \t loss = 0.00349 \t val_loss = 0.00635\n",
      "Epoch : 160/300 \t loss = 0.00348 \t val_loss = 0.00634\n",
      "Epoch : 161/300 \t loss = 0.00348 \t val_loss = 0.00640\n",
      "Epoch : 162/300 \t loss = 0.00345 \t val_loss = 0.00632\n",
      "Epoch : 163/300 \t loss = 0.00349 \t val_loss = 0.00632\n",
      "Epoch : 164/300 \t loss = 0.00344 \t val_loss = 0.00630\n",
      "Epoch : 165/300 \t loss = 0.00343 \t val_loss = 0.00625\n",
      "Epoch : 166/300 \t loss = 0.00348 \t val_loss = 0.00627\n",
      "Epoch : 167/300 \t loss = 0.00344 \t val_loss = 0.00622\n",
      "Epoch : 168/300 \t loss = 0.00338 \t val_loss = 0.00624\n",
      "Epoch : 169/300 \t loss = 0.00336 \t val_loss = 0.00622\n",
      "Epoch : 170/300 \t loss = 0.00333 \t val_loss = 0.00619\n",
      "Epoch : 171/300 \t loss = 0.00332 \t val_loss = 0.00620\n",
      "Epoch : 172/300 \t loss = 0.00330 \t val_loss = 0.00624\n",
      "Epoch : 173/300 \t loss = 0.00332 \t val_loss = 0.00625\n",
      "Epoch : 174/300 \t loss = 0.00324 \t val_loss = 0.00620\n",
      "Epoch : 175/300 \t loss = 0.00323 \t val_loss = 0.00615\n",
      "Epoch : 176/300 \t loss = 0.00324 \t val_loss = 0.00611\n",
      "Epoch : 177/300 \t loss = 0.00320 \t val_loss = 0.00610\n",
      "Epoch : 178/300 \t loss = 0.00318 \t val_loss = 0.00609\n",
      "Epoch : 179/300 \t loss = 0.00315 \t val_loss = 0.00607\n",
      "Epoch : 180/300 \t loss = 0.00316 \t val_loss = 0.00606\n",
      "Epoch : 181/300 \t loss = 0.00313 \t val_loss = 0.00602\n",
      "Epoch : 182/300 \t loss = 0.00312 \t val_loss = 0.00610\n",
      "Epoch : 183/300 \t loss = 0.00313 \t val_loss = 0.00603\n",
      "Epoch : 184/300 \t loss = 0.00313 \t val_loss = 0.00602\n",
      "Epoch : 185/300 \t loss = 0.00311 \t val_loss = 0.00606\n",
      "Epoch : 186/300 \t loss = 0.00312 \t val_loss = 0.00607\n",
      "Epoch : 187/300 \t loss = 0.00307 \t val_loss = 0.00606\n",
      "Epoch : 188/300 \t loss = 0.00309 \t val_loss = 0.00605\n",
      "Epoch : 189/300 \t loss = 0.00309 \t val_loss = 0.00609\n",
      "Epoch : 190/300 \t loss = 0.00306 \t val_loss = 0.00610\n",
      "Epoch : 191/300 \t loss = 0.00306 \t val_loss = 0.00613\n",
      "Epoch : 192/300 \t loss = 0.00308 \t val_loss = 0.00613\n",
      "Epoch : 193/300 \t loss = 0.00311 \t val_loss = 0.00611\n",
      "Epoch : 194/300 \t loss = 0.00311 \t val_loss = 0.00611\n",
      "Epoch : 195/300 \t loss = 0.00307 \t val_loss = 0.00606\n",
      "Epoch : 196/300 \t loss = 0.00307 \t val_loss = 0.00601\n",
      "Epoch : 197/300 \t loss = 0.00304 \t val_loss = 0.00601\n",
      "Epoch : 198/300 \t loss = 0.00300 \t val_loss = 0.00601\n",
      "Epoch : 199/300 \t loss = 0.00303 \t val_loss = 0.00594\n",
      "Epoch : 200/300 \t loss = 0.00298 \t val_loss = 0.00590\n",
      "Epoch : 201/300 \t loss = 0.00302 \t val_loss = 0.00593\n",
      "Epoch : 202/300 \t loss = 0.00297 \t val_loss = 0.00592\n",
      "Epoch : 203/300 \t loss = 0.00300 \t val_loss = 0.00595\n",
      "Epoch : 204/300 \t loss = 0.00299 \t val_loss = 0.00597\n",
      "Epoch : 205/300 \t loss = 0.00297 \t val_loss = 0.00593\n",
      "Epoch : 206/300 \t loss = 0.00298 \t val_loss = 0.00600\n",
      "Epoch : 207/300 \t loss = 0.00295 \t val_loss = 0.00597\n",
      "Epoch : 208/300 \t loss = 0.00297 \t val_loss = 0.00603\n",
      "Epoch : 209/300 \t loss = 0.00293 \t val_loss = 0.00598\n",
      "Epoch : 210/300 \t loss = 0.00295 \t val_loss = 0.00600\n",
      "Epoch : 211/300 \t loss = 0.00296 \t val_loss = 0.00599\n",
      "Epoch : 212/300 \t loss = 0.00297 \t val_loss = 0.00596\n",
      "Epoch : 213/300 \t loss = 0.00296 \t val_loss = 0.00589\n",
      "Epoch : 214/300 \t loss = 0.00298 \t val_loss = 0.00590\n",
      "Epoch : 215/300 \t loss = 0.00292 \t val_loss = 0.00587\n",
      "Epoch : 216/300 \t loss = 0.00296 \t val_loss = 0.00587\n",
      "Epoch : 217/300 \t loss = 0.00293 \t val_loss = 0.00588\n",
      "Epoch : 218/300 \t loss = 0.00291 \t val_loss = 0.00588\n",
      "Epoch : 219/300 \t loss = 0.00288 \t val_loss = 0.00588\n",
      "Epoch : 220/300 \t loss = 0.00295 \t val_loss = 0.00593\n",
      "Epoch : 221/300 \t loss = 0.00291 \t val_loss = 0.00592\n",
      "Epoch : 222/300 \t loss = 0.00290 \t val_loss = 0.00592\n",
      "Epoch : 223/300 \t loss = 0.00291 \t val_loss = 0.00587\n",
      "Epoch : 224/300 \t loss = 0.00285 \t val_loss = 0.00591\n",
      "Epoch : 225/300 \t loss = 0.00285 \t val_loss = 0.00588\n",
      "Epoch : 226/300 \t loss = 0.00285 \t val_loss = 0.00586\n",
      "Epoch : 227/300 \t loss = 0.00286 \t val_loss = 0.00583\n",
      "Epoch : 228/300 \t loss = 0.00287 \t val_loss = 0.00580\n",
      "Epoch : 229/300 \t loss = 0.00285 \t val_loss = 0.00583\n",
      "Epoch : 230/300 \t loss = 0.00288 \t val_loss = 0.00585\n",
      "Epoch : 231/300 \t loss = 0.00289 \t val_loss = 0.00583\n",
      "Epoch : 232/300 \t loss = 0.00285 \t val_loss = 0.00585\n",
      "Epoch : 233/300 \t loss = 0.00286 \t val_loss = 0.00584\n",
      "Epoch : 234/300 \t loss = 0.00284 \t val_loss = 0.00585\n",
      "Epoch : 235/300 \t loss = 0.00285 \t val_loss = 0.00589\n",
      "Epoch : 236/300 \t loss = 0.00283 \t val_loss = 0.00586\n",
      "Epoch : 237/300 \t loss = 0.00280 \t val_loss = 0.00586\n",
      "Epoch : 238/300 \t loss = 0.00280 \t val_loss = 0.00590\n",
      "Epoch : 239/300 \t loss = 0.00283 \t val_loss = 0.00589\n",
      "Epoch : 240/300 \t loss = 0.00281 \t val_loss = 0.00584\n",
      "Epoch : 241/300 \t loss = 0.00280 \t val_loss = 0.00586\n",
      "Epoch : 242/300 \t loss = 0.00284 \t val_loss = 0.00579\n",
      "Epoch : 243/300 \t loss = 0.00281 \t val_loss = 0.00576\n",
      "Epoch : 244/300 \t loss = 0.00278 \t val_loss = 0.00577\n",
      "Epoch : 245/300 \t loss = 0.00283 \t val_loss = 0.00571\n",
      "Epoch : 246/300 \t loss = 0.00285 \t val_loss = 0.00573\n",
      "Epoch : 247/300 \t loss = 0.00280 \t val_loss = 0.00578\n",
      "Epoch : 248/300 \t loss = 0.00279 \t val_loss = 0.00577\n",
      "Epoch : 249/300 \t loss = 0.00280 \t val_loss = 0.00576\n",
      "Epoch : 250/300 \t loss = 0.00277 \t val_loss = 0.00582\n",
      "Epoch : 251/300 \t loss = 0.00278 \t val_loss = 0.00581\n",
      "Epoch : 252/300 \t loss = 0.00277 \t val_loss = 0.00581\n",
      "Epoch : 253/300 \t loss = 0.00279 \t val_loss = 0.00583\n",
      "Epoch : 254/300 \t loss = 0.00278 \t val_loss = 0.00588\n",
      "Epoch : 255/300 \t loss = 0.00277 \t val_loss = 0.00583\n",
      "Epoch : 256/300 \t loss = 0.00280 \t val_loss = 0.00581\n",
      "Epoch : 257/300 \t loss = 0.00279 \t val_loss = 0.00576\n",
      "Epoch : 258/300 \t loss = 0.00280 \t val_loss = 0.00576\n",
      "Epoch : 259/300 \t loss = 0.00281 \t val_loss = 0.00573\n",
      "Epoch : 260/300 \t loss = 0.00275 \t val_loss = 0.00575\n",
      "Epoch : 261/300 \t loss = 0.00276 \t val_loss = 0.00570\n",
      "Epoch : 262/300 \t loss = 0.00274 \t val_loss = 0.00570\n",
      "Epoch : 263/300 \t loss = 0.00275 \t val_loss = 0.00571\n",
      "Epoch : 264/300 \t loss = 0.00276 \t val_loss = 0.00571\n",
      "Epoch : 265/300 \t loss = 0.00277 \t val_loss = 0.00578\n",
      "Epoch : 266/300 \t loss = 0.00276 \t val_loss = 0.00578\n",
      "Epoch : 267/300 \t loss = 0.00275 \t val_loss = 0.00580\n",
      "Epoch : 268/300 \t loss = 0.00276 \t val_loss = 0.00582\n",
      "Epoch : 269/300 \t loss = 0.00273 \t val_loss = 0.00578\n",
      "Epoch : 270/300 \t loss = 0.00270 \t val_loss = 0.00578\n",
      "Epoch : 271/300 \t loss = 0.00272 \t val_loss = 0.00575\n",
      "Epoch : 272/300 \t loss = 0.00277 \t val_loss = 0.00581\n",
      "Epoch : 273/300 \t loss = 0.00271 \t val_loss = 0.00575\n",
      "Epoch : 274/300 \t loss = 0.00272 \t val_loss = 0.00576\n",
      "Epoch : 275/300 \t loss = 0.00273 \t val_loss = 0.00572\n",
      "Epoch : 276/300 \t loss = 0.00272 \t val_loss = 0.00573\n",
      "Epoch : 277/300 \t loss = 0.00270 \t val_loss = 0.00574\n",
      "Epoch : 278/300 \t loss = 0.00273 \t val_loss = 0.00573\n",
      "Epoch : 279/300 \t loss = 0.00270 \t val_loss = 0.00571\n",
      "Epoch : 280/300 \t loss = 0.00274 \t val_loss = 0.00569\n",
      "Epoch : 281/300 \t loss = 0.00271 \t val_loss = 0.00569\n",
      "Epoch : 282/300 \t loss = 0.00271 \t val_loss = 0.00571\n",
      "Epoch : 283/300 \t loss = 0.00277 \t val_loss = 0.00570\n",
      "Epoch : 284/300 \t loss = 0.00268 \t val_loss = 0.00570\n",
      "Epoch : 285/300 \t loss = 0.00273 \t val_loss = 0.00571\n",
      "Epoch : 286/300 \t loss = 0.00269 \t val_loss = 0.00574\n",
      "Epoch : 287/300 \t loss = 0.00271 \t val_loss = 0.00572\n",
      "Epoch : 288/300 \t loss = 0.00270 \t val_loss = 0.00574\n",
      "Epoch : 289/300 \t loss = 0.00272 \t val_loss = 0.00576\n",
      "Epoch : 290/300 \t loss = 0.00266 \t val_loss = 0.00572\n",
      "Epoch : 291/300 \t loss = 0.00271 \t val_loss = 0.00570\n",
      "Epoch : 292/300 \t loss = 0.00267 \t val_loss = 0.00570\n",
      "Epoch : 293/300 \t loss = 0.00267 \t val_loss = 0.00572\n",
      "Epoch : 294/300 \t loss = 0.00264 \t val_loss = 0.00574\n",
      "Epoch : 295/300 \t loss = 0.00270 \t val_loss = 0.00569\n",
      "Epoch : 296/300 \t loss = 0.00267 \t val_loss = 0.00569\n",
      "Epoch : 297/300 \t loss = 0.00266 \t val_loss = 0.00569\n",
      "Epoch : 298/300 \t loss = 0.00267 \t val_loss = 0.00570\n",
      "Epoch : 299/300 \t loss = 0.00267 \t val_loss = 0.00570\n"
     ]
    }
   ],
   "source": [
    "batch_size = 32\n",
    "n_train_batches = X.shape[0] // batch_size\n",
    "n_val_batches = X_val.shape[0] // batch_size\n",
    "n_epochs = 300\n",
    "losses = []\n",
    "val_losses = []\n",
    "\n",
    "for epoch in range(n_epochs):\n",
    "    \n",
    "    ae_model.train()\n",
    "    for batch_ind in range(n_train_batches):\n",
    "        \n",
    "        x = torch.Tensor(X[batch_ind * batch_size: (batch_ind + 1) * batch_size])\n",
    "        x = x.unsqueeze(1) if grayscale else x\n",
    "        reconstructed, _ = ae_model(x)\n",
    "        loss = ae_criterion(reconstructed, x)\n",
    "\n",
    "        \n",
    "        ae_optimizer.zero_grad()\n",
    "        loss.backward()\n",
    "        ae_optimizer.step()\n",
    "        \n",
    "    losses.append(loss.item())\n",
    "    \n",
    "    ae_model.eval()\n",
    "    with torch.no_grad():\n",
    "        val_loss = torch.Tensor([0])\n",
    "        for batch_ind in range(n_val_batches):\n",
    "            x = torch.Tensor(X_val[batch_ind * batch_size : (batch_ind + 1) * batch_size])\n",
    "            x = x.unsqueeze(1) if grayscale else x\n",
    "            reconstructed, _ = ae_model(x)\n",
    "            \n",
    "            val_loss += ae_criterion(reconstructed, x)\n",
    "            \n",
    "        \n",
    "        val_loss = val_loss.item() / n_val_batches\n",
    "        val_losses.append(val_loss)\n",
    "        print(f\"Epoch : {epoch}/{n_epochs} \\t loss = {losses[-1]:.5f} \\t val_loss = {val_loss:.5f}\")"
   ]
  },
  {
   "cell_type": "code",
   "execution_count": 120,
   "id": "749c91a4",
   "metadata": {},
   "outputs": [
    {
     "data": {
      "image/png": "[encoded data removed]",
      "text/plain": [
       "<Figure size 640x480 with 1 Axes>"
      ]
     },
     "metadata": {},
     "output_type": "display_data"
    }
   ],
   "source": [
    "plt.plot(losses)\n",
    "plt.plot(val_losses)\n",
    "\n",
    "plt.show()"
   ]
  },
  {
   "cell_type": "code",
   "execution_count": 127,
   "id": "6b7b689e",
   "metadata": {},
   "outputs": [
    {
     "data": {
      "image/png": "[encoded data removed]",
      "text/plain": [
       "<Figure size 800x400 with 2 Axes>"
      ]
     },
     "metadata": {},
     "output_type": "display_data"
    }
   ],
   "source": [
    "ae_model.eval()\n",
    "_x = torch.Tensor(X_val[random.randint(0, X_val.shape[0])]).unsqueeze(0)\n",
    "_x = _x.unsqueeze(1) if grayscale else _x\n",
    "_recon, latent = ae_model(_x)\n",
    "\n",
    "img = np.array(_x.squeeze().detach().numpy())\n",
    "recon_img = _recon.squeeze().detach().numpy()\n",
    "\n",
    "fig, axes = plt.subplots(1, 2, figsize=(8, 4))\n",
    "\n",
    "axes[0].imshow(img.T, cmap = 'gray' if grayscale else None)\n",
    "axes[1].imshow(recon_img.T, cmap = 'gray' if grayscale else None)\n",
    "\n",
    "plt.show()"
   ]
  },
  {
   "cell_type": "markdown",
   "id": "80acc76a",
   "metadata": {},
   "source": [
    "## Train AE (RGB)"
   ]
  },
  {
   "cell_type": "code",
   "execution_count": 138,
   "id": "91e3f66c",
   "metadata": {},
   "outputs": [],
   "source": [
    "s = 64\n",
    "grayscale = False\n",
    "\n",
    "X, y = generate_dataset(n = 3000, size = (s, s), square_size = (3, 16), grayscale = grayscale)\n",
    "X_val, y_val = generate_dataset(n = 512, size = (s, s), square_size = (3, 16), grayscale = grayscale)"
   ]
  },
  {
   "cell_type": "code",
   "execution_count": 139,
   "id": "4c9fffe8",
   "metadata": {},
   "outputs": [
    {
     "name": "stdout",
     "output_type": "stream",
     "text": [
      "conv2d_output_size : 62\n",
      "pooling_output_size : 31\n",
      "flatten_size : 23064\n"
     ]
    }
   ],
   "source": [
    "ae_model = Autoencoder(s,\n",
    "                       data_channels = 1 if grayscale else 3,\n",
    "                       conv_feature_maps = 24,\n",
    "                       stride_length = 1,\n",
    "                       fc_size = 64,\n",
    "                       latent_size = 24)"
   ]
  },
  {
   "cell_type": "code",
   "execution_count": 140,
   "id": "d6e56ab4",
   "metadata": {},
   "outputs": [],
   "source": [
    "ae_criterion = nn.MSELoss()\n",
    "ae_optimizer = optim.NAdam(ae_model.parameters(), lr = 1e-4)"
   ]
  },
  {
   "cell_type": "code",
   "execution_count": 163,
   "id": "fa808925",
   "metadata": {},
   "outputs": [
    {
     "name": "stdout",
     "output_type": "stream",
     "text": [
      "Epoch : 0/200 \t loss = 0.00116 \t val_loss = 0.00276\n",
      "Epoch : 1/200 \t loss = 0.00111 \t val_loss = 0.00272\n",
      "Epoch : 2/200 \t loss = 0.00110 \t val_loss = 0.00277\n",
      "Epoch : 3/200 \t loss = 0.00110 \t val_loss = 0.00276\n",
      "Epoch : 4/200 \t loss = 0.00108 \t val_loss = 0.00273\n",
      "Epoch : 5/200 \t loss = 0.00111 \t val_loss = 0.00272\n",
      "Epoch : 6/200 \t loss = 0.00109 \t val_loss = 0.00276\n",
      "Epoch : 7/200 \t loss = 0.00109 \t val_loss = 0.00278\n",
      "Epoch : 8/200 \t loss = 0.00107 \t val_loss = 0.00274\n",
      "Epoch : 9/200 \t loss = 0.00110 \t val_loss = 0.00271\n",
      "Epoch : 10/200 \t loss = 0.00110 \t val_loss = 0.00273\n",
      "Epoch : 11/200 \t loss = 0.00106 \t val_loss = 0.00275\n",
      "Epoch : 12/200 \t loss = 0.00105 \t val_loss = 0.00278\n",
      "Epoch : 13/200 \t loss = 0.00104 \t val_loss = 0.00277\n",
      "Epoch : 14/200 \t loss = 0.00102 \t val_loss = 0.00270\n",
      "Epoch : 15/200 \t loss = 0.00104 \t val_loss = 0.00268\n",
      "Epoch : 16/200 \t loss = 0.00103 \t val_loss = 0.00268\n",
      "Epoch : 17/200 \t loss = 0.00105 \t val_loss = 0.00272\n",
      "Epoch : 18/200 \t loss = 0.00104 \t val_loss = 0.00273\n",
      "Epoch : 19/200 \t loss = 0.00103 \t val_loss = 0.00271\n",
      "Epoch : 20/200 \t loss = 0.00103 \t val_loss = 0.00269\n",
      "Epoch : 21/200 \t loss = 0.00102 \t val_loss = 0.00274\n",
      "Epoch : 22/200 \t loss = 0.00101 \t val_loss = 0.00284\n",
      "Epoch : 23/200 \t loss = 0.00101 \t val_loss = 0.00278\n",
      "Epoch : 24/200 \t loss = 0.00100 \t val_loss = 0.00268\n",
      "Epoch : 25/200 \t loss = 0.00100 \t val_loss = 0.00263\n",
      "Epoch : 26/200 \t loss = 0.00102 \t val_loss = 0.00266\n",
      "Epoch : 27/200 \t loss = 0.00097 \t val_loss = 0.00271\n",
      "Epoch : 28/200 \t loss = 0.00100 \t val_loss = 0.00271\n",
      "Epoch : 29/200 \t loss = 0.00097 \t val_loss = 0.00272\n",
      "Epoch : 30/200 \t loss = 0.00096 \t val_loss = 0.00266\n",
      "Epoch : 31/200 \t loss = 0.00102 \t val_loss = 0.00273\n",
      "Epoch : 32/200 \t loss = 0.00099 \t val_loss = 0.00276\n",
      "Epoch : 33/200 \t loss = 0.00098 \t val_loss = 0.00274\n",
      "Epoch : 34/200 \t loss = 0.00097 \t val_loss = 0.00266\n",
      "Epoch : 35/200 \t loss = 0.00098 \t val_loss = 0.00268\n",
      "Epoch : 36/200 \t loss = 0.00096 \t val_loss = 0.00272\n",
      "Epoch : 37/200 \t loss = 0.00096 \t val_loss = 0.00271\n",
      "Epoch : 38/200 \t loss = 0.00097 \t val_loss = 0.00269\n",
      "Epoch : 39/200 \t loss = 0.00096 \t val_loss = 0.00264\n",
      "Epoch : 40/200 \t loss = 0.00096 \t val_loss = 0.00265\n",
      "Epoch : 41/200 \t loss = 0.00096 \t val_loss = 0.00271\n",
      "Epoch : 42/200 \t loss = 0.00093 \t val_loss = 0.00274\n",
      "Epoch : 43/200 \t loss = 0.00095 \t val_loss = 0.00270\n",
      "Epoch : 44/200 \t loss = 0.00094 \t val_loss = 0.00271\n",
      "Epoch : 45/200 \t loss = 0.00096 \t val_loss = 0.00279\n",
      "Epoch : 46/200 \t loss = 0.00093 \t val_loss = 0.00276\n"
     ]
    },
    {
     "ename": "KeyboardInterrupt",
     "evalue": "",
     "output_type": "error",
     "traceback": [
      "\u001b[1;31m---------------------------------------------------------------------------\u001b[0m",
      "\u001b[1;31mKeyboardInterrupt\u001b[0m                         Traceback (most recent call last)",
      "Cell \u001b[1;32mIn[163], line 20\u001b[0m\n\u001b[0;32m     16\u001b[0m     loss \u001b[38;5;241m=\u001b[39m ae_criterion(reconstructed, x)\n\u001b[0;32m     19\u001b[0m     ae_optimizer\u001b[38;5;241m.\u001b[39mzero_grad()\n\u001b[1;32m---> 20\u001b[0m     \u001b[43mloss\u001b[49m\u001b[38;5;241;43m.\u001b[39;49m\u001b[43mbackward\u001b[49m\u001b[43m(\u001b[49m\u001b[43m)\u001b[49m\n\u001b[0;32m     21\u001b[0m     ae_optimizer\u001b[38;5;241m.\u001b[39mstep()\n\u001b[0;32m     23\u001b[0m losses\u001b[38;5;241m.\u001b[39mappend(loss\u001b[38;5;241m.\u001b[39mitem())\n",
      "File \u001b[1;32m~\\AppData\\Local\\Programs\\Python\\Python310\\lib\\site-packages\\torch\\_tensor.py:488\u001b[0m, in \u001b[0;36mTensor.backward\u001b[1;34m(self, gradient, retain_graph, create_graph, inputs)\u001b[0m\n\u001b[0;32m    478\u001b[0m \u001b[38;5;28;01mif\u001b[39;00m has_torch_function_unary(\u001b[38;5;28mself\u001b[39m):\n\u001b[0;32m    479\u001b[0m     \u001b[38;5;28;01mreturn\u001b[39;00m handle_torch_function(\n\u001b[0;32m    480\u001b[0m         Tensor\u001b[38;5;241m.\u001b[39mbackward,\n\u001b[0;32m    481\u001b[0m         (\u001b[38;5;28mself\u001b[39m,),\n\u001b[1;32m   (...)\u001b[0m\n\u001b[0;32m    486\u001b[0m         inputs\u001b[38;5;241m=\u001b[39minputs,\n\u001b[0;32m    487\u001b[0m     )\n\u001b[1;32m--> 488\u001b[0m \u001b[43mtorch\u001b[49m\u001b[38;5;241;43m.\u001b[39;49m\u001b[43mautograd\u001b[49m\u001b[38;5;241;43m.\u001b[39;49m\u001b[43mbackward\u001b[49m\u001b[43m(\u001b[49m\n\u001b[0;32m    489\u001b[0m \u001b[43m    \u001b[49m\u001b[38;5;28;43mself\u001b[39;49m\u001b[43m,\u001b[49m\u001b[43m \u001b[49m\u001b[43mgradient\u001b[49m\u001b[43m,\u001b[49m\u001b[43m \u001b[49m\u001b[43mretain_graph\u001b[49m\u001b[43m,\u001b[49m\u001b[43m \u001b[49m\u001b[43mcreate_graph\u001b[49m\u001b[43m,\u001b[49m\u001b[43m \u001b[49m\u001b[43minputs\u001b[49m\u001b[38;5;241;43m=\u001b[39;49m\u001b[43minputs\u001b[49m\n\u001b[0;32m    490\u001b[0m \u001b[43m\u001b[49m\u001b[43m)\u001b[49m\n",
      "File \u001b[1;32m~\\AppData\\Local\\Programs\\Python\\Python310\\lib\\site-packages\\torch\\autograd\\__init__.py:197\u001b[0m, in \u001b[0;36mbackward\u001b[1;34m(tensors, grad_tensors, retain_graph, create_graph, grad_variables, inputs)\u001b[0m\n\u001b[0;32m    192\u001b[0m     retain_graph \u001b[38;5;241m=\u001b[39m create_graph\n\u001b[0;32m    194\u001b[0m \u001b[38;5;66;03m# The reason we repeat same the comment below is that\u001b[39;00m\n\u001b[0;32m    195\u001b[0m \u001b[38;5;66;03m# some Python versions print out the first line of a multi-line function\u001b[39;00m\n\u001b[0;32m    196\u001b[0m \u001b[38;5;66;03m# calls in the traceback and some print out the last line\u001b[39;00m\n\u001b[1;32m--> 197\u001b[0m \u001b[43mVariable\u001b[49m\u001b[38;5;241;43m.\u001b[39;49m\u001b[43m_execution_engine\u001b[49m\u001b[38;5;241;43m.\u001b[39;49m\u001b[43mrun_backward\u001b[49m\u001b[43m(\u001b[49m\u001b[43m  \u001b[49m\u001b[38;5;66;43;03m# Calls into the C++ engine to run the backward pass\u001b[39;49;00m\n\u001b[0;32m    198\u001b[0m \u001b[43m    \u001b[49m\u001b[43mtensors\u001b[49m\u001b[43m,\u001b[49m\u001b[43m \u001b[49m\u001b[43mgrad_tensors_\u001b[49m\u001b[43m,\u001b[49m\u001b[43m \u001b[49m\u001b[43mretain_graph\u001b[49m\u001b[43m,\u001b[49m\u001b[43m \u001b[49m\u001b[43mcreate_graph\u001b[49m\u001b[43m,\u001b[49m\u001b[43m \u001b[49m\u001b[43minputs\u001b[49m\u001b[43m,\u001b[49m\n\u001b[0;32m    199\u001b[0m \u001b[43m    \u001b[49m\u001b[43mallow_unreachable\u001b[49m\u001b[38;5;241;43m=\u001b[39;49m\u001b[38;5;28;43;01mTrue\u001b[39;49;00m\u001b[43m,\u001b[49m\u001b[43m \u001b[49m\u001b[43maccumulate_grad\u001b[49m\u001b[38;5;241;43m=\u001b[39;49m\u001b[38;5;28;43;01mTrue\u001b[39;49;00m\u001b[43m)\u001b[49m\n",
      "\u001b[1;31mKeyboardInterrupt\u001b[0m: "
     ]
    }
   ],
   "source": [
    "batch_size = 32\n",
    "n_train_batches = X.shape[0] // batch_size\n",
    "n_val_batches = X_val.shape[0] // batch_size\n",
    "n_epochs = 200\n",
    "losses = []\n",
    "val_losses = []\n",
    "\n",
    "for epoch in range(n_epochs):\n",
    "    \n",
    "    ae_model.train()\n",
    "    for batch_ind in range(n_train_batches):\n",
    "        \n",
    "        x = torch.Tensor(X[batch_ind * batch_size: (batch_ind + 1) * batch_size])\n",
    "        x = x.unsqueeze(1) if grayscale else x\n",
    "        reconstructed, _ = ae_model(x)\n",
    "        loss = ae_criterion(reconstructed, x)\n",
    "\n",
    "        \n",
    "        ae_optimizer.zero_grad()\n",
    "        loss.backward()\n",
    "        ae_optimizer.step()\n",
    "        \n",
    "    losses.append(loss.item())\n",
    "    \n",
    "    ae_model.eval()\n",
    "    with torch.no_grad():\n",
    "        val_loss = torch.Tensor([0])\n",
    "        for batch_ind in range(n_val_batches):\n",
    "            x = torch.Tensor(X_val[batch_ind * batch_size : (batch_ind + 1) * batch_size])\n",
    "            x = x.unsqueeze(1) if grayscale else x\n",
    "            reconstructed, _ = ae_model(x)\n",
    "            \n",
    "            val_loss += ae_criterion(reconstructed, x)\n",
    "            \n",
    "        \n",
    "        val_loss = val_loss.item() / n_val_batches\n",
    "        val_losses.append(val_loss)\n",
    "        print(f\"Epoch : {epoch}/{n_epochs} \\t loss = {losses[-1]:.5f} \\t val_loss = {val_loss:.5f}\")"
   ]
  },
  {
   "cell_type": "code",
   "execution_count": 164,
   "id": "5e4957af",
   "metadata": {},
   "outputs": [
    {
     "data": {
      "image/png": "[encoded data removed]",
      "text/plain": [
       "<Figure size 640x480 with 1 Axes>"
      ]
     },
     "metadata": {},
     "output_type": "display_data"
    }
   ],
   "source": [
    "plt.plot(losses)\n",
    "plt.plot(val_losses)\n",
    "\n",
    "plt.show()"
   ]
  },
  {
   "cell_type": "code",
   "execution_count": 167,
   "id": "1b17dc38",
   "metadata": {},
   "outputs": [
    {
     "data": {
      "image/png": "[encoded data removed]",
      "text/plain": [
       "<Figure size 800x400 with 2 Axes>"
      ]
     },
     "metadata": {},
     "output_type": "display_data"
    }
   ],
   "source": [
    "ae_model.eval()\n",
    "_x = torch.Tensor(X_val[random.randint(0, X_val.shape[0])]).unsqueeze(0)\n",
    "_x = _x.unsqueeze(1) if grayscale else _x\n",
    "_recon, latent = ae_model(_x)\n",
    "\n",
    "img = np.array(_x.squeeze().detach().numpy())\n",
    "recon_img = _recon.squeeze().detach().numpy()\n",
    "\n",
    "fig, axes = plt.subplots(1, 2, figsize=(8, 4))\n",
    "\n",
    "axes[0].imshow(img.T, cmap = 'gray' if grayscale else None)\n",
    "axes[1].imshow(recon_img.T, cmap = 'gray' if grayscale else None)\n",
    "\n",
    "plt.show()"
   ]
  },
  {
   "cell_type": "code",
   "execution_count": 174,
   "id": "6fddd3f8",
   "metadata": {},
   "outputs": [
    {
     "data": {
      "image/png": "[encoded data removed]",
      "text/plain": [
       "<Figure size 800x400 with 2 Axes>"
      ]
     },
     "metadata": {},
     "output_type": "display_data"
    }
   ],
   "source": [
    "ae_model.eval()\n",
    "_x = torch.Tensor(generate_datapoint(size=(64, 64), square_size=(3, 16), grayscale=False)[0]).unsqueeze(0)\n",
    "_x = _x.unsqueeze(1) if grayscale else _x\n",
    "_recon, latent = ae_model(_x)\n",
    "\n",
    "img = np.array(_x.squeeze().detach().numpy())\n",
    "recon_img = _recon.squeeze().detach().numpy()\n",
    "\n",
    "fig, axes = plt.subplots(1, 2, figsize=(8, 4))\n",
    "\n",
    "axes[0].imshow(img.T, cmap = 'gray' if grayscale else None)\n",
    "axes[1].imshow(recon_img.T, cmap = 'gray' if grayscale else None)\n",
    "\n",
    "plt.show()"
   ]
  },
  {
   "cell_type": "markdown",
   "id": "a39dec58",
   "metadata": {},
   "source": [
    "## Scratch Area"
   ]
  },
  {
   "cell_type": "code",
   "execution_count": 153,
   "id": "bab50fea",
   "metadata": {},
   "outputs": [
    {
     "data": {
      "text/plain": [
       "torch.Size([32, 1, 32, 32])"
      ]
     },
     "execution_count": 153,
     "metadata": {},
     "output_type": "execute_result"
    }
   ],
   "source": [
    "torch.Tensor(X[32:64]).unsqueeze(1).shape"
   ]
  },
  {
   "cell_type": "code",
   "execution_count": 198,
   "id": "6042a377",
   "metadata": {},
   "outputs": [
    {
     "data": {
      "text/plain": [
       "0.0465235710144043"
      ]
     },
     "execution_count": 198,
     "metadata": {},
     "output_type": "execute_result"
    }
   ],
   "source": [
    "ae_criterion(torch.Tensor(X[0:batch_size]).unsqueeze(1).flatten(), torch.Tensor(X[batch_size:batch_size*2]).unsqueeze(1).flatten())"
   ]
  },
  {
   "cell_type": "code",
   "execution_count": 85,
   "id": "b69c325a",
   "metadata": {},
   "outputs": [
    {
     "data": {
      "text/plain": [
       "<matplotlib.image.AxesImage at 0x28fc8cbb100>"
      ]
     },
     "execution_count": 85,
     "metadata": {},
     "output_type": "execute_result"
    },
    {
     "data": {
      "image/png": "[encoded data removed]",
      "text/plain": [
       "<Figure size 640x480 with 1 Axes>"
      ]
     },
     "metadata": {},
     "output_type": "display_data"
    }
   ],
   "source": [
    "# x = np.ones((28, 28), dtype = np.uint8) * 255\n",
    "# plt.imshow(x, cmap='gray', vmin=0, vmax=255)\n",
    "\n",
    "\n",
    "x = np.ones((28, 28)) * np.random.uniform(size = (28, 28)) * 255\n",
    "plt.imshow(x, cmap = 'gray')"
   ]
  }
 ],
 "metadata": {
  "kernelspec": {
   "display_name": "Python 3 (ipykernel)",
   "language": "python",
   "name": "python3"
  },
  "language_info": {
   "codemirror_mode": {
    "name": "ipython",
    "version": 3
   },
   "file_extension": ".py",
   "mimetype": "text/x-python",
   "name": "python",
   "nbconvert_exporter": "python",
   "pygments_lexer": "ipython3",
   "version": "3.10.0"
  }
 },
 "nbformat": 4,
 "nbformat_minor": 5
}
